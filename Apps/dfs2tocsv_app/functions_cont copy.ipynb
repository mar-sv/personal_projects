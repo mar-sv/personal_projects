{
 "cells": [
  {
   "cell_type": "code",
   "execution_count": 2,
   "metadata": {},
   "outputs": [],
   "source": [
    "import mikeio as mi\n",
    "import pandas as pd\n",
    "import numpy as np\n",
    "import matplotlib.pyplot as plt\n",
    "import geopandas as gdp\n",
    "from shapely.geometry import Point, LineString\n",
    "import sys\n",
    "from math import atan2, degrees, hypot\n",
    "import shapely.wkt\n",
    "import shapely.ops\n",
    "\n",
    "def reverse_geom(geom):\n",
    "    def _reverse(x, y, z=None):\n",
    "        if z:\n",
    "            return x[::-1], y[::-1], z[::-1]\n",
    "        return x[::-1], y[::-1]\n",
    "\n",
    "    return shapely.ops.transform(_reverse, geom)\n",
    "\n",
    "def get_grid_size(ds):\n",
    "    # Check if quadratic grid\n",
    "    if ds.geometry.dx != ds.geometry.dy:\n",
    "        print('The grid is not quadratic. This might cause insufficient results')\n",
    "    return ds.geometry.dx\n",
    "\n",
    "\n",
    "def AngleBtw2Points(pointA, pointB):\n",
    "    changeInX = pointB[0] - pointA[0]\n",
    "    changeInY = pointB[1] - pointA[1]\n",
    "    return degrees(atan2(changeInY, changeInX))\n",
    "\n",
    "def get_values_for_linestring(grid_size, ds, geometry_row):\n",
    "\n",
    "    # Number of points in the polyline\n",
    "    num_coords = len(geometry_row.coords)\n",
    "\n",
    "    # Convert gridsize to integer\n",
    "    grid_size = int(grid_size)\n",
    "\n",
    "    # Loop through each coordinate, create a new polyline for each and extract result\n",
    "    for j in range(1, num_coords):\n",
    "\n",
    "        # Define start and end coordinates\n",
    "        starting_coord = geometry_row.coords[j-1]\n",
    "        end_coord = geometry_row.coords[j]\n",
    "\n",
    "        # If this is the first coordinate in the linestring, create a new result_df that will later be concatenated with the other ones.\n",
    "        val_dict = {}\n",
    "        if j == 1:\n",
    "            # Extract results\n",
    "            point_array = ds.sel(x=starting_coord[0], y=starting_coord[1])\n",
    "            time = point_array.time\n",
    "            items = point_array.items\n",
    "            val_dict['time'] = time\n",
    "\n",
    "            # Extract results for each item in the dfs2\n",
    "            for item in items:\n",
    "                val_1 = point_array[item].values\n",
    "                val_dict[str(item)] = val_1\n",
    "            df_result = pd.DataFrame(index=time, data=val_dict)\n",
    "        # Round the length of the line to closest integer and convert\n",
    "        length_of_line = int(\n",
    "            np.round(Point(starting_coord).distance(Point(end_coord)), 0))\n",
    "\n",
    "        # Create new LineString of new coordinates\n",
    "        sub_line = LineString([starting_coord, end_coord])\n",
    "        df_dict = {}\n",
    "\n",
    "        # Loop thorugh the values in the dfs2 file, with the step size equivalent to the gridsize\n",
    "        for i in range(0, length_of_line, grid_size):\n",
    "\n",
    "            # Reset the values dictionary\n",
    "            val_dict = {}\n",
    "\n",
    "            # Get coordinates of point with i distance from start coordinate\n",
    "            ip = sub_line.interpolate(distance=i)\n",
    "\n",
    "            # Extract results from point\n",
    "            point_array = ds.sel(x=ip.coords[0][0], y=ip.coords[0][1])\n",
    "            time = point_array.time\n",
    "            items = point_array.items\n",
    "            val_dict['time'] = time\n",
    "\n",
    "            # Extract results for each item in the dfs2\n",
    "            for item in items:\n",
    "                val_1 = point_array[item].values\n",
    "                val_dict[str(item)] = val_1\n",
    "\n",
    "            # Concatenate the results of the new coordinate to result_df. Note that here they are concatenated vertically\n",
    "            # The vertical concatenation will be later dissolved using the groupby argument (for the time column) and taken as mean\n",
    "            df_next_coord = pd.DataFrame(index=time, data=val_dict)\n",
    "            df_result = pd.concat([df_result, df_next_coord])\n",
    "\n",
    "    # df_result = df_result.groupby('time', as_index=False).mean()\n",
    "    # For swedish users, the , is the default separator, instead of . (This is a feature requested by the user)\n",
    "    columns = df_result.columns\n",
    "    # for col in columns:\n",
    "    #    df_result[col] = df_result[col].astype(\n",
    "    #        str).str.replace('.', ',', regex=False)\n",
    "\n",
    "    return df_result\n",
    "\n",
    "\n",
    "def dfs2tocsv(filepath_ds, filepath_shape):\n",
    "\n",
    "    # Check whether it is a dfs2 file or not\n",
    "    if filepath_ds[-4:] != 'dfs2':\n",
    "        print(\"Please pick a dfs2 file\")\n",
    "        return False\n",
    "\n",
    "    # Read dfs2\n",
    "    ds = mi.read(filepath_ds)\n",
    "\n",
    "    # Check whether it is a shp file or not\n",
    "    if filepath_shape[-3:] != 'shp':\n",
    "        print(\"Please pick a shapefile\")\n",
    "        return False\n",
    "\n",
    "    # Read shapefile\n",
    "    shape_df = gdp.read_file(filepath_shape)\n",
    "\n",
    "    # Check whether the file is a Polyline\n",
    "    if not isinstance(shape_df['geometry'][0], LineString):\n",
    "        print('The file is not a Polyline, please specify a PolyLine instead.')\n",
    "        return False\n",
    "\n",
    "    # Get grid size\n",
    "    grid_size = get_grid_size(ds)\n",
    "\n",
    "    # Dictionary with results\n",
    "    df_dict = {}\n",
    "\n",
    "    # Loop through df with the shapefile and save the results\n",
    "    for index, row in shape_df.iterrows():\n",
    "\n",
    "        # Check direction. The calculations should always be done from left to right.\n",
    "        first_coord = row['geometry'].coords[0]\n",
    "        last_coord = row['geometry'].coords[len(row['geometry'].coords)-1]\n",
    "        angle = AngleBtw2Points(first_coord,last_coord)\n",
    "\n",
    "        #If angle is in the second or third quadrant, the general direction is right, so it must be reversed \n",
    "        if (angle>90) | (angle<-90):\n",
    "            row['geometry'] = reverse_geom(row['geometry'])\n",
    "            print('The general directions is right')\n",
    "        df_dict[index] = get_values_for_linestring(\n",
    "            grid_size, ds, row['geometry'])\n",
    "\n",
    "    # Create a multilevel indexed dataframe for easier read in the csv format (requested by users)\n",
    "    resultant_df = pd.concat(df_dict.values(), axis=1, keys=df_dict.keys())\n",
    "    # resultant_df.to_csv(output_dir_and_name, sep=';')\n",
    "    return resultant_df\n",
    "\n",
    "\n",
    "# if __name__ == '__main__':\n",
    "#    dfs2tocsv(sys.argv[1], sys.argv[2], sys.argv[3])\n"
   ]
  },
  {
   "cell_type": "code",
   "execution_count": 3,
   "metadata": {},
   "outputs": [],
   "source": [
    "filepath_ds = r'C:\\Project folder\\python_specialuppdrag\\MASV specialuppdrag\\06_Linnestaden_HPQ.dfs2'\n",
    "filepath_shp = r'C:\\Project folder\\python_specialuppdrag\\MASV specialuppdrag\\endast_en.shp'\n",
    "#test = dfs2tocsv(filepath_ds,filepath_shp)\n",
    "ds = mi.read(filepath_ds)\n",
    "shape_df = gdp.read_file(filepath_shp)\n",
    "grid_size= get_grid_size(ds)\n",
    "test = get_values_for_linestring(grid_size, ds, shape_df['geometry'][0])\n",
    "#test_df = dfs2tocsv(filepath_ds,filepath_shp)"
   ]
  },
  {
   "cell_type": "code",
   "execution_count": 4,
   "metadata": {},
   "outputs": [
    {
     "data": {
      "text/html": [
       "<div>\n",
       "<style scoped>\n",
       "    .dataframe tbody tr th:only-of-type {\n",
       "        vertical-align: middle;\n",
       "    }\n",
       "\n",
       "    .dataframe tbody tr th {\n",
       "        vertical-align: top;\n",
       "    }\n",
       "\n",
       "    .dataframe thead th {\n",
       "        text-align: right;\n",
       "    }\n",
       "</style>\n",
       "<table border=\"1\" class=\"dataframe\">\n",
       "  <thead>\n",
       "    <tr style=\"text-align: right;\">\n",
       "      <th></th>\n",
       "      <th>time</th>\n",
       "      <th>Total water depth &lt;Water Depth&gt; (meter)</th>\n",
       "      <th>P flux &lt;Flow Flux&gt; (meter pow 3 per sec per meter)</th>\n",
       "      <th>Q flux &lt;Flow Flux&gt; (meter pow 3 per sec per meter)</th>\n",
       "    </tr>\n",
       "  </thead>\n",
       "  <tbody>\n",
       "    <tr>\n",
       "      <th>2014-07-26 17:45:00</th>\n",
       "      <td>2014-07-26 17:45:00</td>\n",
       "      <td>0.000000</td>\n",
       "      <td>0.000000e+00</td>\n",
       "      <td>0.000000e+00</td>\n",
       "    </tr>\n",
       "    <tr>\n",
       "      <th>2014-07-26 17:50:00</th>\n",
       "      <td>2014-07-26 17:50:00</td>\n",
       "      <td>0.001721</td>\n",
       "      <td>0.000000e+00</td>\n",
       "      <td>0.000000e+00</td>\n",
       "    </tr>\n",
       "    <tr>\n",
       "      <th>2014-07-26 17:55:00</th>\n",
       "      <td>2014-07-26 17:55:00</td>\n",
       "      <td>0.002221</td>\n",
       "      <td>0.000000e+00</td>\n",
       "      <td>0.000000e+00</td>\n",
       "    </tr>\n",
       "    <tr>\n",
       "      <th>2014-07-26 18:00:00</th>\n",
       "      <td>2014-07-26 18:00:00</td>\n",
       "      <td>0.002575</td>\n",
       "      <td>0.000000e+00</td>\n",
       "      <td>0.000000e+00</td>\n",
       "    </tr>\n",
       "    <tr>\n",
       "      <th>2014-07-26 18:05:00</th>\n",
       "      <td>2014-07-26 18:05:00</td>\n",
       "      <td>0.002181</td>\n",
       "      <td>7.050004e-11</td>\n",
       "      <td>-4.344904e-15</td>\n",
       "    </tr>\n",
       "    <tr>\n",
       "      <th>...</th>\n",
       "      <td>...</td>\n",
       "      <td>...</td>\n",
       "      <td>...</td>\n",
       "      <td>...</td>\n",
       "    </tr>\n",
       "    <tr>\n",
       "      <th>2014-07-27 05:40:00</th>\n",
       "      <td>2014-07-27 05:40:00</td>\n",
       "      <td>0.000562</td>\n",
       "      <td>0.000000e+00</td>\n",
       "      <td>0.000000e+00</td>\n",
       "    </tr>\n",
       "    <tr>\n",
       "      <th>2014-07-27 05:45:00</th>\n",
       "      <td>2014-07-27 05:45:00</td>\n",
       "      <td>0.000562</td>\n",
       "      <td>0.000000e+00</td>\n",
       "      <td>0.000000e+00</td>\n",
       "    </tr>\n",
       "    <tr>\n",
       "      <th>2014-07-27 05:50:00</th>\n",
       "      <td>2014-07-27 05:50:00</td>\n",
       "      <td>0.000562</td>\n",
       "      <td>0.000000e+00</td>\n",
       "      <td>0.000000e+00</td>\n",
       "    </tr>\n",
       "    <tr>\n",
       "      <th>2014-07-27 05:55:00</th>\n",
       "      <td>2014-07-27 05:55:00</td>\n",
       "      <td>0.000562</td>\n",
       "      <td>0.000000e+00</td>\n",
       "      <td>0.000000e+00</td>\n",
       "    </tr>\n",
       "    <tr>\n",
       "      <th>2014-07-27 06:00:00</th>\n",
       "      <td>2014-07-27 06:00:00</td>\n",
       "      <td>0.000562</td>\n",
       "      <td>0.000000e+00</td>\n",
       "      <td>0.000000e+00</td>\n",
       "    </tr>\n",
       "  </tbody>\n",
       "</table>\n",
       "<p>2072 rows × 4 columns</p>\n",
       "</div>"
      ],
      "text/plain": [
       "                                   time  \\\n",
       "2014-07-26 17:45:00 2014-07-26 17:45:00   \n",
       "2014-07-26 17:50:00 2014-07-26 17:50:00   \n",
       "2014-07-26 17:55:00 2014-07-26 17:55:00   \n",
       "2014-07-26 18:00:00 2014-07-26 18:00:00   \n",
       "2014-07-26 18:05:00 2014-07-26 18:05:00   \n",
       "...                                 ...   \n",
       "2014-07-27 05:40:00 2014-07-27 05:40:00   \n",
       "2014-07-27 05:45:00 2014-07-27 05:45:00   \n",
       "2014-07-27 05:50:00 2014-07-27 05:50:00   \n",
       "2014-07-27 05:55:00 2014-07-27 05:55:00   \n",
       "2014-07-27 06:00:00 2014-07-27 06:00:00   \n",
       "\n",
       "                     Total water depth <Water Depth> (meter)  \\\n",
       "2014-07-26 17:45:00                                 0.000000   \n",
       "2014-07-26 17:50:00                                 0.001721   \n",
       "2014-07-26 17:55:00                                 0.002221   \n",
       "2014-07-26 18:00:00                                 0.002575   \n",
       "2014-07-26 18:05:00                                 0.002181   \n",
       "...                                                      ...   \n",
       "2014-07-27 05:40:00                                 0.000562   \n",
       "2014-07-27 05:45:00                                 0.000562   \n",
       "2014-07-27 05:50:00                                 0.000562   \n",
       "2014-07-27 05:55:00                                 0.000562   \n",
       "2014-07-27 06:00:00                                 0.000562   \n",
       "\n",
       "                     P flux <Flow Flux> (meter pow 3 per sec per meter)  \\\n",
       "2014-07-26 17:45:00                                       0.000000e+00    \n",
       "2014-07-26 17:50:00                                       0.000000e+00    \n",
       "2014-07-26 17:55:00                                       0.000000e+00    \n",
       "2014-07-26 18:00:00                                       0.000000e+00    \n",
       "2014-07-26 18:05:00                                       7.050004e-11    \n",
       "...                                                                ...    \n",
       "2014-07-27 05:40:00                                       0.000000e+00    \n",
       "2014-07-27 05:45:00                                       0.000000e+00    \n",
       "2014-07-27 05:50:00                                       0.000000e+00    \n",
       "2014-07-27 05:55:00                                       0.000000e+00    \n",
       "2014-07-27 06:00:00                                       0.000000e+00    \n",
       "\n",
       "                     Q flux <Flow Flux> (meter pow 3 per sec per meter)  \n",
       "2014-07-26 17:45:00                                       0.000000e+00   \n",
       "2014-07-26 17:50:00                                       0.000000e+00   \n",
       "2014-07-26 17:55:00                                       0.000000e+00   \n",
       "2014-07-26 18:00:00                                       0.000000e+00   \n",
       "2014-07-26 18:05:00                                      -4.344904e-15   \n",
       "...                                                                ...   \n",
       "2014-07-27 05:40:00                                       0.000000e+00   \n",
       "2014-07-27 05:45:00                                       0.000000e+00   \n",
       "2014-07-27 05:50:00                                       0.000000e+00   \n",
       "2014-07-27 05:55:00                                       0.000000e+00   \n",
       "2014-07-27 06:00:00                                       0.000000e+00   \n",
       "\n",
       "[2072 rows x 4 columns]"
      ]
     },
     "execution_count": 4,
     "metadata": {},
     "output_type": "execute_result"
    }
   ],
   "source": [
    "test"
   ]
  },
  {
   "cell_type": "code",
   "execution_count": 67,
   "metadata": {},
   "outputs": [],
   "source": [
    "from math import atan2,degrees\n",
    "line = shape_df['geometry'][0]\n",
    "lineList = list(line.coords)\n",
    "\n",
    "def AngleBtw2Points(pointA, pointB):\n",
    "  changeInX = pointB[0] - pointA[0]\n",
    "  changeInY = pointB[1] - pointA[1]\n",
    "  return degrees(atan2(changeInY,changeInX)) #remove degrees if you want your answer in radians\n",
    "\n",
    "angle_line = AngleBtw2Points(lineList[0],lineList[1])\n",
    "perpendicular_line = angle_line+90"
   ]
  },
  {
   "cell_type": "code",
   "execution_count": 30,
   "metadata": {},
   "outputs": [
    {
     "data": {
      "text/plain": [
       "time                                                  2014-07-26 18:45:00\n",
       "Total water depth <Water Depth> (meter)                           2.16943\n",
       "P flux <Flow Flux> (meter pow 3 per sec per meter)              -0.096181\n",
       "Q flux <Flow Flux> (meter pow 3 per sec per meter)               0.239225\n",
       "Name: 2014-07-26 18:45:00, dtype: object"
      ]
     },
     "execution_count": 30,
     "metadata": {},
     "output_type": "execute_result"
    }
   ],
   "source": [
    "x = test.iloc[900,2]\n",
    "y = test.iloc[900,3]\n",
    "test.iloc[900]"
   ]
  },
  {
   "cell_type": "code",
   "execution_count": 31,
   "metadata": {},
   "outputs": [],
   "source": [
    "from math import hypot"
   ]
  },
  {
   "cell_type": "code",
   "execution_count": 32,
   "metadata": {},
   "outputs": [
    {
     "data": {
      "text/plain": [
       "0.2578364273676064"
      ]
     },
     "execution_count": 32,
     "metadata": {},
     "output_type": "execute_result"
    }
   ],
   "source": [
    "hypot(x,y)\n",
    "degrees(atan2(x,y))"
   ]
  },
  {
   "cell_type": "code",
   "execution_count": 12,
   "metadata": {},
   "outputs": [],
   "source": [
    "test['Resultant_flow'] = test.apply(lambda x: hypot(x['P flux <Flow Flux> (meter pow 3 per sec per meter)'],x['Q flux <Flow Flux> (meter pow 3 per sec per meter)']),axis=1)\n",
    "test['degrees'] = test.apply(lambda x:degrees(atan2(x['P flux <Flow Flux> (meter pow 3 per sec per meter)'],x['Q flux <Flow Flux> (meter pow 3 per sec per meter)'])),axis=1)"
   ]
  },
  {
   "cell_type": "code",
   "execution_count": 13,
   "metadata": {},
   "outputs": [
    {
     "data": {
      "text/html": [
       "<div>\n",
       "<style scoped>\n",
       "    .dataframe tbody tr th:only-of-type {\n",
       "        vertical-align: middle;\n",
       "    }\n",
       "\n",
       "    .dataframe tbody tr th {\n",
       "        vertical-align: top;\n",
       "    }\n",
       "\n",
       "    .dataframe thead th {\n",
       "        text-align: right;\n",
       "    }\n",
       "</style>\n",
       "<table border=\"1\" class=\"dataframe\">\n",
       "  <thead>\n",
       "    <tr style=\"text-align: right;\">\n",
       "      <th></th>\n",
       "      <th>time</th>\n",
       "      <th>Total water depth &lt;Water Depth&gt; (meter)</th>\n",
       "      <th>P flux &lt;Flow Flux&gt; (meter pow 3 per sec per meter)</th>\n",
       "      <th>Q flux &lt;Flow Flux&gt; (meter pow 3 per sec per meter)</th>\n",
       "      <th>hypot</th>\n",
       "      <th>degrees</th>\n",
       "      <th>Resultant_flow</th>\n",
       "    </tr>\n",
       "  </thead>\n",
       "  <tbody>\n",
       "    <tr>\n",
       "      <th>2014-07-26 17:45:00</th>\n",
       "      <td>2014-07-26 17:45:00</td>\n",
       "      <td>0.000000</td>\n",
       "      <td>0.000000e+00</td>\n",
       "      <td>0.000000e+00</td>\n",
       "      <td>0.000000e+00</td>\n",
       "      <td>0.000000</td>\n",
       "      <td>0.000000e+00</td>\n",
       "    </tr>\n",
       "    <tr>\n",
       "      <th>2014-07-26 17:50:00</th>\n",
       "      <td>2014-07-26 17:50:00</td>\n",
       "      <td>0.001721</td>\n",
       "      <td>0.000000e+00</td>\n",
       "      <td>0.000000e+00</td>\n",
       "      <td>0.000000e+00</td>\n",
       "      <td>0.000000</td>\n",
       "      <td>0.000000e+00</td>\n",
       "    </tr>\n",
       "    <tr>\n",
       "      <th>2014-07-26 17:55:00</th>\n",
       "      <td>2014-07-26 17:55:00</td>\n",
       "      <td>0.002221</td>\n",
       "      <td>0.000000e+00</td>\n",
       "      <td>0.000000e+00</td>\n",
       "      <td>0.000000e+00</td>\n",
       "      <td>0.000000</td>\n",
       "      <td>0.000000e+00</td>\n",
       "    </tr>\n",
       "    <tr>\n",
       "      <th>2014-07-26 18:00:00</th>\n",
       "      <td>2014-07-26 18:00:00</td>\n",
       "      <td>0.002575</td>\n",
       "      <td>0.000000e+00</td>\n",
       "      <td>0.000000e+00</td>\n",
       "      <td>0.000000e+00</td>\n",
       "      <td>0.000000</td>\n",
       "      <td>0.000000e+00</td>\n",
       "    </tr>\n",
       "    <tr>\n",
       "      <th>2014-07-26 18:05:00</th>\n",
       "      <td>2014-07-26 18:05:00</td>\n",
       "      <td>0.002181</td>\n",
       "      <td>7.050004e-11</td>\n",
       "      <td>-4.344904e-15</td>\n",
       "      <td>7.050004e-11</td>\n",
       "      <td>90.003531</td>\n",
       "      <td>7.050004e-11</td>\n",
       "    </tr>\n",
       "    <tr>\n",
       "      <th>...</th>\n",
       "      <td>...</td>\n",
       "      <td>...</td>\n",
       "      <td>...</td>\n",
       "      <td>...</td>\n",
       "      <td>...</td>\n",
       "      <td>...</td>\n",
       "      <td>...</td>\n",
       "    </tr>\n",
       "    <tr>\n",
       "      <th>2014-07-27 05:40:00</th>\n",
       "      <td>2014-07-27 05:40:00</td>\n",
       "      <td>0.000562</td>\n",
       "      <td>0.000000e+00</td>\n",
       "      <td>0.000000e+00</td>\n",
       "      <td>0.000000e+00</td>\n",
       "      <td>0.000000</td>\n",
       "      <td>0.000000e+00</td>\n",
       "    </tr>\n",
       "    <tr>\n",
       "      <th>2014-07-27 05:45:00</th>\n",
       "      <td>2014-07-27 05:45:00</td>\n",
       "      <td>0.000562</td>\n",
       "      <td>0.000000e+00</td>\n",
       "      <td>0.000000e+00</td>\n",
       "      <td>0.000000e+00</td>\n",
       "      <td>0.000000</td>\n",
       "      <td>0.000000e+00</td>\n",
       "    </tr>\n",
       "    <tr>\n",
       "      <th>2014-07-27 05:50:00</th>\n",
       "      <td>2014-07-27 05:50:00</td>\n",
       "      <td>0.000562</td>\n",
       "      <td>0.000000e+00</td>\n",
       "      <td>0.000000e+00</td>\n",
       "      <td>0.000000e+00</td>\n",
       "      <td>0.000000</td>\n",
       "      <td>0.000000e+00</td>\n",
       "    </tr>\n",
       "    <tr>\n",
       "      <th>2014-07-27 05:55:00</th>\n",
       "      <td>2014-07-27 05:55:00</td>\n",
       "      <td>0.000562</td>\n",
       "      <td>0.000000e+00</td>\n",
       "      <td>0.000000e+00</td>\n",
       "      <td>0.000000e+00</td>\n",
       "      <td>0.000000</td>\n",
       "      <td>0.000000e+00</td>\n",
       "    </tr>\n",
       "    <tr>\n",
       "      <th>2014-07-27 06:00:00</th>\n",
       "      <td>2014-07-27 06:00:00</td>\n",
       "      <td>0.000562</td>\n",
       "      <td>0.000000e+00</td>\n",
       "      <td>0.000000e+00</td>\n",
       "      <td>0.000000e+00</td>\n",
       "      <td>0.000000</td>\n",
       "      <td>0.000000e+00</td>\n",
       "    </tr>\n",
       "  </tbody>\n",
       "</table>\n",
       "<p>2072 rows × 7 columns</p>\n",
       "</div>"
      ],
      "text/plain": [
       "                                   time  \\\n",
       "2014-07-26 17:45:00 2014-07-26 17:45:00   \n",
       "2014-07-26 17:50:00 2014-07-26 17:50:00   \n",
       "2014-07-26 17:55:00 2014-07-26 17:55:00   \n",
       "2014-07-26 18:00:00 2014-07-26 18:00:00   \n",
       "2014-07-26 18:05:00 2014-07-26 18:05:00   \n",
       "...                                 ...   \n",
       "2014-07-27 05:40:00 2014-07-27 05:40:00   \n",
       "2014-07-27 05:45:00 2014-07-27 05:45:00   \n",
       "2014-07-27 05:50:00 2014-07-27 05:50:00   \n",
       "2014-07-27 05:55:00 2014-07-27 05:55:00   \n",
       "2014-07-27 06:00:00 2014-07-27 06:00:00   \n",
       "\n",
       "                     Total water depth <Water Depth> (meter)  \\\n",
       "2014-07-26 17:45:00                                 0.000000   \n",
       "2014-07-26 17:50:00                                 0.001721   \n",
       "2014-07-26 17:55:00                                 0.002221   \n",
       "2014-07-26 18:00:00                                 0.002575   \n",
       "2014-07-26 18:05:00                                 0.002181   \n",
       "...                                                      ...   \n",
       "2014-07-27 05:40:00                                 0.000562   \n",
       "2014-07-27 05:45:00                                 0.000562   \n",
       "2014-07-27 05:50:00                                 0.000562   \n",
       "2014-07-27 05:55:00                                 0.000562   \n",
       "2014-07-27 06:00:00                                 0.000562   \n",
       "\n",
       "                     P flux <Flow Flux> (meter pow 3 per sec per meter)  \\\n",
       "2014-07-26 17:45:00                                       0.000000e+00    \n",
       "2014-07-26 17:50:00                                       0.000000e+00    \n",
       "2014-07-26 17:55:00                                       0.000000e+00    \n",
       "2014-07-26 18:00:00                                       0.000000e+00    \n",
       "2014-07-26 18:05:00                                       7.050004e-11    \n",
       "...                                                                ...    \n",
       "2014-07-27 05:40:00                                       0.000000e+00    \n",
       "2014-07-27 05:45:00                                       0.000000e+00    \n",
       "2014-07-27 05:50:00                                       0.000000e+00    \n",
       "2014-07-27 05:55:00                                       0.000000e+00    \n",
       "2014-07-27 06:00:00                                       0.000000e+00    \n",
       "\n",
       "                     Q flux <Flow Flux> (meter pow 3 per sec per meter)  \\\n",
       "2014-07-26 17:45:00                                       0.000000e+00    \n",
       "2014-07-26 17:50:00                                       0.000000e+00    \n",
       "2014-07-26 17:55:00                                       0.000000e+00    \n",
       "2014-07-26 18:00:00                                       0.000000e+00    \n",
       "2014-07-26 18:05:00                                      -4.344904e-15    \n",
       "...                                                                ...    \n",
       "2014-07-27 05:40:00                                       0.000000e+00    \n",
       "2014-07-27 05:45:00                                       0.000000e+00    \n",
       "2014-07-27 05:50:00                                       0.000000e+00    \n",
       "2014-07-27 05:55:00                                       0.000000e+00    \n",
       "2014-07-27 06:00:00                                       0.000000e+00    \n",
       "\n",
       "                            hypot    degrees  Resultant_flow  \n",
       "2014-07-26 17:45:00  0.000000e+00   0.000000    0.000000e+00  \n",
       "2014-07-26 17:50:00  0.000000e+00   0.000000    0.000000e+00  \n",
       "2014-07-26 17:55:00  0.000000e+00   0.000000    0.000000e+00  \n",
       "2014-07-26 18:00:00  0.000000e+00   0.000000    0.000000e+00  \n",
       "2014-07-26 18:05:00  7.050004e-11  90.003531    7.050004e-11  \n",
       "...                           ...        ...             ...  \n",
       "2014-07-27 05:40:00  0.000000e+00   0.000000    0.000000e+00  \n",
       "2014-07-27 05:45:00  0.000000e+00   0.000000    0.000000e+00  \n",
       "2014-07-27 05:50:00  0.000000e+00   0.000000    0.000000e+00  \n",
       "2014-07-27 05:55:00  0.000000e+00   0.000000    0.000000e+00  \n",
       "2014-07-27 06:00:00  0.000000e+00   0.000000    0.000000e+00  \n",
       "\n",
       "[2072 rows x 7 columns]"
      ]
     },
     "execution_count": 13,
     "metadata": {},
     "output_type": "execute_result"
    }
   ],
   "source": [
    "test"
   ]
  },
  {
   "attachments": {},
   "cell_type": "markdown",
   "metadata": {},
   "source": [
    "#### NOTE TO AFTERNOON! if angle == (perpendicular+- 180): positive ,else negative (sort of) \n",
    "\n",
    "\n",
    "- No we have to extract at which SIDE the extraction point is from and then done. "
   ]
  },
  {
   "cell_type": "code",
   "execution_count": 55,
   "metadata": {},
   "outputs": [],
   "source": [
    "test2=ds.sel(x = lineList[0][0],y=lineList[0][1])"
   ]
  },
  {
   "cell_type": "code",
   "execution_count": 59,
   "metadata": {},
   "outputs": [
    {
     "data": {
      "text/plain": [
       "GeometryPoint2D(x=147275.75, y=6395986.750004)"
      ]
     },
     "execution_count": 59,
     "metadata": {},
     "output_type": "execute_result"
    }
   ],
   "source": [
    "test2.geometry"
   ]
  },
  {
   "cell_type": "code",
   "execution_count": 60,
   "metadata": {},
   "outputs": [
    {
     "data": {
      "text/plain": [
       "147275.75"
      ]
     },
     "execution_count": 60,
     "metadata": {},
     "output_type": "execute_result"
    }
   ],
   "source": [
    "test2.geometry.x"
   ]
  },
  {
   "cell_type": "code",
   "execution_count": 61,
   "metadata": {},
   "outputs": [],
   "source": [
    "extracted_point_x = test2.geometry.x\n",
    "extracted_point_y = test2.geometry.y"
   ]
  },
  {
   "cell_type": "code",
   "execution_count": 62,
   "metadata": {},
   "outputs": [
    {
     "data": {
      "text/plain": [
       "6395986.750004"
      ]
     },
     "execution_count": 62,
     "metadata": {},
     "output_type": "execute_result"
    }
   ],
   "source": [
    "extracted_point_y"
   ]
  },
  {
   "cell_type": "code",
   "execution_count": 64,
   "metadata": {},
   "outputs": [
    {
     "data": {
      "text/plain": [
       "-0.38227428775020417"
      ]
     },
     "execution_count": 64,
     "metadata": {},
     "output_type": "execute_result"
    }
   ],
   "source": [
    "atan2(x,y)"
   ]
  },
  {
   "cell_type": "code",
   "execution_count": 68,
   "metadata": {},
   "outputs": [
    {
     "data": {
      "text/plain": [
       "-158.7026459548892"
      ]
     },
     "execution_count": 68,
     "metadata": {},
     "output_type": "execute_result"
    }
   ],
   "source": [
    "angle_line"
   ]
  },
  {
   "cell_type": "code",
   "execution_count": 79,
   "metadata": {},
   "outputs": [],
   "source": [
    "import shapely.wkt\n",
    "import shapely.ops\n",
    "\n",
    "\n",
    "def reverse_geom(geom):\n",
    "    def _reverse(x, y, z=None):\n",
    "        if z:\n",
    "            return x[::-1], y[::-1], z[::-1]\n",
    "        return x[::-1], y[::-1]\n",
    "\n",
    "    return shapely.ops.transform(_reverse, geom)\n",
    "\n",
    "test3 = reverse_geom(line)"
   ]
  },
  {
   "cell_type": "code",
   "execution_count": 82,
   "metadata": {},
   "outputs": [
    {
     "data": {
      "text/plain": [
       "'LINESTRING (147230.33088362962 6395969.038813498, 147277.16222729348 6395987.295100007)'"
      ]
     },
     "execution_count": 82,
     "metadata": {},
     "output_type": "execute_result"
    }
   ],
   "source": [
    "test3.wkt"
   ]
  },
  {
   "cell_type": "code",
   "execution_count": 83,
   "metadata": {},
   "outputs": [
    {
     "data": {
      "text/plain": [
       "'LINESTRING (147277.16222729348 6395987.295100007, 147230.33088362962 6395969.038813498)'"
      ]
     },
     "execution_count": 83,
     "metadata": {},
     "output_type": "execute_result"
    }
   ],
   "source": [
    "line.wkt"
   ]
  },
  {
   "cell_type": "code",
   "execution_count": null,
   "metadata": {},
   "outputs": [],
   "source": []
  }
 ],
 "metadata": {
  "kernelspec": {
   "display_name": "base",
   "language": "python",
   "name": "python3"
  },
  "language_info": {
   "codemirror_mode": {
    "name": "ipython",
    "version": 3
   },
   "file_extension": ".py",
   "mimetype": "text/x-python",
   "name": "python",
   "nbconvert_exporter": "python",
   "pygments_lexer": "ipython3",
   "version": "3.10.10"
  },
  "orig_nbformat": 4
 },
 "nbformat": 4,
 "nbformat_minor": 2
}
