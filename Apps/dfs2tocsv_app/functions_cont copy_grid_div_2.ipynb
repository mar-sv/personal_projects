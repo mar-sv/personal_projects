{
 "cells": [
  {
   "cell_type": "code",
   "execution_count": 29,
   "metadata": {},
   "outputs": [],
   "source": [
    "import mikeio as mi\n",
    "import pandas as pd\n",
    "import numpy as np\n",
    "import matplotlib.pyplot as plt\n",
    "import geopandas as gdp\n",
    "from shapely.geometry import Point, LineString\n",
    "import sys\n",
    "from math import atan2, degrees, hypot\n",
    "import shapely.wkt\n",
    "import shapely.ops\n",
    "\n",
    "\n",
    "def reverse_geom(geom):\n",
    "    def _reverse(x, y, z=None):\n",
    "        if z:\n",
    "            return x[::-1], y[::-1], z[::-1]\n",
    "        return x[::-1], y[::-1]\n",
    "\n",
    "    return shapely.ops.transform(_reverse, geom)\n",
    "\n",
    "\n",
    "def get_grid_size(ds):\n",
    "    # Check if quadratic grid\n",
    "    if ds.geometry.dx != ds.geometry.dy:\n",
    "        print('The grid is not quadratic. This might cause insufficient results')\n",
    "    return ds.geometry.dx\n",
    "\n",
    "\n",
    "def AngleBtw2Points(pointA, pointB):\n",
    "    changeInX = pointB[0] - pointA[0]\n",
    "    changeInY = pointB[1] - pointA[1]\n",
    "    return degrees(atan2(changeInY, changeInX))\n",
    "\n",
    "\n",
    "def calculate_flow_direction(perpendicular_angle, col):\n",
    "    if (col > perpendicular_angle-90) & (col < perpendicular_angle+90):\n",
    "        return True\n",
    "    else:\n",
    "        return False\n",
    "\n",
    "\n",
    "def calculate_flow_magnitude(df, grid_size, sub_line):\n",
    "    # Get the columns of the df. The two columns that will be used for further calculations are the P flux (flow in x direction, index = 2) and Q Flux (flow in y direction, index = 3).\n",
    "    columns = df.columns\n",
    "    # Resultant flow is given by hypothenuse of both. Note that the flow is given in per meter, meaning that we need to multiply by the grid size\n",
    "    df['resultant_flow'] = df.apply(\n",
    "        lambda x: hypot(x[columns[2]], x[columns[3]]), axis=1)\n",
    "    df['resultant_flow'] = df['resultant_flow'] * grid_size\n",
    "    df['flow_direction'] = df.apply(lambda x: degrees(\n",
    "        atan2(x[columns[2]], x[columns[3]])), axis=1)\n",
    "\n",
    "    # Get the coordinates of the\n",
    "    coord_list = list(sub_line.coords)\n",
    "    start_coord = coord_list[0]\n",
    "    end_coord = coord_list[1]\n",
    "    angle_line = AngleBtw2Points(start_coord, end_coord)\n",
    "    perpendicular_line = angle_line - 90\n",
    "\n",
    "    # Update the columns, and calculate flow direction\n",
    "    columns = df.columns\n",
    "    df['resultant_flow'] = df.apply(lambda x: x[columns[4]] if calculate_flow_direction(\n",
    "        perpendicular_line, x[columns[5]]) else x[columns[4]]*-1, axis=1)\n",
    "    return df\n",
    "\n",
    "\n",
    "def get_values_for_linestring(grid_size, ds, geometry_row):\n",
    "\n",
    "    # Number of points in the polyline\n",
    "    num_coords = len(geometry_row.coords)\n",
    "\n",
    "    # Convert gridsize to integer\n",
    "    grid_size = int(grid_size)\n",
    "\n",
    "    # Loop through each coordinate, create a new polyline for each and extract result\n",
    "    for j in range(1, num_coords):\n",
    "\n",
    "        # Define start and end coordinates\n",
    "        starting_coord = geometry_row.coords[j-1]\n",
    "        end_coord = geometry_row.coords[j]\n",
    "        # Create new LineString of new coordinates\n",
    "        sub_line = LineString([starting_coord, end_coord])\n",
    "\n",
    "        # We will take timesteps equal to grid_size/2 in order not to miss any of the cells. \n",
    "        # However, in order to not duplicate any of the cells, we need to check whether the coordinates have been calculated before\n",
    "        calculated_coords = []\n",
    "\n",
    "        # If this is the first coordinate in the linestring, create a new result_df that will later be concatenated with the other ones.\n",
    "        val_dict = {}\n",
    "        if j == 1:\n",
    "            # Extract results\n",
    "            point_array = ds.sel(x=starting_coord[0], y=starting_coord[1])\n",
    "            time = point_array.time\n",
    "            items = point_array.items\n",
    "            val_dict['time'] = time\n",
    "\n",
    "            # Extract results for each item in the dfs2\n",
    "            for item in items:\n",
    "                val_1 = point_array[item].values\n",
    "                val_dict[str(item)] = val_1\n",
    "            df_result = pd.DataFrame(index=time, data=val_dict)\n",
    "            df_result = calculate_flow_magnitude(\n",
    "                df_result, grid_size, sub_line)\n",
    "            #Add the coordinates of point_array to our memory list\n",
    "            calculated_coords.append([point_array.geometry.x,point_array.geometry.y])\n",
    "\n",
    "        # Round the length of the line to closest integer and convert\n",
    "        length_of_line = int(\n",
    "            np.round(Point(starting_coord).distance(Point(end_coord)), 0))\n",
    "        print(length_of_line)\n",
    "\n",
    "       \n",
    "\n",
    "        # Loop thorugh the values in the dfs2 file, with the step size equivalent to the gridsize\n",
    "        for i in range(0, length_of_line, grid_size//2):\n",
    "\n",
    "            # Reset the values dictionary\n",
    "            val_dict = {}\n",
    "\n",
    "            # Get coordinates of point with i distance from start coordinate\n",
    "            ip = sub_line.interpolate(distance=i)\n",
    "\n",
    "            # Extract results from point\n",
    "            point_array = ds.sel(x=ip.coords[0][0], y=ip.coords[0][1])\n",
    "\n",
    "            #Check whether the point have been calculated before\n",
    "            new_coord_list = [point_array.geometry.x,point_array.geometry.y]\n",
    "            if new_coord_list in calculated_coords:\n",
    "                print('hejhej dubbel')\n",
    "            if new_coord_list not in calculated_coords:\n",
    "                \n",
    "                #Extract values and time\n",
    "                time = point_array.time\n",
    "                items = point_array.items\n",
    "                val_dict['time'] = time\n",
    "                \n",
    "                #append the coordinates to calculated_coords\n",
    "                calculated_coords.append(new_coord_list)\n",
    "\n",
    "                # Extract results for each item in the dfs2\n",
    "                for item in items:\n",
    "                    val_1 = point_array[item].values\n",
    "                    val_dict[str(item)] = val_1\n",
    "\n",
    "                # Create a df with this cross sections values\n",
    "                df_next_coord = pd.DataFrame(index=time, data=val_dict)\n",
    "\n",
    "                # Calculate flow magnitude and its direction\n",
    "                df_next_coord = calculate_flow_magnitude(\n",
    "                    df_next_coord, grid_size, sub_line)\n",
    "                # Concatenate the results of the new coordinate to result_df. Note that here they are concatenated vertically\n",
    "\n",
    "                # The vertical concatenation will be later dissolved using the groupby argument (for the time column) and taken as mean\n",
    "\n",
    "                df_result = pd.concat([df_result, df_next_coord])\n",
    "\n",
    "    #### TEST! Include last coord.\n",
    "\n",
    "    df_result = df_result.groupby('time', as_index=False).sum()\n",
    "    # For swedish users, the , is the default separator, instead of . (This is a feature requested by the user)\n",
    "    #columns = df_result.columns\n",
    "    # for col in columns:\n",
    "    #    df_result[col] = df_result[col].astype(\n",
    "    #        str).str.replace('.', ',', regex=False)\n",
    "\n",
    "    return df_result, grid_size\n",
    "\n",
    "\n",
    "def dfs2tocsv(filepath_ds, filepath_shape):\n",
    "\n",
    "    # Check whether it is a dfs2 file or not\n",
    "    if filepath_ds[-4:] != 'dfs2':\n",
    "        print(\"Please pick a dfs2 file\")\n",
    "        return False\n",
    "\n",
    "    # Read dfs2\n",
    "    ds = mi.read(filepath_ds)\n",
    "\n",
    "    # Check whether it is a shp file or not\n",
    "    if filepath_shape[-3:] != 'shp':\n",
    "        print(\"Please pick a shapefile\")\n",
    "        return False\n",
    "\n",
    "    # Read shapefile\n",
    "    shape_df = gdp.read_file(filepath_shape)\n",
    "\n",
    "    # Check whether the file is a Polyline\n",
    "    if not isinstance(shape_df['geometry'][0], LineString):\n",
    "        print('The file is not a Polyline, please specify a PolyLine instead.')\n",
    "        return False\n",
    "\n",
    "    # Get grid size\n",
    "    grid_size = get_grid_size(ds)\n",
    "\n",
    "    # Dictionary with results\n",
    "    df_dict = {}\n",
    "\n",
    "    # Loop through df with the shapefile and save the results\n",
    "    for index, row in shape_df.iterrows():\n",
    "\n",
    "        # Check direction. The calculations should always be done from left to right.\n",
    "        first_coord = row['geometry'].coords[0]\n",
    "        last_coord = row['geometry'].coords[len(row['geometry'].coords)-1]\n",
    "        angle = AngleBtw2Points(first_coord, last_coord)\n",
    "\n",
    "        # If angle is in the second or third quadrant, the general direction is right, so it must be reversed\n",
    "        if (angle > 90) | (angle < -90):\n",
    "            row['geometry'] = reverse_geom(row['geometry'])\n",
    "            print('The general directions is right')\n",
    "        df_dict[index] = get_values_for_linestring(\n",
    "            grid_size, ds, row['geometry'])\n",
    "\n",
    "    # Create a multilevel indexed dataframe for easier read in the csv format (requested by users)\n",
    "    resultant_df = pd.concat(df_dict.values(), axis=1, keys=df_dict.keys())\n",
    "    # resultant_df.to_csv(output_dir_and_name, sep=';')\n",
    "    return resultant_df\n",
    "\n",
    "\n",
    "# if __name__ == '__main__':\n",
    "#    dfs2tocsv(sys.argv[1], sys.argv[2], sys.argv[3])\n"
   ]
  },
  {
   "cell_type": "code",
   "execution_count": 30,
   "metadata": {},
   "outputs": [
    {
     "name": "stdout",
     "output_type": "stream",
     "text": [
      "50\n",
      "hejhej dubbel\n",
      "hejhej dubbel\n",
      "hejhej dubbel\n",
      "hejhej dubbel\n",
      "hejhej dubbel\n",
      "hejhej dubbel\n",
      "hejhej dubbel\n",
      "hejhej dubbel\n",
      "hejhej dubbel\n",
      "hejhej dubbel\n",
      "hejhej dubbel\n",
      "hejhej dubbel\n"
     ]
    }
   ],
   "source": [
    "filepath_ds = r'C:\\Project folder\\python_specialuppdrag\\MASV specialuppdrag\\06_Linnestaden_HPQ.dfs2'\n",
    "filepath_shp = r'C:\\Project folder\\python_specialuppdrag\\MASV specialuppdrag\\endast_en.shp'\n",
    "#test = dfs2tocsv(filepath_ds,filepath_shp)\n",
    "ds = mi.read(filepath_ds)\n",
    "shape_df = gdp.read_file(filepath_shp)\n",
    "grid_size= get_grid_size(ds)\n",
    "test,grid = get_values_for_linestring(grid_size, ds, shape_df['geometry'][0])\n",
    "#test_df = dfs2tocsv(filepath_ds,filepath_shp)"
   ]
  },
  {
   "cell_type": "code",
   "execution_count": 28,
   "metadata": {},
   "outputs": [],
   "source": [
    "test['resultant_flow']\n",
    "test['resultant_flow'].to_csv('test_2.csv',sep=';')"
   ]
  },
  {
   "cell_type": "code",
   "execution_count": 5,
   "metadata": {},
   "outputs": [],
   "source": [
    "from math import atan2,degrees\n",
    "line = shape_df['geometry'][0]\n",
    "lineList = list(line.coords)\n",
    "\n",
    "def AngleBtw2Points(pointA, pointB):\n",
    "  changeInX = pointB[0] - pointA[0]\n",
    "  changeInY = pointB[1] - pointA[1]\n",
    "  return degrees(atan2(changeInY,changeInX)) #remove degrees if you want your answer in radians\n",
    "\n",
    "angle_line = AngleBtw2Points(lineList[0],lineList[1])\n",
    "perpendicular_line = angle_line+90"
   ]
  },
  {
   "cell_type": "code",
   "execution_count": 6,
   "metadata": {},
   "outputs": [
    {
     "data": {
      "text/plain": [
       "time                                                  2014-07-26 18:45:00\n",
       "Total water depth <Water Depth> (meter)                           2.16943\n",
       "P flux <Flow Flux> (meter pow 3 per sec per meter)              -0.096181\n",
       "Q flux <Flow Flux> (meter pow 3 per sec per meter)               0.239225\n",
       "Name: 2014-07-26 18:45:00, dtype: object"
      ]
     },
     "execution_count": 6,
     "metadata": {},
     "output_type": "execute_result"
    }
   ],
   "source": [
    "x = test.iloc[900,2]\n",
    "y = test.iloc[900,3]\n",
    "test.iloc[900]"
   ]
  },
  {
   "cell_type": "code",
   "execution_count": 7,
   "metadata": {},
   "outputs": [],
   "source": [
    "from math import hypot"
   ]
  },
  {
   "cell_type": "code",
   "execution_count": 8,
   "metadata": {},
   "outputs": [
    {
     "data": {
      "text/plain": [
       "-21.902703304456285"
      ]
     },
     "execution_count": 8,
     "metadata": {},
     "output_type": "execute_result"
    }
   ],
   "source": [
    "hypot(x,y)\n",
    "degrees(atan2(x,y))"
   ]
  },
  {
   "cell_type": "code",
   "execution_count": 9,
   "metadata": {},
   "outputs": [],
   "source": [
    "test['Resultant_flow'] = test.apply(lambda x: hypot(x['P flux <Flow Flux> (meter pow 3 per sec per meter)'],x['Q flux <Flow Flux> (meter pow 3 per sec per meter)']),axis=1)\n",
    "test['degrees'] = test.apply(lambda x:degrees(atan2(x['P flux <Flow Flux> (meter pow 3 per sec per meter)'],x['Q flux <Flow Flux> (meter pow 3 per sec per meter)'])),axis=1)"
   ]
  },
  {
   "cell_type": "code",
   "execution_count": 21,
   "metadata": {},
   "outputs": [
    {
     "data": {
      "text/plain": [
       "'P flux <Flow Flux> (meter pow 3 per sec per meter)'"
      ]
     },
     "execution_count": 21,
     "metadata": {},
     "output_type": "execute_result"
    }
   ],
   "source": [
    "test.columns[2]"
   ]
  },
  {
   "attachments": {},
   "cell_type": "markdown",
   "metadata": {},
   "source": [
    "#### NOTE TO AFTERNOON! if angle == (perpendicular+- 180): positive ,else negative (sort of) \n",
    "\n",
    "\n",
    "- No we have to extract at which SIDE the extraction point is from and then done. "
   ]
  },
  {
   "cell_type": "code",
   "execution_count": 11,
   "metadata": {},
   "outputs": [],
   "source": [
    "test2=ds.sel(x = lineList[0][0],y=lineList[0][1])"
   ]
  },
  {
   "cell_type": "code",
   "execution_count": 19,
   "metadata": {},
   "outputs": [
    {
     "data": {
      "text/plain": [
       "12.5"
      ]
     },
     "execution_count": 19,
     "metadata": {},
     "output_type": "execute_result"
    }
   ],
   "source": [
    "50/4"
   ]
  },
  {
   "cell_type": "code",
   "execution_count": 13,
   "metadata": {},
   "outputs": [
    {
     "data": {
      "text/plain": [
       "147275.75"
      ]
     },
     "execution_count": 13,
     "metadata": {},
     "output_type": "execute_result"
    }
   ],
   "source": [
    "test2.geometry.x"
   ]
  },
  {
   "cell_type": "code",
   "execution_count": 14,
   "metadata": {},
   "outputs": [],
   "source": [
    "extracted_point_x = test2.geometry.x\n",
    "extracted_point_y = test2.geometry.y"
   ]
  },
  {
   "cell_type": "code",
   "execution_count": 15,
   "metadata": {},
   "outputs": [
    {
     "data": {
      "text/plain": [
       "6395986.750004"
      ]
     },
     "execution_count": 15,
     "metadata": {},
     "output_type": "execute_result"
    }
   ],
   "source": [
    "extracted_point_y"
   ]
  },
  {
   "cell_type": "code",
   "execution_count": 16,
   "metadata": {},
   "outputs": [
    {
     "data": {
      "text/plain": [
       "-0.38227428775020417"
      ]
     },
     "execution_count": 16,
     "metadata": {},
     "output_type": "execute_result"
    }
   ],
   "source": [
    "atan2(x,y)"
   ]
  },
  {
   "cell_type": "code",
   "execution_count": 17,
   "metadata": {},
   "outputs": [
    {
     "data": {
      "text/plain": [
       "-158.7026459548892"
      ]
     },
     "execution_count": 17,
     "metadata": {},
     "output_type": "execute_result"
    }
   ],
   "source": [
    "angle_line"
   ]
  },
  {
   "cell_type": "code",
   "execution_count": 18,
   "metadata": {},
   "outputs": [],
   "source": [
    "import shapely.wkt\n",
    "import shapely.ops\n",
    "\n",
    "\n",
    "def reverse_geom(geom):\n",
    "    def _reverse(x, y, z=None):\n",
    "        if z:\n",
    "            return x[::-1], y[::-1], z[::-1]\n",
    "        return x[::-1], y[::-1]\n",
    "\n",
    "    return shapely.ops.transform(_reverse, geom)\n",
    "\n",
    "test3 = reverse_geom(line)"
   ]
  },
  {
   "cell_type": "code",
   "execution_count": 19,
   "metadata": {},
   "outputs": [
    {
     "data": {
      "text/plain": [
       "'LINESTRING (147230.33088362962 6395969.038813498, 147277.16222729348 6395987.295100007)'"
      ]
     },
     "execution_count": 19,
     "metadata": {},
     "output_type": "execute_result"
    }
   ],
   "source": [
    "test3.wkt"
   ]
  },
  {
   "cell_type": "code",
   "execution_count": 20,
   "metadata": {},
   "outputs": [
    {
     "data": {
      "text/plain": [
       "'LINESTRING (147277.16222729348 6395987.295100007, 147230.33088362962 6395969.038813498)'"
      ]
     },
     "execution_count": 20,
     "metadata": {},
     "output_type": "execute_result"
    }
   ],
   "source": [
    "line.wkt"
   ]
  },
  {
   "cell_type": "code",
   "execution_count": null,
   "metadata": {},
   "outputs": [],
   "source": []
  }
 ],
 "metadata": {
  "kernelspec": {
   "display_name": "base",
   "language": "python",
   "name": "python3"
  },
  "language_info": {
   "codemirror_mode": {
    "name": "ipython",
    "version": 3
   },
   "file_extension": ".py",
   "mimetype": "text/x-python",
   "name": "python",
   "nbconvert_exporter": "python",
   "pygments_lexer": "ipython3",
   "version": "3.10.10"
  },
  "orig_nbformat": 4
 },
 "nbformat": 4,
 "nbformat_minor": 2
}
