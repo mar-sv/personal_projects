{
 "cells": [
  {
   "cell_type": "code",
   "execution_count": 49,
   "metadata": {},
   "outputs": [],
   "source": [
    "import mikeio as mi\n",
    "import pandas as pd\n",
    "import numpy as np\n",
    "import matplotlib.pyplot as plt\n",
    "import geopandas as gdp\n",
    "from shapely.geometry import Point, LineString\n",
    "import sys\n",
    "from math import atan2, degrees, hypot\n",
    "import shapely.wkt\n",
    "import shapely.ops\n",
    "\n",
    "def reverse_geom(geom):\n",
    "    def _reverse(x, y, z=None):\n",
    "        if z:\n",
    "            return x[::-1], y[::-1], z[::-1]\n",
    "        return x[::-1], y[::-1]\n",
    "\n",
    "    return shapely.ops.transform(_reverse, geom)\n",
    "\n",
    "def get_grid_size(ds):\n",
    "    # Check if quadratic grid\n",
    "    if ds.geometry.dx != ds.geometry.dy:\n",
    "        print('The grid is not quadratic. This might cause insufficient results')\n",
    "    return ds.geometry.dx\n",
    "\n",
    "\n",
    "def AngleBtw2Points(pointA, pointB):\n",
    "    changeInX = pointB[0] - pointA[0]\n",
    "    changeInY = pointB[1] - pointA[1]\n",
    "    return degrees(atan2(changeInY, changeInX))\n",
    "\n",
    "def calculate_flow_direction(perpendicular_angle,col):\n",
    "    if (col>perpendicular_angle-90) & (col<perpendicular_angle+90):\n",
    "        return True\n",
    "    else:\n",
    "        return False\n",
    "\n",
    "def calculate_flow_magnitude(df,grid_size,sub_line):\n",
    "    #Get the columns of the df. The two columns that will be used for further calculations are the P flux (flow in x direction, index = 2) and Q Flux (flow in y direction, index = 3).\n",
    "    columns = df.columns\n",
    "    #Resultant flow is given by hypothenuse of both. Note that the flow is given in per meter, meaning that we need to multiply by the grid size\n",
    "    df['resultant_flow'] = df.apply(lambda x: hypot(x[columns[2]],x[columns[3]]),axis=1)\n",
    "    print(grid_size)\n",
    "    df['resultant_flow'] = df['resultant_flow'] * grid_size\n",
    "    df['flow_direction'] = df.apply(lambda x: degrees(atan2(x[columns[2]],x[columns[3]])),axis=1)\n",
    "\n",
    "    #Get the coordinates of the \n",
    "    coord_list = list(sub_line.coords)\n",
    "    start_coord = coord_list[0]\n",
    "    end_coord = coord_list[1]\n",
    "    angle_line = AngleBtw2Points(start_coord,end_coord)\n",
    "    perpendicular_line = angle_line + 90\n",
    "\n",
    "    #Update the columns, and calculate flow direction\n",
    "    columns = df.columns\n",
    "    df['resultant_flow'] = df.apply(lambda x: x[columns[4]] if calculate_flow_direction(perpendicular_line,x[columns[5]]) else x[columns[4]]*-1,axis=1)\n",
    "    return df\n",
    "    \n",
    "\n",
    "\n",
    "\n",
    "def get_values_for_linestring(grid_size, ds, geometry_row):\n",
    "\n",
    "    # Number of points in the polyline\n",
    "    num_coords = len(geometry_row.coords)\n",
    "\n",
    "    # Convert gridsize to integer\n",
    "    grid_size = int(grid_size)\n",
    "\n",
    "    # Loop through each coordinate, create a new polyline for each and extract result\n",
    "    for j in range(1, num_coords):\n",
    "\n",
    "        # Define start and end coordinates\n",
    "        starting_coord = geometry_row.coords[j-1]\n",
    "        end_coord = geometry_row.coords[j]\n",
    "        # Create new LineString of new coordinates\n",
    "        sub_line = LineString([starting_coord, end_coord])\n",
    "\n",
    "        # Calculate what direction\n",
    "        \n",
    "\n",
    "        # If this is the first coordinate in the linestring, create a new result_df that will later be concatenated with the other ones.\n",
    "        val_dict = {}\n",
    "        if j == 1:\n",
    "            # Extract results\n",
    "            point_array = ds.sel(x=starting_coord[0], y=starting_coord[1])\n",
    "            time = point_array.time\n",
    "            items = point_array.items\n",
    "            val_dict['time'] = time\n",
    "\n",
    "            # Extract results for each item in the dfs2\n",
    "            for item in items:\n",
    "                val_1 = point_array[item].values\n",
    "                val_dict[str(item)] = val_1\n",
    "            df_result = pd.DataFrame(index=time, data=val_dict)\n",
    "            df_result = calculate_flow_magnitude(df_result,point_array,sub_line)\n",
    "            \n",
    "        # Round the length of the line to closest integer and convert\n",
    "        length_of_line = int(\n",
    "            np.round(Point(starting_coord).distance(Point(end_coord)), 0))\n",
    "\n",
    "        \n",
    "        df_dict = {}\n",
    "\n",
    "        # Loop thorugh the values in the dfs2 file, with the step size equivalent to the gridsize\n",
    "        for i in range(0, length_of_line, grid_size):\n",
    "\n",
    "            # Reset the values dictionary\n",
    "            val_dict = {}\n",
    "\n",
    "            # Get coordinates of point with i distance from start coordinate\n",
    "            ip = sub_line.interpolate(distance=i)\n",
    "\n",
    "            # Extract results from point\n",
    "            point_array = ds.sel(x=ip.coords[0][0], y=ip.coords[0][1])\n",
    "            time = point_array.time\n",
    "            items = point_array.items\n",
    "            val_dict['time'] = time\n",
    "\n",
    "            # Extract results for each item in the dfs2\n",
    "            for item in items:\n",
    "                val_1 = point_array[item].values\n",
    "                val_dict[str(item)] = val_1\n",
    "\n",
    "            #Create a df with this cross sections values\n",
    "            df_next_coord = pd.DataFrame(index=time, data=val_dict)\n",
    "            \n",
    "            #Calculate flow magnitude and its direction \n",
    "            df_next_coord = calculate_flow_magnitude(df_next_coord,grid_size,sub_line)\n",
    "            # Concatenate the results of the new coordinate to result_df. Note that here they are concatenated vertically\n",
    "            \n",
    "            # The vertical concatenation will be later dissolved using the groupby argument (for the time column) and taken as mean\n",
    "            \n",
    "\n",
    "            df_result = pd.concat([df_result, df_next_coord])\n",
    "\n",
    "    df_result = df_result.groupby('time', as_index=False).sum()\n",
    "    # For swedish users, the , is the default separator, instead of . (This is a feature requested by the user)\n",
    "    columns = df_result.columns\n",
    "    # for col in columns:\n",
    "    #    df_result[col] = df_result[col].astype(\n",
    "    #        str).str.replace('.', ',', regex=False)\n",
    "\n",
    "    return df_result, grid_size\n",
    "\n",
    "\n",
    "def dfs2tocsv(filepath_ds, filepath_shape):\n",
    "\n",
    "    # Check whether it is a dfs2 file or not\n",
    "    if filepath_ds[-4:] != 'dfs2':\n",
    "        print(\"Please pick a dfs2 file\")\n",
    "        return False\n",
    "\n",
    "    # Read dfs2\n",
    "    ds = mi.read(filepath_ds)\n",
    "\n",
    "    # Check whether it is a shp file or not\n",
    "    if filepath_shape[-3:] != 'shp':\n",
    "        print(\"Please pick a shapefile\")\n",
    "        return False\n",
    "\n",
    "    # Read shapefile\n",
    "    shape_df = gdp.read_file(filepath_shape)\n",
    "\n",
    "    # Check whether the file is a Polyline\n",
    "    if not isinstance(shape_df['geometry'][0], LineString):\n",
    "        print('The file is not a Polyline, please specify a PolyLine instead.')\n",
    "        return False\n",
    "\n",
    "    # Get grid size\n",
    "    grid_size = get_grid_size(ds)\n",
    "\n",
    "    # Dictionary with results\n",
    "    df_dict = {}\n",
    "\n",
    "    # Loop through df with the shapefile and save the results\n",
    "    for index, row in shape_df.iterrows():\n",
    "\n",
    "        # Check direction. The calculations should always be done from left to right.\n",
    "        first_coord = row['geometry'].coords[0]\n",
    "        last_coord = row['geometry'].coords[len(row['geometry'].coords)-1]\n",
    "        angle = AngleBtw2Points(first_coord,last_coord)\n",
    "\n",
    "        #If angle is in the second or third quadrant, the general direction is right, so it must be reversed \n",
    "        if (angle>90) | (angle<-90):\n",
    "            row['geometry'] = reverse_geom(row['geometry'])\n",
    "            print('The general directions is right')\n",
    "        df_dict[index] = get_values_for_linestring(\n",
    "            grid_size, ds, row['geometry'])\n",
    "\n",
    "    # Create a multilevel indexed dataframe for easier read in the csv format (requested by users)\n",
    "    resultant_df = pd.concat(df_dict.values(), axis=1, keys=df_dict.keys())\n",
    "    # resultant_df.to_csv(output_dir_and_name, sep=';')\n",
    "    return resultant_df\n",
    "\n",
    "\n",
    "# if __name__ == '__main__':\n",
    "#    dfs2tocsv(sys.argv[1], sys.argv[2], sys.argv[3])\n"
   ]
  },
  {
   "cell_type": "code",
   "execution_count": 50,
   "metadata": {},
   "outputs": [
    {
     "name": "stdout",
     "output_type": "stream",
     "text": [
      "<mikeio.Dataset>\n",
      "dims: (time:148)\n",
      "time: 2014-07-26 17:45:00 - 2014-07-27 06:00:00 (148 records)\n",
      "geometry: GeometryPoint2D(x=147275.75, y=6395986.750004)\n",
      "items:\n",
      "  0:  Total water depth <Water Depth> (meter)\n",
      "  1:  P flux <Flow Flux> (meter pow 3 per sec per meter)\n",
      "  2:  Q flux <Flow Flux> (meter pow 3 per sec per meter)\n"
     ]
    },
    {
     "ename": "ValueError",
     "evalue": "operands could not be broadcast together with shapes (148,) (3,) ",
     "output_type": "error",
     "traceback": [
      "\u001b[1;31m---------------------------------------------------------------------------\u001b[0m",
      "\u001b[1;31mValueError\u001b[0m                                Traceback (most recent call last)",
      "Cell \u001b[1;32mIn[50], line 7\u001b[0m\n\u001b[0;32m      5\u001b[0m shape_df \u001b[39m=\u001b[39m gdp\u001b[39m.\u001b[39mread_file(filepath_shp)\n\u001b[0;32m      6\u001b[0m grid_size\u001b[39m=\u001b[39m get_grid_size(ds)\n\u001b[1;32m----> 7\u001b[0m test,grid \u001b[39m=\u001b[39m get_values_for_linestring(grid_size, ds, shape_df[\u001b[39m'\u001b[39;49m\u001b[39mgeometry\u001b[39;49m\u001b[39m'\u001b[39;49m][\u001b[39m0\u001b[39;49m])\n\u001b[0;32m      8\u001b[0m \u001b[39m#test_df = dfs2tocsv(filepath_ds,filepath_shp)\u001b[39;00m\n",
      "Cell \u001b[1;32mIn[49], line 96\u001b[0m, in \u001b[0;36mget_values_for_linestring\u001b[1;34m(grid_size, ds, geometry_row)\u001b[0m\n\u001b[0;32m     94\u001b[0m         val_dict[\u001b[39mstr\u001b[39m(item)] \u001b[39m=\u001b[39m val_1\n\u001b[0;32m     95\u001b[0m     df_result \u001b[39m=\u001b[39m pd\u001b[39m.\u001b[39mDataFrame(index\u001b[39m=\u001b[39mtime, data\u001b[39m=\u001b[39mval_dict)\n\u001b[1;32m---> 96\u001b[0m     df_result \u001b[39m=\u001b[39m calculate_flow_magnitude(df_result,point_array,sub_line)\n\u001b[0;32m     98\u001b[0m \u001b[39m# Round the length of the line to closest integer and convert\u001b[39;00m\n\u001b[0;32m     99\u001b[0m length_of_line \u001b[39m=\u001b[39m \u001b[39mint\u001b[39m(\n\u001b[0;32m    100\u001b[0m     np\u001b[39m.\u001b[39mround(Point(starting_coord)\u001b[39m.\u001b[39mdistance(Point(end_coord)), \u001b[39m0\u001b[39m))\n",
      "Cell \u001b[1;32mIn[49], line 44\u001b[0m, in \u001b[0;36mcalculate_flow_magnitude\u001b[1;34m(df, grid_size, sub_line)\u001b[0m\n\u001b[0;32m     42\u001b[0m df[\u001b[39m'\u001b[39m\u001b[39mresultant_flow\u001b[39m\u001b[39m'\u001b[39m] \u001b[39m=\u001b[39m df\u001b[39m.\u001b[39mapply(\u001b[39mlambda\u001b[39;00m x: hypot(x[columns[\u001b[39m2\u001b[39m]],x[columns[\u001b[39m3\u001b[39m]]),axis\u001b[39m=\u001b[39m\u001b[39m1\u001b[39m)\n\u001b[0;32m     43\u001b[0m \u001b[39mprint\u001b[39m(grid_size)\n\u001b[1;32m---> 44\u001b[0m df[\u001b[39m'\u001b[39m\u001b[39mresultant_flow\u001b[39m\u001b[39m'\u001b[39m] \u001b[39m=\u001b[39m df[\u001b[39m'\u001b[39;49m\u001b[39mresultant_flow\u001b[39;49m\u001b[39m'\u001b[39;49m] \u001b[39m*\u001b[39;49m grid_size\n\u001b[0;32m     45\u001b[0m df[\u001b[39m'\u001b[39m\u001b[39mflow_direction\u001b[39m\u001b[39m'\u001b[39m] \u001b[39m=\u001b[39m df\u001b[39m.\u001b[39mapply(\u001b[39mlambda\u001b[39;00m x: degrees(atan2(x[columns[\u001b[39m2\u001b[39m]],x[columns[\u001b[39m3\u001b[39m]])),axis\u001b[39m=\u001b[39m\u001b[39m1\u001b[39m)\n\u001b[0;32m     47\u001b[0m \u001b[39m#Get the coordinates of the \u001b[39;00m\n",
      "File \u001b[1;32mc:\\Users\\masv\\AppData\\Local\\jupyterlabdesktopappserver\\lib\\site-packages\\pandas\\core\\ops\\common.py:72\u001b[0m, in \u001b[0;36m_unpack_zerodim_and_defer.<locals>.new_method\u001b[1;34m(self, other)\u001b[0m\n\u001b[0;32m     68\u001b[0m             \u001b[39mreturn\u001b[39;00m \u001b[39mNotImplemented\u001b[39m\n\u001b[0;32m     70\u001b[0m other \u001b[39m=\u001b[39m item_from_zerodim(other)\n\u001b[1;32m---> 72\u001b[0m \u001b[39mreturn\u001b[39;00m method(\u001b[39mself\u001b[39;49m, other)\n",
      "File \u001b[1;32mc:\\Users\\masv\\AppData\\Local\\jupyterlabdesktopappserver\\lib\\site-packages\\pandas\\core\\arraylike.py:118\u001b[0m, in \u001b[0;36mOpsMixin.__mul__\u001b[1;34m(self, other)\u001b[0m\n\u001b[0;32m    116\u001b[0m \u001b[39m@unpack_zerodim_and_defer\u001b[39m(\u001b[39m\"\u001b[39m\u001b[39m__mul__\u001b[39m\u001b[39m\"\u001b[39m)\n\u001b[0;32m    117\u001b[0m \u001b[39mdef\u001b[39;00m \u001b[39m__mul__\u001b[39m(\u001b[39mself\u001b[39m, other):\n\u001b[1;32m--> 118\u001b[0m     \u001b[39mreturn\u001b[39;00m \u001b[39mself\u001b[39;49m\u001b[39m.\u001b[39;49m_arith_method(other, operator\u001b[39m.\u001b[39;49mmul)\n",
      "File \u001b[1;32mc:\\Users\\masv\\AppData\\Local\\jupyterlabdesktopappserver\\lib\\site-packages\\pandas\\core\\series.py:6259\u001b[0m, in \u001b[0;36mSeries._arith_method\u001b[1;34m(self, other, op)\u001b[0m\n\u001b[0;32m   6257\u001b[0m \u001b[39mdef\u001b[39;00m \u001b[39m_arith_method\u001b[39m(\u001b[39mself\u001b[39m, other, op):\n\u001b[0;32m   6258\u001b[0m     \u001b[39mself\u001b[39m, other \u001b[39m=\u001b[39m ops\u001b[39m.\u001b[39malign_method_SERIES(\u001b[39mself\u001b[39m, other)\n\u001b[1;32m-> 6259\u001b[0m     \u001b[39mreturn\u001b[39;00m base\u001b[39m.\u001b[39;49mIndexOpsMixin\u001b[39m.\u001b[39;49m_arith_method(\u001b[39mself\u001b[39;49m, other, op)\n",
      "File \u001b[1;32mc:\\Users\\masv\\AppData\\Local\\jupyterlabdesktopappserver\\lib\\site-packages\\pandas\\core\\base.py:1325\u001b[0m, in \u001b[0;36mIndexOpsMixin._arith_method\u001b[1;34m(self, other, op)\u001b[0m\n\u001b[0;32m   1322\u001b[0m rvalues \u001b[39m=\u001b[39m ensure_wrapped_if_datetimelike(rvalues)\n\u001b[0;32m   1324\u001b[0m \u001b[39mwith\u001b[39;00m np\u001b[39m.\u001b[39merrstate(\u001b[39mall\u001b[39m\u001b[39m=\u001b[39m\u001b[39m\"\u001b[39m\u001b[39mignore\u001b[39m\u001b[39m\"\u001b[39m):\n\u001b[1;32m-> 1325\u001b[0m     result \u001b[39m=\u001b[39m ops\u001b[39m.\u001b[39;49marithmetic_op(lvalues, rvalues, op)\n\u001b[0;32m   1327\u001b[0m \u001b[39mreturn\u001b[39;00m \u001b[39mself\u001b[39m\u001b[39m.\u001b[39m_construct_result(result, name\u001b[39m=\u001b[39mres_name)\n",
      "File \u001b[1;32mc:\\Users\\masv\\AppData\\Local\\jupyterlabdesktopappserver\\lib\\site-packages\\pandas\\core\\ops\\array_ops.py:226\u001b[0m, in \u001b[0;36marithmetic_op\u001b[1;34m(left, right, op)\u001b[0m\n\u001b[0;32m    222\u001b[0m     _bool_arith_check(op, left, right)\n\u001b[0;32m    224\u001b[0m     \u001b[39m# error: Argument 1 to \"_na_arithmetic_op\" has incompatible type\u001b[39;00m\n\u001b[0;32m    225\u001b[0m     \u001b[39m# \"Union[ExtensionArray, ndarray[Any, Any]]\"; expected \"ndarray[Any, Any]\"\u001b[39;00m\n\u001b[1;32m--> 226\u001b[0m     res_values \u001b[39m=\u001b[39m _na_arithmetic_op(left, right, op)  \u001b[39m# type: ignore[arg-type]\u001b[39;00m\n\u001b[0;32m    228\u001b[0m \u001b[39mreturn\u001b[39;00m res_values\n",
      "File \u001b[1;32mc:\\Users\\masv\\AppData\\Local\\jupyterlabdesktopappserver\\lib\\site-packages\\pandas\\core\\ops\\array_ops.py:165\u001b[0m, in \u001b[0;36m_na_arithmetic_op\u001b[1;34m(left, right, op, is_cmp)\u001b[0m\n\u001b[0;32m    162\u001b[0m     func \u001b[39m=\u001b[39m partial(expressions\u001b[39m.\u001b[39mevaluate, op)\n\u001b[0;32m    164\u001b[0m \u001b[39mtry\u001b[39;00m:\n\u001b[1;32m--> 165\u001b[0m     result \u001b[39m=\u001b[39m func(left, right)\n\u001b[0;32m    166\u001b[0m \u001b[39mexcept\u001b[39;00m \u001b[39mTypeError\u001b[39;00m:\n\u001b[0;32m    167\u001b[0m     \u001b[39mif\u001b[39;00m \u001b[39mnot\u001b[39;00m is_cmp \u001b[39mand\u001b[39;00m (is_object_dtype(left\u001b[39m.\u001b[39mdtype) \u001b[39mor\u001b[39;00m is_object_dtype(right)):\n\u001b[0;32m    168\u001b[0m         \u001b[39m# For object dtype, fallback to a masked operation (only operating\u001b[39;00m\n\u001b[0;32m    169\u001b[0m         \u001b[39m#  on the non-missing values)\u001b[39;00m\n\u001b[0;32m    170\u001b[0m         \u001b[39m# Don't do this for comparisons, as that will handle complex numbers\u001b[39;00m\n\u001b[0;32m    171\u001b[0m         \u001b[39m#  incorrectly, see GH#32047\u001b[39;00m\n",
      "File \u001b[1;32mc:\\Users\\masv\\AppData\\Local\\jupyterlabdesktopappserver\\lib\\site-packages\\pandas\\core\\computation\\expressions.py:241\u001b[0m, in \u001b[0;36mevaluate\u001b[1;34m(op, a, b, use_numexpr)\u001b[0m\n\u001b[0;32m    238\u001b[0m \u001b[39mif\u001b[39;00m op_str \u001b[39mis\u001b[39;00m \u001b[39mnot\u001b[39;00m \u001b[39mNone\u001b[39;00m:\n\u001b[0;32m    239\u001b[0m     \u001b[39mif\u001b[39;00m use_numexpr:\n\u001b[0;32m    240\u001b[0m         \u001b[39m# error: \"None\" not callable\u001b[39;00m\n\u001b[1;32m--> 241\u001b[0m         \u001b[39mreturn\u001b[39;00m _evaluate(op, op_str, a, b)  \u001b[39m# type: ignore[misc]\u001b[39;00m\n\u001b[0;32m    242\u001b[0m \u001b[39mreturn\u001b[39;00m _evaluate_standard(op, op_str, a, b)\n",
      "File \u001b[1;32mc:\\Users\\masv\\AppData\\Local\\jupyterlabdesktopappserver\\lib\\site-packages\\pandas\\core\\computation\\expressions.py:70\u001b[0m, in \u001b[0;36m_evaluate_standard\u001b[1;34m(op, op_str, a, b)\u001b[0m\n\u001b[0;32m     68\u001b[0m \u001b[39mif\u001b[39;00m _TEST_MODE:\n\u001b[0;32m     69\u001b[0m     _store_test_result(\u001b[39mFalse\u001b[39;00m)\n\u001b[1;32m---> 70\u001b[0m \u001b[39mreturn\u001b[39;00m op(a, b)\n",
      "\u001b[1;31mValueError\u001b[0m: operands could not be broadcast together with shapes (148,) (3,) "
     ]
    }
   ],
   "source": [
    "filepath_ds = r'C:\\Project folder\\python_specialuppdrag\\MASV specialuppdrag\\06_Linnestaden_HPQ.dfs2'\n",
    "filepath_shp = r'C:\\Project folder\\python_specialuppdrag\\MASV specialuppdrag\\endast_en.shp'\n",
    "#test = dfs2tocsv(filepath_ds,filepath_shp)\n",
    "ds = mi.read(filepath_ds)\n",
    "shape_df = gdp.read_file(filepath_shp)\n",
    "grid_size= get_grid_size(ds)\n",
    "test,grid = get_values_for_linestring(grid_size, ds, shape_df['geometry'][0])\n",
    "#test_df = dfs2tocsv(filepath_ds,filepath_shp)"
   ]
  },
  {
   "cell_type": "code",
   "execution_count": 46,
   "metadata": {},
   "outputs": [
    {
     "data": {
      "text/html": [
       "<div>\n",
       "<style scoped>\n",
       "    .dataframe tbody tr th:only-of-type {\n",
       "        vertical-align: middle;\n",
       "    }\n",
       "\n",
       "    .dataframe tbody tr th {\n",
       "        vertical-align: top;\n",
       "    }\n",
       "\n",
       "    .dataframe thead th {\n",
       "        text-align: right;\n",
       "    }\n",
       "</style>\n",
       "<table border=\"1\" class=\"dataframe\">\n",
       "  <thead>\n",
       "    <tr style=\"text-align: right;\">\n",
       "      <th></th>\n",
       "      <th>time</th>\n",
       "      <th>Total water depth &lt;Water Depth&gt; (meter)</th>\n",
       "      <th>P flux &lt;Flow Flux&gt; (meter pow 3 per sec per meter)</th>\n",
       "      <th>Q flux &lt;Flow Flux&gt; (meter pow 3 per sec per meter)</th>\n",
       "      <th>resultant_flow</th>\n",
       "      <th>flow_direction</th>\n",
       "    </tr>\n",
       "  </thead>\n",
       "  <tbody>\n",
       "    <tr>\n",
       "      <th>0</th>\n",
       "      <td>2014-07-26 17:45:00</td>\n",
       "      <td>0.000000</td>\n",
       "      <td>0.000000</td>\n",
       "      <td>0.000000</td>\n",
       "      <td>0.000000</td>\n",
       "      <td>0.000000</td>\n",
       "    </tr>\n",
       "    <tr>\n",
       "      <th>1</th>\n",
       "      <td>2014-07-26 17:50:00</td>\n",
       "      <td>0.809224</td>\n",
       "      <td>-0.005430</td>\n",
       "      <td>0.060176</td>\n",
       "      <td>0.052377</td>\n",
       "      <td>40.116452</td>\n",
       "    </tr>\n",
       "    <tr>\n",
       "      <th>2</th>\n",
       "      <td>2014-07-26 17:55:00</td>\n",
       "      <td>1.889339</td>\n",
       "      <td>-0.031117</td>\n",
       "      <td>0.088336</td>\n",
       "      <td>0.098016</td>\n",
       "      <td>-68.654270</td>\n",
       "    </tr>\n",
       "    <tr>\n",
       "      <th>3</th>\n",
       "      <td>2014-07-26 18:00:00</td>\n",
       "      <td>3.434006</td>\n",
       "      <td>-0.049531</td>\n",
       "      <td>0.190018</td>\n",
       "      <td>0.201111</td>\n",
       "      <td>-265.163570</td>\n",
       "    </tr>\n",
       "    <tr>\n",
       "      <th>4</th>\n",
       "      <td>2014-07-26 18:05:00</td>\n",
       "      <td>4.863321</td>\n",
       "      <td>-0.067659</td>\n",
       "      <td>0.385776</td>\n",
       "      <td>0.395818</td>\n",
       "      <td>169.202681</td>\n",
       "    </tr>\n",
       "    <tr>\n",
       "      <th>...</th>\n",
       "      <td>...</td>\n",
       "      <td>...</td>\n",
       "      <td>...</td>\n",
       "      <td>...</td>\n",
       "      <td>...</td>\n",
       "      <td>...</td>\n",
       "    </tr>\n",
       "    <tr>\n",
       "      <th>143</th>\n",
       "      <td>2014-07-27 05:40:00</td>\n",
       "      <td>0.806188</td>\n",
       "      <td>-0.000004</td>\n",
       "      <td>0.000061</td>\n",
       "      <td>0.000057</td>\n",
       "      <td>78.190677</td>\n",
       "    </tr>\n",
       "    <tr>\n",
       "      <th>144</th>\n",
       "      <td>2014-07-27 05:45:00</td>\n",
       "      <td>0.804722</td>\n",
       "      <td>-0.000004</td>\n",
       "      <td>0.000056</td>\n",
       "      <td>0.000052</td>\n",
       "      <td>78.084436</td>\n",
       "    </tr>\n",
       "    <tr>\n",
       "      <th>145</th>\n",
       "      <td>2014-07-27 05:50:00</td>\n",
       "      <td>0.803323</td>\n",
       "      <td>-0.000004</td>\n",
       "      <td>0.000050</td>\n",
       "      <td>0.000048</td>\n",
       "      <td>88.310657</td>\n",
       "    </tr>\n",
       "    <tr>\n",
       "      <th>146</th>\n",
       "      <td>2014-07-27 05:55:00</td>\n",
       "      <td>0.801991</td>\n",
       "      <td>-0.000003</td>\n",
       "      <td>0.000045</td>\n",
       "      <td>0.000043</td>\n",
       "      <td>88.617999</td>\n",
       "    </tr>\n",
       "    <tr>\n",
       "      <th>147</th>\n",
       "      <td>2014-07-27 06:00:00</td>\n",
       "      <td>0.800732</td>\n",
       "      <td>-0.000003</td>\n",
       "      <td>0.000040</td>\n",
       "      <td>0.000037</td>\n",
       "      <td>89.106832</td>\n",
       "    </tr>\n",
       "  </tbody>\n",
       "</table>\n",
       "<p>148 rows × 6 columns</p>\n",
       "</div>"
      ],
      "text/plain": [
       "                   time  Total water depth <Water Depth> (meter)  \\\n",
       "0   2014-07-26 17:45:00                                 0.000000   \n",
       "1   2014-07-26 17:50:00                                 0.809224   \n",
       "2   2014-07-26 17:55:00                                 1.889339   \n",
       "3   2014-07-26 18:00:00                                 3.434006   \n",
       "4   2014-07-26 18:05:00                                 4.863321   \n",
       "..                  ...                                      ...   \n",
       "143 2014-07-27 05:40:00                                 0.806188   \n",
       "144 2014-07-27 05:45:00                                 0.804722   \n",
       "145 2014-07-27 05:50:00                                 0.803323   \n",
       "146 2014-07-27 05:55:00                                 0.801991   \n",
       "147 2014-07-27 06:00:00                                 0.800732   \n",
       "\n",
       "     P flux <Flow Flux> (meter pow 3 per sec per meter)  \\\n",
       "0                                             0.000000    \n",
       "1                                            -0.005430    \n",
       "2                                            -0.031117    \n",
       "3                                            -0.049531    \n",
       "4                                            -0.067659    \n",
       "..                                                 ...    \n",
       "143                                          -0.000004    \n",
       "144                                          -0.000004    \n",
       "145                                          -0.000004    \n",
       "146                                          -0.000003    \n",
       "147                                          -0.000003    \n",
       "\n",
       "     Q flux <Flow Flux> (meter pow 3 per sec per meter)  resultant_flow  \\\n",
       "0                                             0.000000         0.000000   \n",
       "1                                             0.060176         0.052377   \n",
       "2                                             0.088336         0.098016   \n",
       "3                                             0.190018         0.201111   \n",
       "4                                             0.385776         0.395818   \n",
       "..                                                 ...              ...   \n",
       "143                                           0.000061         0.000057   \n",
       "144                                           0.000056         0.000052   \n",
       "145                                           0.000050         0.000048   \n",
       "146                                           0.000045         0.000043   \n",
       "147                                           0.000040         0.000037   \n",
       "\n",
       "     flow_direction  \n",
       "0          0.000000  \n",
       "1         40.116452  \n",
       "2        -68.654270  \n",
       "3       -265.163570  \n",
       "4        169.202681  \n",
       "..              ...  \n",
       "143       78.190677  \n",
       "144       78.084436  \n",
       "145       88.310657  \n",
       "146       88.617999  \n",
       "147       89.106832  \n",
       "\n",
       "[148 rows x 6 columns]"
      ]
     },
     "execution_count": 46,
     "metadata": {},
     "output_type": "execute_result"
    }
   ],
   "source": [
    "#test['resultant_flow'].plot()\n",
    "test"
   ]
  },
  {
   "cell_type": "code",
   "execution_count": 5,
   "metadata": {},
   "outputs": [],
   "source": [
    "from math import atan2,degrees\n",
    "line = shape_df['geometry'][0]\n",
    "lineList = list(line.coords)\n",
    "\n",
    "def AngleBtw2Points(pointA, pointB):\n",
    "  changeInX = pointB[0] - pointA[0]\n",
    "  changeInY = pointB[1] - pointA[1]\n",
    "  return degrees(atan2(changeInY,changeInX)) #remove degrees if you want your answer in radians\n",
    "\n",
    "angle_line = AngleBtw2Points(lineList[0],lineList[1])\n",
    "perpendicular_line = angle_line+90"
   ]
  },
  {
   "cell_type": "code",
   "execution_count": 6,
   "metadata": {},
   "outputs": [
    {
     "data": {
      "text/plain": [
       "time                                                  2014-07-26 18:45:00\n",
       "Total water depth <Water Depth> (meter)                           2.16943\n",
       "P flux <Flow Flux> (meter pow 3 per sec per meter)              -0.096181\n",
       "Q flux <Flow Flux> (meter pow 3 per sec per meter)               0.239225\n",
       "Name: 2014-07-26 18:45:00, dtype: object"
      ]
     },
     "execution_count": 6,
     "metadata": {},
     "output_type": "execute_result"
    }
   ],
   "source": [
    "x = test.iloc[900,2]\n",
    "y = test.iloc[900,3]\n",
    "test.iloc[900]"
   ]
  },
  {
   "cell_type": "code",
   "execution_count": 7,
   "metadata": {},
   "outputs": [],
   "source": [
    "from math import hypot"
   ]
  },
  {
   "cell_type": "code",
   "execution_count": 8,
   "metadata": {},
   "outputs": [
    {
     "data": {
      "text/plain": [
       "-21.902703304456285"
      ]
     },
     "execution_count": 8,
     "metadata": {},
     "output_type": "execute_result"
    }
   ],
   "source": [
    "hypot(x,y)\n",
    "degrees(atan2(x,y))"
   ]
  },
  {
   "cell_type": "code",
   "execution_count": 9,
   "metadata": {},
   "outputs": [],
   "source": [
    "test['Resultant_flow'] = test.apply(lambda x: hypot(x['P flux <Flow Flux> (meter pow 3 per sec per meter)'],x['Q flux <Flow Flux> (meter pow 3 per sec per meter)']),axis=1)\n",
    "test['degrees'] = test.apply(lambda x:degrees(atan2(x['P flux <Flow Flux> (meter pow 3 per sec per meter)'],x['Q flux <Flow Flux> (meter pow 3 per sec per meter)'])),axis=1)"
   ]
  },
  {
   "cell_type": "code",
   "execution_count": 21,
   "metadata": {},
   "outputs": [
    {
     "data": {
      "text/plain": [
       "'P flux <Flow Flux> (meter pow 3 per sec per meter)'"
      ]
     },
     "execution_count": 21,
     "metadata": {},
     "output_type": "execute_result"
    }
   ],
   "source": [
    "test.columns[2]"
   ]
  },
  {
   "attachments": {},
   "cell_type": "markdown",
   "metadata": {},
   "source": [
    "#### NOTE TO AFTERNOON! if angle == (perpendicular+- 180): positive ,else negative (sort of) \n",
    "\n",
    "\n",
    "- No we have to extract at which SIDE the extraction point is from and then done. "
   ]
  },
  {
   "cell_type": "code",
   "execution_count": 11,
   "metadata": {},
   "outputs": [],
   "source": [
    "test2=ds.sel(x = lineList[0][0],y=lineList[0][1])"
   ]
  },
  {
   "cell_type": "code",
   "execution_count": 12,
   "metadata": {},
   "outputs": [
    {
     "data": {
      "text/plain": [
       "GeometryPoint2D(x=147275.75, y=6395986.750004)"
      ]
     },
     "execution_count": 12,
     "metadata": {},
     "output_type": "execute_result"
    }
   ],
   "source": [
    "test2.geometry"
   ]
  },
  {
   "cell_type": "code",
   "execution_count": 13,
   "metadata": {},
   "outputs": [
    {
     "data": {
      "text/plain": [
       "147275.75"
      ]
     },
     "execution_count": 13,
     "metadata": {},
     "output_type": "execute_result"
    }
   ],
   "source": [
    "test2.geometry.x"
   ]
  },
  {
   "cell_type": "code",
   "execution_count": 14,
   "metadata": {},
   "outputs": [],
   "source": [
    "extracted_point_x = test2.geometry.x\n",
    "extracted_point_y = test2.geometry.y"
   ]
  },
  {
   "cell_type": "code",
   "execution_count": 15,
   "metadata": {},
   "outputs": [
    {
     "data": {
      "text/plain": [
       "6395986.750004"
      ]
     },
     "execution_count": 15,
     "metadata": {},
     "output_type": "execute_result"
    }
   ],
   "source": [
    "extracted_point_y"
   ]
  },
  {
   "cell_type": "code",
   "execution_count": 16,
   "metadata": {},
   "outputs": [
    {
     "data": {
      "text/plain": [
       "-0.38227428775020417"
      ]
     },
     "execution_count": 16,
     "metadata": {},
     "output_type": "execute_result"
    }
   ],
   "source": [
    "atan2(x,y)"
   ]
  },
  {
   "cell_type": "code",
   "execution_count": 17,
   "metadata": {},
   "outputs": [
    {
     "data": {
      "text/plain": [
       "-158.7026459548892"
      ]
     },
     "execution_count": 17,
     "metadata": {},
     "output_type": "execute_result"
    }
   ],
   "source": [
    "angle_line"
   ]
  },
  {
   "cell_type": "code",
   "execution_count": 18,
   "metadata": {},
   "outputs": [],
   "source": [
    "import shapely.wkt\n",
    "import shapely.ops\n",
    "\n",
    "\n",
    "def reverse_geom(geom):\n",
    "    def _reverse(x, y, z=None):\n",
    "        if z:\n",
    "            return x[::-1], y[::-1], z[::-1]\n",
    "        return x[::-1], y[::-1]\n",
    "\n",
    "    return shapely.ops.transform(_reverse, geom)\n",
    "\n",
    "test3 = reverse_geom(line)"
   ]
  },
  {
   "cell_type": "code",
   "execution_count": 19,
   "metadata": {},
   "outputs": [
    {
     "data": {
      "text/plain": [
       "'LINESTRING (147230.33088362962 6395969.038813498, 147277.16222729348 6395987.295100007)'"
      ]
     },
     "execution_count": 19,
     "metadata": {},
     "output_type": "execute_result"
    }
   ],
   "source": [
    "test3.wkt"
   ]
  },
  {
   "cell_type": "code",
   "execution_count": 20,
   "metadata": {},
   "outputs": [
    {
     "data": {
      "text/plain": [
       "'LINESTRING (147277.16222729348 6395987.295100007, 147230.33088362962 6395969.038813498)'"
      ]
     },
     "execution_count": 20,
     "metadata": {},
     "output_type": "execute_result"
    }
   ],
   "source": [
    "line.wkt"
   ]
  },
  {
   "cell_type": "code",
   "execution_count": null,
   "metadata": {},
   "outputs": [],
   "source": []
  }
 ],
 "metadata": {
  "kernelspec": {
   "display_name": "base",
   "language": "python",
   "name": "python3"
  },
  "language_info": {
   "codemirror_mode": {
    "name": "ipython",
    "version": 3
   },
   "file_extension": ".py",
   "mimetype": "text/x-python",
   "name": "python",
   "nbconvert_exporter": "python",
   "pygments_lexer": "ipython3",
   "version": "3.10.10"
  },
  "orig_nbformat": 4
 },
 "nbformat": 4,
 "nbformat_minor": 2
}
