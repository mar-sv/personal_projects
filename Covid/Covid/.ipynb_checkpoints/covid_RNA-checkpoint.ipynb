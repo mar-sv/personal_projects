{
 "cells": [
  {
   "cell_type": "code",
   "execution_count": 3,
   "id": "a5b8d7d7-c364-4dac-bc59-17485d893336",
   "metadata": {},
   "outputs": [],
   "source": [
    "import pandas as pd\n",
    "import numpy as np\n",
    "import matplotlib.pyplot as plt\n",
    "import seaborn as sns"
   ]
  },
  {
   "cell_type": "code",
   "execution_count": null,
   "id": "11c3e2a0-c08a-4cfc-a91f-401136602c10",
   "metadata": {},
   "outputs": [],
   "source": [
    "covid_sequence = pd.read_csv('ncbi_datasets.csv',low_memory = False)\n",
    "covid_sequence.head()"
   ]
  },
  {
   "cell_type": "code",
   "execution_count": null,
   "id": "ef7f37ef-19da-499d-8376-34805e598837",
   "metadata": {},
   "outputs": [],
   "source": [
    "covid_"
   ]
  }
 ],
 "metadata": {
  "kernelspec": {
   "display_name": "Python 3 (ipykernel)",
   "language": "python",
   "name": "python3"
  },
  "language_info": {
   "codemirror_mode": {
    "name": "ipython",
    "version": 3
   },
   "file_extension": ".py",
   "mimetype": "text/x-python",
   "name": "python",
   "nbconvert_exporter": "python",
   "pygments_lexer": "ipython3",
   "version": "3.8.13"
  }
 },
 "nbformat": 4,
 "nbformat_minor": 5
}
