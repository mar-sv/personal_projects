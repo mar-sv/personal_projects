{
 "cells": [
  {
   "cell_type": "markdown",
   "id": "42a2f889-cf83-4f68-9b25-16daf9a4a3b7",
   "metadata": {},
   "source": [
    "Introduction"
   ]
  },
  {
   "cell_type": "code",
   "execution_count": 4,
   "id": "54a5d696-a01a-4fe3-8b4f-eb1b18dc0815",
   "metadata": {},
   "outputs": [],
   "source": [
    "import pandas as pd\n",
    "import numpy as np\n",
    "import matplotlib.pyplot as plt\n",
    "import seaborn as sns\n",
    "import datetime as dt"
   ]
  },
  {
   "cell_type": "code",
   "execution_count": 5,
   "id": "11c3e2a0-c08a-4cfc-a91f-401136602c10",
   "metadata": {},
   "outputs": [
    {
     "data": {
      "text/html": [
       "<div>\n",
       "<style scoped>\n",
       "    .dataframe tbody tr th:only-of-type {\n",
       "        vertical-align: middle;\n",
       "    }\n",
       "\n",
       "    .dataframe tbody tr th {\n",
       "        vertical-align: top;\n",
       "    }\n",
       "\n",
       "    .dataframe thead th {\n",
       "        text-align: right;\n",
       "    }\n",
       "</style>\n",
       "<table border=\"1\" class=\"dataframe\">\n",
       "  <thead>\n",
       "    <tr style=\"text-align: right;\">\n",
       "      <th></th>\n",
       "      <th>Nucleotide Accession</th>\n",
       "      <th>Species Taxonomy Id</th>\n",
       "      <th>Species Name</th>\n",
       "      <th>Virus Genus</th>\n",
       "      <th>Virus Family</th>\n",
       "      <th>Isolate Name</th>\n",
       "      <th>Nucleotide Length</th>\n",
       "      <th>Sequence Type</th>\n",
       "      <th>Nuc Completeness</th>\n",
       "      <th>Geo Location</th>\n",
       "      <th>US State</th>\n",
       "      <th>Host Name</th>\n",
       "      <th>Host Taxonomy ID</th>\n",
       "      <th>Collection Date</th>\n",
       "      <th>BioProject</th>\n",
       "      <th>BioSample</th>\n",
       "    </tr>\n",
       "  </thead>\n",
       "  <tbody>\n",
       "    <tr>\n",
       "      <th>0</th>\n",
       "      <td>NC_045512.2</td>\n",
       "      <td>2697049</td>\n",
       "      <td>Severe acute respiratory syndrome coronavirus 2</td>\n",
       "      <td>Betacoronavirus</td>\n",
       "      <td>Coronaviridae</td>\n",
       "      <td>Wuhan-Hu-1</td>\n",
       "      <td>29903</td>\n",
       "      <td>RefSeq</td>\n",
       "      <td>complete</td>\n",
       "      <td>Asia; China</td>\n",
       "      <td>NaN</td>\n",
       "      <td>NaN</td>\n",
       "      <td>9606</td>\n",
       "      <td>2019-12</td>\n",
       "      <td>PRJNA485481</td>\n",
       "      <td>NaN</td>\n",
       "    </tr>\n",
       "    <tr>\n",
       "      <th>1</th>\n",
       "      <td>OM487257.1</td>\n",
       "      <td>2697049</td>\n",
       "      <td>Severe acute respiratory syndrome coronavirus 2</td>\n",
       "      <td>Betacoronavirus</td>\n",
       "      <td>Coronaviridae</td>\n",
       "      <td>SARS-CoV-2/human/USA/UT-UPHL-220129247957/2021</td>\n",
       "      <td>29815</td>\n",
       "      <td>GenBank</td>\n",
       "      <td>complete</td>\n",
       "      <td>North America; USA</td>\n",
       "      <td>NaN</td>\n",
       "      <td>NaN</td>\n",
       "      <td>9606</td>\n",
       "      <td>2021-12-23</td>\n",
       "      <td>PRJNA614995</td>\n",
       "      <td>SAMN25559487</td>\n",
       "    </tr>\n",
       "    <tr>\n",
       "      <th>2</th>\n",
       "      <td>OM403304.1</td>\n",
       "      <td>2697049</td>\n",
       "      <td>Severe acute respiratory syndrome coronavirus 2</td>\n",
       "      <td>Betacoronavirus</td>\n",
       "      <td>Coronaviridae</td>\n",
       "      <td>SARS-CoV-2/human/HKG/VM20001061-2/2020</td>\n",
       "      <td>29870</td>\n",
       "      <td>GenBank</td>\n",
       "      <td>complete</td>\n",
       "      <td>Asia; Hong Kong</td>\n",
       "      <td>NaN</td>\n",
       "      <td>NaN</td>\n",
       "      <td>9606</td>\n",
       "      <td>2020-01-23</td>\n",
       "      <td>NaN</td>\n",
       "      <td>NaN</td>\n",
       "    </tr>\n",
       "    <tr>\n",
       "      <th>3</th>\n",
       "      <td>OM403303.1</td>\n",
       "      <td>2697049</td>\n",
       "      <td>Severe acute respiratory syndrome coronavirus 2</td>\n",
       "      <td>Betacoronavirus</td>\n",
       "      <td>Coronaviridae</td>\n",
       "      <td>SARS-CoV-2/human/HKG/Original/2020</td>\n",
       "      <td>29851</td>\n",
       "      <td>GenBank</td>\n",
       "      <td>complete</td>\n",
       "      <td>Asia; Hong Kong</td>\n",
       "      <td>NaN</td>\n",
       "      <td>NaN</td>\n",
       "      <td>9606</td>\n",
       "      <td>2020-01-23</td>\n",
       "      <td>NaN</td>\n",
       "      <td>NaN</td>\n",
       "    </tr>\n",
       "    <tr>\n",
       "      <th>4</th>\n",
       "      <td>OM401120.1</td>\n",
       "      <td>2697049</td>\n",
       "      <td>Severe acute respiratory syndrome coronavirus 2</td>\n",
       "      <td>Betacoronavirus</td>\n",
       "      <td>Coronaviridae</td>\n",
       "      <td>SARS-CoV-2/human/USA/UT-UPHL-211112790633/2021</td>\n",
       "      <td>29712</td>\n",
       "      <td>GenBank</td>\n",
       "      <td>complete</td>\n",
       "      <td>North America; USA</td>\n",
       "      <td>NaN</td>\n",
       "      <td>NaN</td>\n",
       "      <td>9606</td>\n",
       "      <td>2021-09-25</td>\n",
       "      <td>PRJNA614995</td>\n",
       "      <td>SAMN23427251</td>\n",
       "    </tr>\n",
       "  </tbody>\n",
       "</table>\n",
       "</div>"
      ],
      "text/plain": [
       "  Nucleotide Accession  Species Taxonomy Id  \\\n",
       "0          NC_045512.2              2697049   \n",
       "1           OM487257.1              2697049   \n",
       "2           OM403304.1              2697049   \n",
       "3           OM403303.1              2697049   \n",
       "4           OM401120.1              2697049   \n",
       "\n",
       "                                      Species Name      Virus Genus  \\\n",
       "0  Severe acute respiratory syndrome coronavirus 2  Betacoronavirus   \n",
       "1  Severe acute respiratory syndrome coronavirus 2  Betacoronavirus   \n",
       "2  Severe acute respiratory syndrome coronavirus 2  Betacoronavirus   \n",
       "3  Severe acute respiratory syndrome coronavirus 2  Betacoronavirus   \n",
       "4  Severe acute respiratory syndrome coronavirus 2  Betacoronavirus   \n",
       "\n",
       "    Virus Family                                    Isolate Name  \\\n",
       "0  Coronaviridae                                      Wuhan-Hu-1   \n",
       "1  Coronaviridae  SARS-CoV-2/human/USA/UT-UPHL-220129247957/2021   \n",
       "2  Coronaviridae          SARS-CoV-2/human/HKG/VM20001061-2/2020   \n",
       "3  Coronaviridae              SARS-CoV-2/human/HKG/Original/2020   \n",
       "4  Coronaviridae  SARS-CoV-2/human/USA/UT-UPHL-211112790633/2021   \n",
       "\n",
       "   Nucleotide Length Sequence Type Nuc Completeness        Geo Location  \\\n",
       "0              29903        RefSeq         complete         Asia; China   \n",
       "1              29815       GenBank         complete  North America; USA   \n",
       "2              29870       GenBank         complete     Asia; Hong Kong   \n",
       "3              29851       GenBank         complete     Asia; Hong Kong   \n",
       "4              29712       GenBank         complete  North America; USA   \n",
       "\n",
       "   US State  Host Name  Host Taxonomy ID Collection Date   BioProject  \\\n",
       "0       NaN        NaN              9606         2019-12  PRJNA485481   \n",
       "1       NaN        NaN              9606      2021-12-23  PRJNA614995   \n",
       "2       NaN        NaN              9606      2020-01-23          NaN   \n",
       "3       NaN        NaN              9606      2020-01-23          NaN   \n",
       "4       NaN        NaN              9606      2021-09-25  PRJNA614995   \n",
       "\n",
       "      BioSample  \n",
       "0           NaN  \n",
       "1  SAMN25559487  \n",
       "2           NaN  \n",
       "3           NaN  \n",
       "4  SAMN23427251  "
      ]
     },
     "execution_count": 5,
     "metadata": {},
     "output_type": "execute_result"
    }
   ],
   "source": [
    "covid = pd.read_csv('ncbi_datasets.csv',low_memory = False)\n",
    "covid.head()"
   ]
  },
  {
   "cell_type": "code",
   "execution_count": 6,
   "id": "ef7f37ef-19da-499d-8376-34805e598837",
   "metadata": {},
   "outputs": [
    {
     "name": "stdout",
     "output_type": "stream",
     "text": [
      "<class 'pandas.core.frame.DataFrame'>\n",
      "RangeIndex: 847791 entries, 0 to 847790\n",
      "Data columns (total 16 columns):\n",
      " #   Column                Non-Null Count   Dtype  \n",
      "---  ------                --------------   -----  \n",
      " 0   Nucleotide Accession  847791 non-null  object \n",
      " 1   Species Taxonomy Id   847791 non-null  int64  \n",
      " 2   Species Name          847791 non-null  object \n",
      " 3   Virus Genus           847791 non-null  object \n",
      " 4   Virus Family          847791 non-null  object \n",
      " 5   Isolate Name          609653 non-null  object \n",
      " 6   Nucleotide Length     847791 non-null  int64  \n",
      " 7   Sequence Type         847791 non-null  object \n",
      " 8   Nuc Completeness      847791 non-null  object \n",
      " 9   Geo Location          847720 non-null  object \n",
      " 10  US State              0 non-null       float64\n",
      " 11  Host Name             0 non-null       float64\n",
      " 12  Host Taxonomy ID      847791 non-null  int64  \n",
      " 13  Collection Date       847595 non-null  object \n",
      " 14  BioProject            611783 non-null  object \n",
      " 15  BioSample             590586 non-null  object \n",
      "dtypes: float64(2), int64(3), object(11)\n",
      "memory usage: 103.5+ MB\n"
     ]
    }
   ],
   "source": [
    "covid.info()"
   ]
  },
  {
   "cell_type": "code",
   "execution_count": 7,
   "id": "2c219949-a24e-48d9-8ce1-18d530b5df2d",
   "metadata": {},
   "outputs": [],
   "source": [
    "covid['Collection Date'] = pd.to_datetime(covid['Collection Date'])"
   ]
  },
  {
   "cell_type": "markdown",
   "id": "6449455c-339f-45e0-90ec-5ca754ab7113",
   "metadata": {},
   "source": [
    "When was the first sample from each of the continents found?"
   ]
  },
  {
   "cell_type": "code",
   "execution_count": 13,
   "id": "a68d7a2a-7f8f-4894-ad6e-02bf9fa5d89e",
   "metadata": {},
   "outputs": [
    {
     "data": {
      "text/plain": [
       "continent\n",
       "Africa          2020-02-06\n",
       "Asia            2019-12-01\n",
       "Europe          2020-01-01\n",
       "North America   2020-01-01\n",
       "Oceania         2020-01-01\n",
       "South America   2020-01-01\n",
       "nan             2020-01-20\n",
       "Name: Collection Date, dtype: datetime64[ns]"
      ]
     },
     "execution_count": 13,
     "metadata": {},
     "output_type": "execute_result"
    }
   ],
   "source": [
    "def return_continent(val):\n",
    "    lst = str(val).split(';')\n",
    "    return lst[0]\n",
    "covid['continent'] = covid['Geo Location'].apply(lambda x: return_continent(x))\n",
    "continent_dates = covid.groupby('continent')['Collection Date'].min()\n",
    "continent_dates"
   ]
  },
  {
   "cell_type": "markdown",
   "id": "6c053433-1a94-4890-8013-0969c7bf9680",
   "metadata": {},
   "source": [
    "How many sequences on each continent?"
   ]
  },
  {
   "cell_type": "code",
   "execution_count": 10,
   "id": "d857cc9e-7c0f-4aea-959e-e0235aaceff2",
   "metadata": {},
   "outputs": [],
   "source": [
    "num_unique = covid.groupby('continent')['Sequence Type'].nunique()"
   ]
  },
  {
   "cell_type": "code",
   "execution_count": 11,
   "id": "fc7ca99e-bb9e-4dc0-a570-75d65022014d",
   "metadata": {},
   "outputs": [],
   "source": [
    "num_cases = covid.groupby('continent')['Virus Genus'].count()"
   ]
  },
  {
   "cell_type": "code",
   "execution_count": 12,
   "id": "3ff0525a-1277-4c6e-93fb-887988165fe6",
   "metadata": {},
   "outputs": [
    {
     "data": {
      "text/plain": [
       "continent\n",
       "Africa             2192\n",
       "Asia               8581\n",
       "Europe           254520\n",
       "North America    571069\n",
       "Oceania           10603\n",
       "South America       755\n",
       "nan                  71\n",
       "Name: Virus Genus, dtype: int64"
      ]
     },
     "execution_count": 12,
     "metadata": {},
     "output_type": "execute_result"
    }
   ],
   "source": [
    "num_cases"
   ]
  },
  {
   "cell_type": "code",
   "execution_count": 25,
   "id": "58d70ab7-fffe-46c7-a490-8c9032e19379",
   "metadata": {},
   "outputs": [
    {
     "data": {
      "text/plain": [
       "<AxesSubplot:xlabel='continent'>"
      ]
     },
     "execution_count": 25,
     "metadata": {},
     "output_type": "execute_result"
    },
    {
     "data": {
      "image/png": "[encoded data removed]",
      "text/plain": [
       "<Figure size 500x400 with 1 Axes>"
      ]
     },
     "metadata": {},
     "output_type": "display_data"
    }
   ],
   "source": [
    "plt.figure(figsize = (5,4))\n",
    "num_cases.plot.bar()"
   ]
  },
  {
   "cell_type": "code",
   "execution_count": 26,
   "id": "cdced93a-ab2c-4c2a-bf5a-6043da042067",
   "metadata": {},
   "outputs": [
    {
     "data": {
      "text/plain": [
       "(array([1.0000e+00, 0.0000e+00, 0.0000e+00, 0.0000e+00, 0.0000e+00,\n",
       "        0.0000e+00, 0.0000e+00, 0.0000e+00, 0.0000e+00, 8.4779e+05]),\n",
       " array([ 2859. ,  5574.9,  8290.8, 11006.7, 13722.6, 16438.5, 19154.4,\n",
       "        21870.3, 24586.2, 27302.1, 30018. ]),\n",
       " <BarContainer object of 10 artists>)"
      ]
     },
     "execution_count": 26,
     "metadata": {},
     "output_type": "execute_result"
    },
    {
     "data": {
      "image/png": "[encoded data removed]",
      "text/plain": [
       "<Figure size 640x480 with 1 Axes>"
      ]
     },
     "metadata": {},
     "output_type": "display_data"
    }
   ],
   "source": [
    "plt.hist(covid['Nucleotide Length'])"
   ]
  },
  {
   "cell_type": "markdown",
   "id": "0f2807d1-0932-4597-9bac-f6a086ea168d",
   "metadata": {},
   "source": [
    "Remove outliers"
   ]
  },
  {
   "cell_type": "markdown",
   "id": "26eb95d1-636a-4564-a937-ff7cf19d87d9",
   "metadata": {},
   "source": [
    "Remove outliers using inter quartile ranges"
   ]
  },
  {
   "cell_type": "code",
   "execution_count": 27,
   "id": "114710a7-85c2-4deb-8379-e3a06fc3b9b4",
   "metadata": {},
   "outputs": [
    {
     "data": {
      "text/plain": [
       "count    847791.000000\n",
       "mean      29825.747932\n",
       "std          69.937482\n",
       "min        2859.000000\n",
       "25%       29786.000000\n",
       "50%       29819.000000\n",
       "75%       29884.000000\n",
       "max       30018.000000\n",
       "Name: Nucleotide Length, dtype: float64"
      ]
     },
     "execution_count": 27,
     "metadata": {},
     "output_type": "execute_result"
    }
   ],
   "source": [
    "covid['Nucleotide Length'].describe()"
   ]
  },
  {
   "cell_type": "code",
   "execution_count": 28,
   "id": "e79bc38e-cec3-47d5-ab02-5239061d0ea5",
   "metadata": {},
   "outputs": [],
   "source": [
    "q1 = covid['Nucleotide Length'].describe()[4]\n",
    "q3 = covid['Nucleotide Length'].describe()[6]\n",
    "iqr = q3-q1\n",
    "lower_bound = q1-iqr\n",
    "upper_bound = q3+iqr"
   ]
  },
  {
   "cell_type": "code",
   "execution_count": 29,
   "id": "e4eb6378-4717-467a-8231-4393a77bdf2e",
   "metadata": {},
   "outputs": [],
   "source": [
    "length_without_outliers = covid[covid['Nucleotide Length'].between(lower_bound,upper_bound)]"
   ]
  },
  {
   "cell_type": "code",
   "execution_count": 30,
   "id": "5a2e9737-3312-448c-bce4-cf7b626a35d7",
   "metadata": {},
   "outputs": [
    {
     "data": {
      "text/plain": [
       "0.9703275925316499"
      ]
     },
     "execution_count": 30,
     "metadata": {},
     "output_type": "execute_result"
    }
   ],
   "source": [
    "len(length_without_outliers)/len(covid['Nucleotide Length'])"
   ]
  },
  {
   "cell_type": "markdown",
   "id": "717d34ef-df90-4fd9-9b47-3b6bd1b87751",
   "metadata": {},
   "source": [
    "3% of the data are defined as outliers, lets remove them"
   ]
  },
  {
   "cell_type": "code",
   "execution_count": 31,
   "id": "19cae2ed-7a9c-44a0-9115-63c1a3341cdf",
   "metadata": {},
   "outputs": [],
   "source": [
    "covid = covid[covid['Nucleotide Length'].between(lower_bound,upper_bound)]"
   ]
  },
  {
   "cell_type": "code",
   "execution_count": 32,
   "id": "d442e70c-bb63-4b6a-887f-6a5cbddb6f91",
   "metadata": {},
   "outputs": [
    {
     "data": {
      "text/plain": [
       "(array([1.70620e+04, 1.99900e+04, 6.62420e+04, 1.34273e+05, 1.68514e+05,\n",
       "        6.17720e+04, 6.59090e+04, 2.04770e+05, 8.40910e+04, 1.20000e+01]),\n",
       " array([29688. , 29714.7, 29741.4, 29768.1, 29794.8, 29821.5, 29848.2,\n",
       "        29874.9, 29901.6, 29928.3, 29955. ]),\n",
       " <BarContainer object of 10 artists>)"
      ]
     },
     "execution_count": 32,
     "metadata": {},
     "output_type": "execute_result"
    },
    {
     "data": {
      "image/png": "[encoded data removed]",
      "text/plain": [
       "<Figure size 640x480 with 1 Axes>"
      ]
     },
     "metadata": {},
     "output_type": "display_data"
    }
   ],
   "source": [
    "plt.hist(covid['Nucleotide Length'])"
   ]
  },
  {
   "cell_type": "markdown",
   "id": "5f4b117b-e055-46cb-917a-c451e9cebed9",
   "metadata": {},
   "source": [
    "Samples collected by month"
   ]
  },
  {
   "cell_type": "code",
   "execution_count": 35,
   "id": "7fcc6128-f4b7-4e3d-9e19-cb80fb40d3c8",
   "metadata": {},
   "outputs": [
    {
     "data": {
      "text/plain": [
       "<AxesSubplot:xlabel='Collection Date'>"
      ]
     },
     "execution_count": 35,
     "metadata": {},
     "output_type": "execute_result"
    },
    {
     "data": {
      "image/png": "[encoded data removed]",
      "text/plain": [
       "<Figure size 640x480 with 1 Axes>"
      ]
     },
     "metadata": {},
     "output_type": "display_data"
    }
   ],
   "source": [
    "monthly_cases = covid.groupby(covid['Collection Date'].dt.to_period('M'))['Species Name'].count()\n",
    "monthly_cases.plot()"
   ]
  },
  {
   "cell_type": "markdown",
   "id": "21329d59-7053-48ea-aa1c-473bdca7e208",
   "metadata": {},
   "source": [
    "Group by continent and monthly cases. (Figure out how to plot)"
   ]
  },
  {
   "cell_type": "code",
   "execution_count": 75,
   "id": "beed4d89-095c-4e18-9b3c-147311db99a6",
   "metadata": {},
   "outputs": [],
   "source": [
    "continent_over_time = covid.groupby(['continent',covid['Collection Date'].dt.to_period('M')]).size()"
   ]
  },
  {
   "cell_type": "markdown",
   "id": "19fa08e8-3b82-4114-ab98-21462c086255",
   "metadata": {},
   "source": [
    "Lets sequence the first covid sequence (REfSeq), first sequence for north america,Delta and omicron"
   ]
  },
  {
   "cell_type": "markdown",
   "id": "2ce0dc10-c40a-44d0-a564-a701d6f6f9d0",
   "metadata": {},
   "source": [
    "First, lets do the reference sequence"
   ]
  },
  {
   "cell_type": "code",
   "execution_count": 80,
   "id": "bf1573af-2026-4fc9-a773-07ad882d207f",
   "metadata": {},
   "outputs": [
    {
     "data": {
      "text/html": [
       "<div>\n",
       "<style scoped>\n",
       "    .dataframe tbody tr th:only-of-type {\n",
       "        vertical-align: middle;\n",
       "    }\n",
       "\n",
       "    .dataframe tbody tr th {\n",
       "        vertical-align: top;\n",
       "    }\n",
       "\n",
       "    .dataframe thead th {\n",
       "        text-align: right;\n",
       "    }\n",
       "</style>\n",
       "<table border=\"1\" class=\"dataframe\">\n",
       "  <thead>\n",
       "    <tr style=\"text-align: right;\">\n",
       "      <th></th>\n",
       "      <th>Nucleotide Accession</th>\n",
       "      <th>Species Taxonomy Id</th>\n",
       "      <th>Species Name</th>\n",
       "      <th>Virus Genus</th>\n",
       "      <th>Virus Family</th>\n",
       "      <th>Isolate Name</th>\n",
       "      <th>Nucleotide Length</th>\n",
       "      <th>Sequence Type</th>\n",
       "      <th>Nuc Completeness</th>\n",
       "      <th>Geo Location</th>\n",
       "      <th>US State</th>\n",
       "      <th>Host Name</th>\n",
       "      <th>Host Taxonomy ID</th>\n",
       "      <th>Collection Date</th>\n",
       "      <th>BioProject</th>\n",
       "      <th>BioSample</th>\n",
       "      <th>continent</th>\n",
       "    </tr>\n",
       "  </thead>\n",
       "  <tbody>\n",
       "    <tr>\n",
       "      <th>0</th>\n",
       "      <td>NC_045512.2</td>\n",
       "      <td>2697049</td>\n",
       "      <td>Severe acute respiratory syndrome coronavirus 2</td>\n",
       "      <td>Betacoronavirus</td>\n",
       "      <td>Coronaviridae</td>\n",
       "      <td>Wuhan-Hu-1</td>\n",
       "      <td>29903</td>\n",
       "      <td>RefSeq</td>\n",
       "      <td>complete</td>\n",
       "      <td>Asia; China</td>\n",
       "      <td>NaN</td>\n",
       "      <td>NaN</td>\n",
       "      <td>9606</td>\n",
       "      <td>2019-12-01</td>\n",
       "      <td>PRJNA485481</td>\n",
       "      <td>NaN</td>\n",
       "      <td>Asia</td>\n",
       "    </tr>\n",
       "  </tbody>\n",
       "</table>\n",
       "</div>"
      ],
      "text/plain": [
       "  Nucleotide Accession  Species Taxonomy Id  \\\n",
       "0          NC_045512.2              2697049   \n",
       "\n",
       "                                      Species Name      Virus Genus  \\\n",
       "0  Severe acute respiratory syndrome coronavirus 2  Betacoronavirus   \n",
       "\n",
       "    Virus Family Isolate Name  Nucleotide Length Sequence Type  \\\n",
       "0  Coronaviridae   Wuhan-Hu-1              29903        RefSeq   \n",
       "\n",
       "  Nuc Completeness Geo Location  US State  Host Name  Host Taxonomy ID  \\\n",
       "0         complete  Asia; China       NaN        NaN              9606   \n",
       "\n",
       "  Collection Date   BioProject BioSample continent  \n",
       "0      2019-12-01  PRJNA485481       NaN      Asia  "
      ]
     },
     "execution_count": 80,
     "metadata": {},
     "output_type": "execute_result"
    }
   ],
   "source": [
    "first_seq = covid[covid['Sequence Type'] == 'RefSeq']\n",
    "first_seq"
   ]
  },
  {
   "cell_type": "markdown",
   "id": "b1db3f6e-09a4-428e-a99d-e191e9e39778",
   "metadata": {},
   "source": [
    "And first in north america"
   ]
  },
  {
   "cell_type": "code",
   "execution_count": 92,
   "id": "0730c05e-d834-4722-8785-51fe2747590f",
   "metadata": {},
   "outputs": [
    {
     "data": {
      "text/html": [
       "<div>\n",
       "<style scoped>\n",
       "    .dataframe tbody tr th:only-of-type {\n",
       "        vertical-align: middle;\n",
       "    }\n",
       "\n",
       "    .dataframe tbody tr th {\n",
       "        vertical-align: top;\n",
       "    }\n",
       "\n",
       "    .dataframe thead th {\n",
       "        text-align: right;\n",
       "    }\n",
       "</style>\n",
       "<table border=\"1\" class=\"dataframe\">\n",
       "  <thead>\n",
       "    <tr style=\"text-align: right;\">\n",
       "      <th></th>\n",
       "      <th>Nucleotide Accession</th>\n",
       "      <th>Species Taxonomy Id</th>\n",
       "      <th>Species Name</th>\n",
       "      <th>Virus Genus</th>\n",
       "      <th>Virus Family</th>\n",
       "      <th>Isolate Name</th>\n",
       "      <th>Nucleotide Length</th>\n",
       "      <th>Sequence Type</th>\n",
       "      <th>Nuc Completeness</th>\n",
       "      <th>Geo Location</th>\n",
       "      <th>US State</th>\n",
       "      <th>Host Name</th>\n",
       "      <th>Host Taxonomy ID</th>\n",
       "      <th>Collection Date</th>\n",
       "      <th>BioProject</th>\n",
       "      <th>BioSample</th>\n",
       "      <th>continent</th>\n",
       "    </tr>\n",
       "  </thead>\n",
       "  <tbody>\n",
       "    <tr>\n",
       "      <th>560542</th>\n",
       "      <td>OL676391.1</td>\n",
       "      <td>2697049</td>\n",
       "      <td>Severe acute respiratory syndrome coronavirus 2</td>\n",
       "      <td>Betacoronavirus</td>\n",
       "      <td>Coronaviridae</td>\n",
       "      <td>SARS-CoV-2/human/USA/hCov_19_USA_ID_IVREF_6779...</td>\n",
       "      <td>29829</td>\n",
       "      <td>GenBank</td>\n",
       "      <td>complete</td>\n",
       "      <td>North America; USA: Bingham, ID</td>\n",
       "      <td>NaN</td>\n",
       "      <td>NaN</td>\n",
       "      <td>9606</td>\n",
       "      <td>2020-01-01</td>\n",
       "      <td>NaN</td>\n",
       "      <td>NaN</td>\n",
       "      <td>North America</td>\n",
       "    </tr>\n",
       "  </tbody>\n",
       "</table>\n",
       "</div>"
      ],
      "text/plain": [
       "       Nucleotide Accession  Species Taxonomy Id  \\\n",
       "560542           OL676391.1              2697049   \n",
       "\n",
       "                                           Species Name      Virus Genus  \\\n",
       "560542  Severe acute respiratory syndrome coronavirus 2  Betacoronavirus   \n",
       "\n",
       "         Virus Family                                       Isolate Name  \\\n",
       "560542  Coronaviridae  SARS-CoV-2/human/USA/hCov_19_USA_ID_IVREF_6779...   \n",
       "\n",
       "        Nucleotide Length Sequence Type Nuc Completeness  \\\n",
       "560542              29829       GenBank         complete   \n",
       "\n",
       "                           Geo Location  US State  Host Name  \\\n",
       "560542  North America; USA: Bingham, ID       NaN        NaN   \n",
       "\n",
       "        Host Taxonomy ID Collection Date BioProject BioSample      continent  \n",
       "560542              9606      2020-01-01        NaN       NaN  North America  "
      ]
     },
     "execution_count": 92,
     "metadata": {},
     "output_type": "execute_result"
    }
   ],
   "source": [
    "north_america_df = covid[(covid['continent'] == 'North America')].sort_values('Collection Date')\n",
    "north_america_df.head(1)"
   ]
  },
  {
   "cell_type": "code",
   "execution_count": 76,
   "id": "8c59fd64-4549-4bb8-968a-4417b1b42a64",
   "metadata": {},
   "outputs": [
    {
     "data": {
      "text/html": [
       "<div>\n",
       "<style scoped>\n",
       "    .dataframe tbody tr th:only-of-type {\n",
       "        vertical-align: middle;\n",
       "    }\n",
       "\n",
       "    .dataframe tbody tr th {\n",
       "        vertical-align: top;\n",
       "    }\n",
       "\n",
       "    .dataframe thead th {\n",
       "        text-align: right;\n",
       "    }\n",
       "</style>\n",
       "<table border=\"1\" class=\"dataframe\">\n",
       "  <thead>\n",
       "    <tr style=\"text-align: right;\">\n",
       "      <th></th>\n",
       "      <th>Nucleotide Accession</th>\n",
       "      <th>Species Taxonomy Id</th>\n",
       "      <th>Species Name</th>\n",
       "      <th>Virus Genus</th>\n",
       "      <th>Virus Family</th>\n",
       "      <th>Isolate Name</th>\n",
       "      <th>Nucleotide Length</th>\n",
       "      <th>Sequence Type</th>\n",
       "      <th>Nuc Completeness</th>\n",
       "      <th>Geo Location</th>\n",
       "      <th>US State</th>\n",
       "      <th>Host Name</th>\n",
       "      <th>Host Taxonomy ID</th>\n",
       "      <th>Collection Date</th>\n",
       "      <th>BioProject</th>\n",
       "      <th>BioSample</th>\n",
       "      <th>continent</th>\n",
       "    </tr>\n",
       "  </thead>\n",
       "  <tbody>\n",
       "    <tr>\n",
       "      <th>85804</th>\n",
       "      <td>OM108163.1</td>\n",
       "      <td>2697049</td>\n",
       "      <td>Severe acute respiratory syndrome coronavirus 2</td>\n",
       "      <td>Betacoronavirus</td>\n",
       "      <td>Coronaviridae</td>\n",
       "      <td>SARS-CoV-2/human/CHN/Delta-3/2021</td>\n",
       "      <td>29860</td>\n",
       "      <td>GenBank</td>\n",
       "      <td>complete</td>\n",
       "      <td>Asia; China: Beijing</td>\n",
       "      <td>NaN</td>\n",
       "      <td>NaN</td>\n",
       "      <td>9606</td>\n",
       "      <td>2021-08-14</td>\n",
       "      <td>NaN</td>\n",
       "      <td>NaN</td>\n",
       "      <td>Asia</td>\n",
       "    </tr>\n",
       "    <tr>\n",
       "      <th>85948</th>\n",
       "      <td>OM061695.1</td>\n",
       "      <td>2697049</td>\n",
       "      <td>Severe acute respiratory syndrome coronavirus 2</td>\n",
       "      <td>Betacoronavirus</td>\n",
       "      <td>Coronaviridae</td>\n",
       "      <td>SARS-CoV-2/human/CHN/Delta-1/2021</td>\n",
       "      <td>29858</td>\n",
       "      <td>GenBank</td>\n",
       "      <td>complete</td>\n",
       "      <td>Asia; China: Beijing</td>\n",
       "      <td>NaN</td>\n",
       "      <td>NaN</td>\n",
       "      <td>9606</td>\n",
       "      <td>2021-08-10</td>\n",
       "      <td>NaN</td>\n",
       "      <td>NaN</td>\n",
       "      <td>Asia</td>\n",
       "    </tr>\n",
       "    <tr>\n",
       "      <th>251375</th>\n",
       "      <td>OK091006.1</td>\n",
       "      <td>2697049</td>\n",
       "      <td>Severe acute respiratory syndrome coronavirus 2</td>\n",
       "      <td>Betacoronavirus</td>\n",
       "      <td>Coronaviridae</td>\n",
       "      <td>SARS-CoV-2/human/JPN/SARS-CoV-2, B.1.617.2 lin...</td>\n",
       "      <td>29836</td>\n",
       "      <td>GenBank</td>\n",
       "      <td>complete</td>\n",
       "      <td>Asia; Japan</td>\n",
       "      <td>NaN</td>\n",
       "      <td>NaN</td>\n",
       "      <td>9606</td>\n",
       "      <td>2021-08-24</td>\n",
       "      <td>NaN</td>\n",
       "      <td>NaN</td>\n",
       "      <td>Asia</td>\n",
       "    </tr>\n",
       "    <tr>\n",
       "      <th>665095</th>\n",
       "      <td>OM108132.1</td>\n",
       "      <td>2697049</td>\n",
       "      <td>Severe acute respiratory syndrome coronavirus 2</td>\n",
       "      <td>Betacoronavirus</td>\n",
       "      <td>Coronaviridae</td>\n",
       "      <td>SARS-CoV-2/human/CHN/Delta-2/2021</td>\n",
       "      <td>29858</td>\n",
       "      <td>GenBank</td>\n",
       "      <td>complete</td>\n",
       "      <td>Asia; China: Beijing</td>\n",
       "      <td>NaN</td>\n",
       "      <td>NaN</td>\n",
       "      <td>9606</td>\n",
       "      <td>2021-08-11</td>\n",
       "      <td>NaN</td>\n",
       "      <td>NaN</td>\n",
       "      <td>Asia</td>\n",
       "    </tr>\n",
       "  </tbody>\n",
       "</table>\n",
       "</div>"
      ],
      "text/plain": [
       "       Nucleotide Accession  Species Taxonomy Id  \\\n",
       "85804            OM108163.1              2697049   \n",
       "85948            OM061695.1              2697049   \n",
       "251375           OK091006.1              2697049   \n",
       "665095           OM108132.1              2697049   \n",
       "\n",
       "                                           Species Name      Virus Genus  \\\n",
       "85804   Severe acute respiratory syndrome coronavirus 2  Betacoronavirus   \n",
       "85948   Severe acute respiratory syndrome coronavirus 2  Betacoronavirus   \n",
       "251375  Severe acute respiratory syndrome coronavirus 2  Betacoronavirus   \n",
       "665095  Severe acute respiratory syndrome coronavirus 2  Betacoronavirus   \n",
       "\n",
       "         Virus Family                                       Isolate Name  \\\n",
       "85804   Coronaviridae                  SARS-CoV-2/human/CHN/Delta-3/2021   \n",
       "85948   Coronaviridae                  SARS-CoV-2/human/CHN/Delta-1/2021   \n",
       "251375  Coronaviridae  SARS-CoV-2/human/JPN/SARS-CoV-2, B.1.617.2 lin...   \n",
       "665095  Coronaviridae                  SARS-CoV-2/human/CHN/Delta-2/2021   \n",
       "\n",
       "        Nucleotide Length Sequence Type Nuc Completeness  \\\n",
       "85804               29860       GenBank         complete   \n",
       "85948               29858       GenBank         complete   \n",
       "251375              29836       GenBank         complete   \n",
       "665095              29858       GenBank         complete   \n",
       "\n",
       "                Geo Location  US State  Host Name  Host Taxonomy ID  \\\n",
       "85804   Asia; China: Beijing       NaN        NaN              9606   \n",
       "85948   Asia; China: Beijing       NaN        NaN              9606   \n",
       "251375           Asia; Japan       NaN        NaN              9606   \n",
       "665095  Asia; China: Beijing       NaN        NaN              9606   \n",
       "\n",
       "       Collection Date BioProject BioSample continent  \n",
       "85804       2021-08-14        NaN       NaN      Asia  \n",
       "85948       2021-08-10        NaN       NaN      Asia  \n",
       "251375      2021-08-24        NaN       NaN      Asia  \n",
       "665095      2021-08-11        NaN       NaN      Asia  "
      ]
     },
     "execution_count": 76,
     "metadata": {},
     "output_type": "execute_result"
    }
   ],
   "source": [
    "delta = covid[covid['Isolate Name'].str.contains('Delta').fillna(False)]\n",
    "delta"
   ]
  },
  {
   "cell_type": "code",
   "execution_count": 78,
   "id": "137bf24d-a570-45d7-ba9e-fa0c4d5a147d",
   "metadata": {},
   "outputs": [
    {
     "data": {
      "text/html": [
       "<div>\n",
       "<style scoped>\n",
       "    .dataframe tbody tr th:only-of-type {\n",
       "        vertical-align: middle;\n",
       "    }\n",
       "\n",
       "    .dataframe tbody tr th {\n",
       "        vertical-align: top;\n",
       "    }\n",
       "\n",
       "    .dataframe thead th {\n",
       "        text-align: right;\n",
       "    }\n",
       "</style>\n",
       "<table border=\"1\" class=\"dataframe\">\n",
       "  <thead>\n",
       "    <tr style=\"text-align: right;\">\n",
       "      <th></th>\n",
       "      <th>Nucleotide Accession</th>\n",
       "      <th>Species Taxonomy Id</th>\n",
       "      <th>Species Name</th>\n",
       "      <th>Virus Genus</th>\n",
       "      <th>Virus Family</th>\n",
       "      <th>Isolate Name</th>\n",
       "      <th>Nucleotide Length</th>\n",
       "      <th>Sequence Type</th>\n",
       "      <th>Nuc Completeness</th>\n",
       "      <th>Geo Location</th>\n",
       "      <th>US State</th>\n",
       "      <th>Host Name</th>\n",
       "      <th>Host Taxonomy ID</th>\n",
       "      <th>Collection Date</th>\n",
       "      <th>BioProject</th>\n",
       "      <th>BioSample</th>\n",
       "      <th>continent</th>\n",
       "    </tr>\n",
       "  </thead>\n",
       "  <tbody>\n",
       "    <tr>\n",
       "      <th>806923</th>\n",
       "      <td>OM095411.1</td>\n",
       "      <td>2697049</td>\n",
       "      <td>Severe acute respiratory syndrome coronavirus 2</td>\n",
       "      <td>Betacoronavirus</td>\n",
       "      <td>Coronaviridae</td>\n",
       "      <td>SARS-CoV-2/human/CHN/Omicron-1/2021</td>\n",
       "      <td>29788</td>\n",
       "      <td>GenBank</td>\n",
       "      <td>complete</td>\n",
       "      <td>Asia; China: Beijing</td>\n",
       "      <td>NaN</td>\n",
       "      <td>NaN</td>\n",
       "      <td>9606</td>\n",
       "      <td>2021-12-08</td>\n",
       "      <td>NaN</td>\n",
       "      <td>NaN</td>\n",
       "      <td>Asia</td>\n",
       "    </tr>\n",
       "  </tbody>\n",
       "</table>\n",
       "</div>"
      ],
      "text/plain": [
       "       Nucleotide Accession  Species Taxonomy Id  \\\n",
       "806923           OM095411.1              2697049   \n",
       "\n",
       "                                           Species Name      Virus Genus  \\\n",
       "806923  Severe acute respiratory syndrome coronavirus 2  Betacoronavirus   \n",
       "\n",
       "         Virus Family                         Isolate Name  Nucleotide Length  \\\n",
       "806923  Coronaviridae  SARS-CoV-2/human/CHN/Omicron-1/2021              29788   \n",
       "\n",
       "       Sequence Type Nuc Completeness          Geo Location  US State  \\\n",
       "806923       GenBank         complete  Asia; China: Beijing       NaN   \n",
       "\n",
       "        Host Name  Host Taxonomy ID Collection Date BioProject BioSample  \\\n",
       "806923        NaN              9606      2021-12-08        NaN       NaN   \n",
       "\n",
       "       continent  \n",
       "806923      Asia  "
      ]
     },
     "execution_count": 78,
     "metadata": {},
     "output_type": "execute_result"
    }
   ],
   "source": [
    "omicron = covid[covid['Isolate Name'].str.contains('Omicron').fillna(False)]\n",
    "omicron"
   ]
  },
  {
   "cell_type": "code",
   "execution_count": 93,
   "id": "ccbe01f2-6497-4886-bb1d-5d35a6ed4ca6",
   "metadata": {},
   "outputs": [],
   "source": [
    "nucleotide_ids = ['NC_045512.2','OL676391.1','OM108163.1','OM095411.1']\n",
    "human_names = ['first_sequenced','first_north_america','Delta','Omicron']"
   ]
  },
  {
   "cell_type": "code",
   "execution_count": 94,
   "id": "0f7ab81f-2102-4a54-a529-6296a0f75890",
   "metadata": {},
   "outputs": [
    {
     "data": {
      "text/html": [
       "<div>\n",
       "<style scoped>\n",
       "    .dataframe tbody tr th:only-of-type {\n",
       "        vertical-align: middle;\n",
       "    }\n",
       "\n",
       "    .dataframe tbody tr th {\n",
       "        vertical-align: top;\n",
       "    }\n",
       "\n",
       "    .dataframe thead th {\n",
       "        text-align: right;\n",
       "    }\n",
       "</style>\n",
       "<table border=\"1\" class=\"dataframe\">\n",
       "  <thead>\n",
       "    <tr style=\"text-align: right;\">\n",
       "      <th></th>\n",
       "      <th>Nucleotide Accession</th>\n",
       "      <th>Species Taxonomy Id</th>\n",
       "      <th>Species Name</th>\n",
       "      <th>Virus Genus</th>\n",
       "      <th>Virus Family</th>\n",
       "      <th>Isolate Name</th>\n",
       "      <th>Nucleotide Length</th>\n",
       "      <th>Sequence Type</th>\n",
       "      <th>Nuc Completeness</th>\n",
       "      <th>Geo Location</th>\n",
       "      <th>US State</th>\n",
       "      <th>Host Name</th>\n",
       "      <th>Host Taxonomy ID</th>\n",
       "      <th>Collection Date</th>\n",
       "      <th>BioProject</th>\n",
       "      <th>BioSample</th>\n",
       "      <th>continent</th>\n",
       "    </tr>\n",
       "  </thead>\n",
       "  <tbody>\n",
       "    <tr>\n",
       "      <th>0</th>\n",
       "      <td>NC_045512.2</td>\n",
       "      <td>2697049</td>\n",
       "      <td>Severe acute respiratory syndrome coronavirus 2</td>\n",
       "      <td>Betacoronavirus</td>\n",
       "      <td>Coronaviridae</td>\n",
       "      <td>Wuhan-Hu-1</td>\n",
       "      <td>29903</td>\n",
       "      <td>RefSeq</td>\n",
       "      <td>complete</td>\n",
       "      <td>Asia; China</td>\n",
       "      <td>NaN</td>\n",
       "      <td>NaN</td>\n",
       "      <td>9606</td>\n",
       "      <td>2019-12-01</td>\n",
       "      <td>PRJNA485481</td>\n",
       "      <td>NaN</td>\n",
       "      <td>Asia</td>\n",
       "    </tr>\n",
       "    <tr>\n",
       "      <th>85804</th>\n",
       "      <td>OM108163.1</td>\n",
       "      <td>2697049</td>\n",
       "      <td>Severe acute respiratory syndrome coronavirus 2</td>\n",
       "      <td>Betacoronavirus</td>\n",
       "      <td>Coronaviridae</td>\n",
       "      <td>SARS-CoV-2/human/CHN/Delta-3/2021</td>\n",
       "      <td>29860</td>\n",
       "      <td>GenBank</td>\n",
       "      <td>complete</td>\n",
       "      <td>Asia; China: Beijing</td>\n",
       "      <td>NaN</td>\n",
       "      <td>NaN</td>\n",
       "      <td>9606</td>\n",
       "      <td>2021-08-14</td>\n",
       "      <td>NaN</td>\n",
       "      <td>NaN</td>\n",
       "      <td>Asia</td>\n",
       "    </tr>\n",
       "    <tr>\n",
       "      <th>560542</th>\n",
       "      <td>OL676391.1</td>\n",
       "      <td>2697049</td>\n",
       "      <td>Severe acute respiratory syndrome coronavirus 2</td>\n",
       "      <td>Betacoronavirus</td>\n",
       "      <td>Coronaviridae</td>\n",
       "      <td>SARS-CoV-2/human/USA/hCov_19_USA_ID_IVREF_6779...</td>\n",
       "      <td>29829</td>\n",
       "      <td>GenBank</td>\n",
       "      <td>complete</td>\n",
       "      <td>North America; USA: Bingham, ID</td>\n",
       "      <td>NaN</td>\n",
       "      <td>NaN</td>\n",
       "      <td>9606</td>\n",
       "      <td>2020-01-01</td>\n",
       "      <td>NaN</td>\n",
       "      <td>NaN</td>\n",
       "      <td>North America</td>\n",
       "    </tr>\n",
       "    <tr>\n",
       "      <th>806923</th>\n",
       "      <td>OM095411.1</td>\n",
       "      <td>2697049</td>\n",
       "      <td>Severe acute respiratory syndrome coronavirus 2</td>\n",
       "      <td>Betacoronavirus</td>\n",
       "      <td>Coronaviridae</td>\n",
       "      <td>SARS-CoV-2/human/CHN/Omicron-1/2021</td>\n",
       "      <td>29788</td>\n",
       "      <td>GenBank</td>\n",
       "      <td>complete</td>\n",
       "      <td>Asia; China: Beijing</td>\n",
       "      <td>NaN</td>\n",
       "      <td>NaN</td>\n",
       "      <td>9606</td>\n",
       "      <td>2021-12-08</td>\n",
       "      <td>NaN</td>\n",
       "      <td>NaN</td>\n",
       "      <td>Asia</td>\n",
       "    </tr>\n",
       "  </tbody>\n",
       "</table>\n",
       "</div>"
      ],
      "text/plain": [
       "       Nucleotide Accession  Species Taxonomy Id  \\\n",
       "0               NC_045512.2              2697049   \n",
       "85804            OM108163.1              2697049   \n",
       "560542           OL676391.1              2697049   \n",
       "806923           OM095411.1              2697049   \n",
       "\n",
       "                                           Species Name      Virus Genus  \\\n",
       "0       Severe acute respiratory syndrome coronavirus 2  Betacoronavirus   \n",
       "85804   Severe acute respiratory syndrome coronavirus 2  Betacoronavirus   \n",
       "560542  Severe acute respiratory syndrome coronavirus 2  Betacoronavirus   \n",
       "806923  Severe acute respiratory syndrome coronavirus 2  Betacoronavirus   \n",
       "\n",
       "         Virus Family                                       Isolate Name  \\\n",
       "0       Coronaviridae                                         Wuhan-Hu-1   \n",
       "85804   Coronaviridae                  SARS-CoV-2/human/CHN/Delta-3/2021   \n",
       "560542  Coronaviridae  SARS-CoV-2/human/USA/hCov_19_USA_ID_IVREF_6779...   \n",
       "806923  Coronaviridae                SARS-CoV-2/human/CHN/Omicron-1/2021   \n",
       "\n",
       "        Nucleotide Length Sequence Type Nuc Completeness  \\\n",
       "0                   29903        RefSeq         complete   \n",
       "85804               29860       GenBank         complete   \n",
       "560542              29829       GenBank         complete   \n",
       "806923              29788       GenBank         complete   \n",
       "\n",
       "                           Geo Location  US State  Host Name  \\\n",
       "0                           Asia; China       NaN        NaN   \n",
       "85804              Asia; China: Beijing       NaN        NaN   \n",
       "560542  North America; USA: Bingham, ID       NaN        NaN   \n",
       "806923             Asia; China: Beijing       NaN        NaN   \n",
       "\n",
       "        Host Taxonomy ID Collection Date   BioProject BioSample      continent  \n",
       "0                   9606      2019-12-01  PRJNA485481       NaN           Asia  \n",
       "85804               9606      2021-08-14          NaN       NaN           Asia  \n",
       "560542              9606      2020-01-01          NaN       NaN  North America  \n",
       "806923              9606      2021-12-08          NaN       NaN           Asia  "
      ]
     },
     "execution_count": 94,
     "metadata": {},
     "output_type": "execute_result"
    }
   ],
   "source": [
    "selected_sequences = covid[covid['Nucleotide Accession'].isin(nucleotide_ids)]\n",
    "selected_sequences"
   ]
  },
  {
   "cell_type": "markdown",
   "id": "efba6b3d-2159-44f8-96c1-3b73ef4bbccc",
   "metadata": {},
   "source": [
    "Download sequences"
   ]
  },
  {
   "cell_type": "code",
   "execution_count": 96,
   "id": "4eddc248-d6b5-4285-8599-5c7cbebe0a1e",
   "metadata": {},
   "outputs": [],
   "source": [
    "from Bio import Entrez"
   ]
  },
  {
   "cell_type": "code",
   "execution_count": 97,
   "id": "83bd02f7-e1f8-44c8-9ad4-364363cd20a2",
   "metadata": {},
   "outputs": [],
   "source": [
    "Entrez.email = \"markus101.svensson@gmail.com\"\n"
   ]
  },
  {
   "cell_type": "code",
   "execution_count": null,
   "id": "c927114a-fc1f-4126-a2b2-548f43cd0c3e",
   "metadata": {},
   "outputs": [],
   "source": []
  }
 ],
 "metadata": {
  "kernelspec": {
   "display_name": "Python 3 (ipykernel)",
   "language": "python",
   "name": "python3"
  },
  "language_info": {
   "codemirror_mode": {
    "name": "ipython",
    "version": 3
   },
   "file_extension": ".py",
   "mimetype": "text/x-python",
   "name": "python",
   "nbconvert_exporter": "python",
   "pygments_lexer": "ipython3",
   "version": "3.8.13"
  }
 },
 "nbformat": 4,
 "nbformat_minor": 5
}
