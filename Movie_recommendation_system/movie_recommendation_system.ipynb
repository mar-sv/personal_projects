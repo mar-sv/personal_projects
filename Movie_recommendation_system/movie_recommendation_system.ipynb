{
 "cells": [
  {
   "cell_type": "markdown",
   "id": "6e21e38e-7743-4b6c-809f-ee986495710d",
   "metadata": {},
   "source": [
    "Introduction\n"
   ]
  },
  {
   "cell_type": "code",
   "execution_count": 1,
   "id": "30d76a46-d24c-4144-8233-d193d82feb25",
   "metadata": {},
   "outputs": [],
   "source": [
    "import pandas as pd\n",
    "import numpy as np\n",
    "import seaborn as sns\n",
    "import matplotlib.pyplot as plt\n",
    "import regex as re\n"
   ]
  },
  {
   "cell_type": "code",
   "execution_count": 2,
   "id": "13df58ac-3f85-409c-a286-e0a6713b7c74",
   "metadata": {},
   "outputs": [],
   "source": [
    "movies = pd.read_csv('ml-25m/movies.csv')\n"
   ]
  },
  {
   "cell_type": "code",
   "execution_count": 3,
   "id": "c42b2b83-ca89-4457-8d83-15e93894abc4",
   "metadata": {},
   "outputs": [
    {
     "data": {
      "text/html": [
       "<div>\n",
       "<style scoped>\n",
       "    .dataframe tbody tr th:only-of-type {\n",
       "        vertical-align: middle;\n",
       "    }\n",
       "\n",
       "    .dataframe tbody tr th {\n",
       "        vertical-align: top;\n",
       "    }\n",
       "\n",
       "    .dataframe thead th {\n",
       "        text-align: right;\n",
       "    }\n",
       "</style>\n",
       "<table border=\"1\" class=\"dataframe\">\n",
       "  <thead>\n",
       "    <tr style=\"text-align: right;\">\n",
       "      <th></th>\n",
       "      <th>movieId</th>\n",
       "      <th>title</th>\n",
       "      <th>genres</th>\n",
       "    </tr>\n",
       "  </thead>\n",
       "  <tbody>\n",
       "    <tr>\n",
       "      <th>0</th>\n",
       "      <td>1</td>\n",
       "      <td>Toy Story (1995)</td>\n",
       "      <td>Adventure|Animation|Children|Comedy|Fantasy</td>\n",
       "    </tr>\n",
       "    <tr>\n",
       "      <th>1</th>\n",
       "      <td>2</td>\n",
       "      <td>Jumanji (1995)</td>\n",
       "      <td>Adventure|Children|Fantasy</td>\n",
       "    </tr>\n",
       "    <tr>\n",
       "      <th>2</th>\n",
       "      <td>3</td>\n",
       "      <td>Grumpier Old Men (1995)</td>\n",
       "      <td>Comedy|Romance</td>\n",
       "    </tr>\n",
       "    <tr>\n",
       "      <th>3</th>\n",
       "      <td>4</td>\n",
       "      <td>Waiting to Exhale (1995)</td>\n",
       "      <td>Comedy|Drama|Romance</td>\n",
       "    </tr>\n",
       "    <tr>\n",
       "      <th>4</th>\n",
       "      <td>5</td>\n",
       "      <td>Father of the Bride Part II (1995)</td>\n",
       "      <td>Comedy</td>\n",
       "    </tr>\n",
       "  </tbody>\n",
       "</table>\n",
       "</div>"
      ],
      "text/plain": [
       "   movieId                               title  \\\n",
       "0        1                    Toy Story (1995)   \n",
       "1        2                      Jumanji (1995)   \n",
       "2        3             Grumpier Old Men (1995)   \n",
       "3        4            Waiting to Exhale (1995)   \n",
       "4        5  Father of the Bride Part II (1995)   \n",
       "\n",
       "                                        genres  \n",
       "0  Adventure|Animation|Children|Comedy|Fantasy  \n",
       "1                   Adventure|Children|Fantasy  \n",
       "2                               Comedy|Romance  \n",
       "3                         Comedy|Drama|Romance  \n",
       "4                                       Comedy  "
      ]
     },
     "execution_count": 3,
     "metadata": {},
     "output_type": "execute_result"
    }
   ],
   "source": [
    "movies.head()\n"
   ]
  },
  {
   "cell_type": "markdown",
   "id": "d83dd9fb-fa2a-46f5-ba39-1e95cccfdff3",
   "metadata": {},
   "source": [
    "Clean the titles (remove everything thats not a latter,number och space)\n"
   ]
  },
  {
   "cell_type": "code",
   "execution_count": 4,
   "id": "227989ae-1f4d-4b16-af3e-627f5c3e3adb",
   "metadata": {},
   "outputs": [],
   "source": [
    "def clean_titles(title):\n",
    "    cleaned_title = re.sub('[^A-Za-z0-9 ]+', '', title)\n",
    "    return cleaned_title\n",
    "\n",
    "\n",
    "movies['clean_title'] = movies['title'].apply(lambda x: clean_titles(x))\n"
   ]
  },
  {
   "cell_type": "code",
   "execution_count": 5,
   "id": "08fdfff7-a118-4656-947f-bfae65691bdc",
   "metadata": {},
   "outputs": [
    {
     "data": {
      "text/html": [
       "<div>\n",
       "<style scoped>\n",
       "    .dataframe tbody tr th:only-of-type {\n",
       "        vertical-align: middle;\n",
       "    }\n",
       "\n",
       "    .dataframe tbody tr th {\n",
       "        vertical-align: top;\n",
       "    }\n",
       "\n",
       "    .dataframe thead th {\n",
       "        text-align: right;\n",
       "    }\n",
       "</style>\n",
       "<table border=\"1\" class=\"dataframe\">\n",
       "  <thead>\n",
       "    <tr style=\"text-align: right;\">\n",
       "      <th></th>\n",
       "      <th>movieId</th>\n",
       "      <th>title</th>\n",
       "      <th>genres</th>\n",
       "      <th>clean_title</th>\n",
       "    </tr>\n",
       "  </thead>\n",
       "  <tbody>\n",
       "    <tr>\n",
       "      <th>0</th>\n",
       "      <td>1</td>\n",
       "      <td>Toy Story (1995)</td>\n",
       "      <td>Adventure|Animation|Children|Comedy|Fantasy</td>\n",
       "      <td>Toy Story 1995</td>\n",
       "    </tr>\n",
       "    <tr>\n",
       "      <th>1</th>\n",
       "      <td>2</td>\n",
       "      <td>Jumanji (1995)</td>\n",
       "      <td>Adventure|Children|Fantasy</td>\n",
       "      <td>Jumanji 1995</td>\n",
       "    </tr>\n",
       "    <tr>\n",
       "      <th>2</th>\n",
       "      <td>3</td>\n",
       "      <td>Grumpier Old Men (1995)</td>\n",
       "      <td>Comedy|Romance</td>\n",
       "      <td>Grumpier Old Men 1995</td>\n",
       "    </tr>\n",
       "    <tr>\n",
       "      <th>3</th>\n",
       "      <td>4</td>\n",
       "      <td>Waiting to Exhale (1995)</td>\n",
       "      <td>Comedy|Drama|Romance</td>\n",
       "      <td>Waiting to Exhale 1995</td>\n",
       "    </tr>\n",
       "    <tr>\n",
       "      <th>4</th>\n",
       "      <td>5</td>\n",
       "      <td>Father of the Bride Part II (1995)</td>\n",
       "      <td>Comedy</td>\n",
       "      <td>Father of the Bride Part II 1995</td>\n",
       "    </tr>\n",
       "  </tbody>\n",
       "</table>\n",
       "</div>"
      ],
      "text/plain": [
       "   movieId                               title  \\\n",
       "0        1                    Toy Story (1995)   \n",
       "1        2                      Jumanji (1995)   \n",
       "2        3             Grumpier Old Men (1995)   \n",
       "3        4            Waiting to Exhale (1995)   \n",
       "4        5  Father of the Bride Part II (1995)   \n",
       "\n",
       "                                        genres  \\\n",
       "0  Adventure|Animation|Children|Comedy|Fantasy   \n",
       "1                   Adventure|Children|Fantasy   \n",
       "2                               Comedy|Romance   \n",
       "3                         Comedy|Drama|Romance   \n",
       "4                                       Comedy   \n",
       "\n",
       "                        clean_title  \n",
       "0                    Toy Story 1995  \n",
       "1                      Jumanji 1995  \n",
       "2             Grumpier Old Men 1995  \n",
       "3            Waiting to Exhale 1995  \n",
       "4  Father of the Bride Part II 1995  "
      ]
     },
     "execution_count": 5,
     "metadata": {},
     "output_type": "execute_result"
    }
   ],
   "source": [
    "movies.head()\n"
   ]
  },
  {
   "cell_type": "markdown",
   "id": "27e1aa1c-4d25-4cf9-8ffb-44df04702082",
   "metadata": {},
   "source": [
    "Now, lets create a TFIDF matrix (info on what it is)\n"
   ]
  },
  {
   "cell_type": "code",
   "execution_count": 6,
   "id": "ffd9a173-f8dc-482e-80d1-012275ca03bd",
   "metadata": {},
   "outputs": [],
   "source": [
    "from sklearn.feature_extraction.text import TfidfVectorizer\n"
   ]
  },
  {
   "cell_type": "code",
   "execution_count": 7,
   "id": "0069c644-ddbd-4080-925b-955a577ce7b1",
   "metadata": {},
   "outputs": [],
   "source": [
    "vectorize = TfidfVectorizer(ngram_range=(1, 2))\n",
    "titles_vector = vectorize.fit_transform(movies['clean_title'])\n"
   ]
  },
  {
   "cell_type": "markdown",
   "id": "64107d22-caa2-441c-8ffd-1f7fa5f134fb",
   "metadata": {},
   "source": [
    "Next, we'll compute the similarity between our search term and all the titles in our data. To do this, we're going to use something called cosine_similarity, which is available in scikit-learn — we don't need to implement it ourselves.\n",
    "\n",
    "We'll then write a function called search, which takes in a search term; in this case, the term is a title we want to search. The function will then do the following:\n",
    "\n",
    "Clean the title\n",
    "\n",
    "Convert the title into a set of numbers\n",
    "\n",
    "Use cosine_similarity to find the similarity between our search term and all the titles in our data\n"
   ]
  },
  {
   "cell_type": "code",
   "execution_count": 8,
   "id": "d048d1e3-806f-412f-8b08-4135393fc3da",
   "metadata": {},
   "outputs": [],
   "source": [
    "from sklearn.metrics.pairwise import cosine_similarity\n"
   ]
  },
  {
   "cell_type": "code",
   "execution_count": 9,
   "id": "92abc294-2a30-42fc-95b6-37ba59f615ce",
   "metadata": {},
   "outputs": [],
   "source": [
    "def search(search_term):\n",
    "    cleaned_search_term = clean_titles(search_term)\n",
    "    df = movies\n",
    "    cleaned_titles = 'title'\n",
    "    titles_vector = vectorize.transform(df[cleaned_titles])\n",
    "    search_vector = vectorize.transform([cleaned_search_term])\n",
    "    similarity = cosine_similarity(titles_vector, search_vector).flatten()\n",
    "    ind = np.argpartition(similarity, -5)[-5:]\n",
    "    return df.iloc[ind]\n"
   ]
  },
  {
   "cell_type": "code",
   "execution_count": 27,
   "id": "bfdc4ab1-2ddf-4619-8bb3-62b2f4615af4",
   "metadata": {},
   "outputs": [],
   "source": [
    "test = search('Toy')\n"
   ]
  },
  {
   "cell_type": "markdown",
   "id": "4142e1ef-de20-427a-82ea-b67840acf78b",
   "metadata": {},
   "source": [
    "Now, lets make it interactive with ipython and display!\n"
   ]
  },
  {
   "cell_type": "code",
   "execution_count": 11,
   "id": "bfadf653-af61-4c09-96e6-921ae1bf6d41",
   "metadata": {},
   "outputs": [],
   "source": [
    "import ipywidgets as widget\n",
    "from IPython.display import display\n"
   ]
  },
  {
   "cell_type": "code",
   "execution_count": 12,
   "id": "fc9d5b1d-7067-4733-9e3b-84acd6ee15f5",
   "metadata": {},
   "outputs": [
    {
     "data": {
      "application/vnd.jupyter.widget-view+json": {
       "model_id": "68bf1c2e566d4129b5ad5da401914528",
       "version_major": 2,
       "version_minor": 0
      },
      "text/plain": [
       "Text(value='Toy Story', description='Movie titles: ')"
      ]
     },
     "metadata": {},
     "output_type": "display_data"
    },
    {
     "data": {
      "application/vnd.jupyter.widget-view+json": {
       "model_id": "462c3b5f3e1e4f47aa40aa897508b9dd",
       "version_major": 2,
       "version_minor": 0
      },
      "text/plain": [
       "Output()"
      ]
     },
     "metadata": {},
     "output_type": "display_data"
    }
   ],
   "source": [
    "\n",
    "movie_input = widget.Text(\n",
    "    value='Toy Story',\n",
    "    description='Movie titles: ',\n",
    "    disabled=False\n",
    ")\n",
    "movie_list = widget.Output()\n",
    "\n",
    "\n",
    "def on_type(data):\n",
    "    with movie_list:\n",
    "        movie_list.clear_output()\n",
    "        title = data['new']\n",
    "        if len(title) > 5:\n",
    "            display(search(title))\n",
    "\n",
    "\n",
    "movie_input.observe(on_type, names='value')\n",
    "display(movie_input, movie_list)\n"
   ]
  },
  {
   "cell_type": "markdown",
   "id": "11619629-d90c-4a77-96ec-f2085d77a308",
   "metadata": {},
   "source": [
    "In the ratings.csv file, we have movie_id and rating. Each user has rated a movie, and we can see how they rated it. We'll create a function to find all the users who also liked the movie that we typed in. For example, if we type the hulk, we want to find all users who also liked the movie hulk. Then we want to see the other movies they liked because those will probably be good recommendations for us.\n"
   ]
  },
  {
   "cell_type": "code",
   "execution_count": 13,
   "id": "20617819-a0f4-4108-85ba-6350bc78630a",
   "metadata": {},
   "outputs": [
    {
     "data": {
      "text/html": [
       "<div>\n",
       "<style scoped>\n",
       "    .dataframe tbody tr th:only-of-type {\n",
       "        vertical-align: middle;\n",
       "    }\n",
       "\n",
       "    .dataframe tbody tr th {\n",
       "        vertical-align: top;\n",
       "    }\n",
       "\n",
       "    .dataframe thead th {\n",
       "        text-align: right;\n",
       "    }\n",
       "</style>\n",
       "<table border=\"1\" class=\"dataframe\">\n",
       "  <thead>\n",
       "    <tr style=\"text-align: right;\">\n",
       "      <th></th>\n",
       "      <th>userId</th>\n",
       "      <th>movieId</th>\n",
       "      <th>rating</th>\n",
       "      <th>timestamp</th>\n",
       "    </tr>\n",
       "  </thead>\n",
       "  <tbody>\n",
       "    <tr>\n",
       "      <th>0</th>\n",
       "      <td>1</td>\n",
       "      <td>296</td>\n",
       "      <td>5.0</td>\n",
       "      <td>1147880044</td>\n",
       "    </tr>\n",
       "    <tr>\n",
       "      <th>1</th>\n",
       "      <td>1</td>\n",
       "      <td>306</td>\n",
       "      <td>3.5</td>\n",
       "      <td>1147868817</td>\n",
       "    </tr>\n",
       "    <tr>\n",
       "      <th>2</th>\n",
       "      <td>1</td>\n",
       "      <td>307</td>\n",
       "      <td>5.0</td>\n",
       "      <td>1147868828</td>\n",
       "    </tr>\n",
       "    <tr>\n",
       "      <th>3</th>\n",
       "      <td>1</td>\n",
       "      <td>665</td>\n",
       "      <td>5.0</td>\n",
       "      <td>1147878820</td>\n",
       "    </tr>\n",
       "    <tr>\n",
       "      <th>4</th>\n",
       "      <td>1</td>\n",
       "      <td>899</td>\n",
       "      <td>3.5</td>\n",
       "      <td>1147868510</td>\n",
       "    </tr>\n",
       "  </tbody>\n",
       "</table>\n",
       "</div>"
      ],
      "text/plain": [
       "   userId  movieId  rating   timestamp\n",
       "0       1      296     5.0  1147880044\n",
       "1       1      306     3.5  1147868817\n",
       "2       1      307     5.0  1147868828\n",
       "3       1      665     5.0  1147878820\n",
       "4       1      899     3.5  1147868510"
      ]
     },
     "execution_count": 13,
     "metadata": {},
     "output_type": "execute_result"
    }
   ],
   "source": [
    "ratings = pd.read_csv('ml-25m/ratings.csv')\n",
    "ratings.head()\n"
   ]
  },
  {
   "cell_type": "markdown",
   "id": "4d6d0d90-4009-4aa7-845e-f61e49a0f11d",
   "metadata": {},
   "source": [
    "So now, lets just create a new dataframe with all that liked the same movie as us (lets define 4 or above as \"like\"). Lets start with Star Wars Episode 1 (movie ID = 2628)\n"
   ]
  },
  {
   "cell_type": "code",
   "execution_count": 14,
   "id": "0d68d478-93b4-4da7-8190-e1b7748cb167",
   "metadata": {},
   "outputs": [],
   "source": [
    "def find_similar_users(movie_id, ratings):\n",
    "    movie_df = pd.DataFrame()\n",
    "    movie_df = ratings[(ratings['movieId'] == movie_id)\n",
    "                       & (ratings['rating'] > 4)]\n",
    "    return movie_df\n",
    "\n",
    "\n",
    "similar_ratings = find_similar_users(2628, ratings)\n"
   ]
  },
  {
   "cell_type": "markdown",
   "id": "e5a73d5e-109a-45e7-9cd6-2a41b61c1c9d",
   "metadata": {},
   "source": [
    "Find the movies that they liked\n"
   ]
  },
  {
   "cell_type": "code",
   "execution_count": 15,
   "id": "3903554e-b74a-4667-9635-602f8e623058",
   "metadata": {},
   "outputs": [],
   "source": [
    "def find_similar_movies(user_df, ratings_df=ratings):\n",
    "    user_id_list = list(user_df['userId'])\n",
    "    similar_user_ratings = ratings[(ratings['userId'].isin(\n",
    "        user_id_list)) & (ratings['rating'] > 4)]\n",
    "    return similar_user_ratings\n",
    "\n",
    "\n",
    "similar_user_ratings = find_similar_movies(similar_ratings, ratings)\n"
   ]
  },
  {
   "cell_type": "markdown",
   "id": "a1a0460f-ffcb-46fd-bf38-bc17fd98a377",
   "metadata": {},
   "source": [
    "if 10% or above of our similar users liked the movie, save it\n"
   ]
  },
  {
   "cell_type": "code",
   "execution_count": 16,
   "id": "75be69ad-3c13-4e99-a785-26204de3b842",
   "metadata": {},
   "outputs": [],
   "source": [
    "similar_user_list = list(similar_user_ratings['userId'].unique())\n",
    "ten_percent = len(similar_user_list)*0.1\n",
    "test = similar_user_ratings['movieId'].value_counts() > ten_percent\n",
    "movies_list = list(similar_user_ratings['movieId'].value_counts()[test].index)\n"
   ]
  },
  {
   "cell_type": "markdown",
   "id": "6af73698-4bef-4b2a-98f5-0fa81c52596c",
   "metadata": {},
   "source": [
    "Now, we're going to find how many of the users in our dataset like these movies. We need to find movies that are specific to our niche. For example, if someone likes the Avengers, you want to find other movies they like that are similar to the Avengers. You don't just want all of the movies they like because they probably like many movies that don't have anything to do with the Avengers.\n",
    "\n",
    "First, lets find the percentage of all users like each of the movies, and add it as a column in the movies dataframe\n"
   ]
  },
  {
   "cell_type": "markdown",
   "id": "bfbe9bbf-6a6e-46e9-add4-be3409eeb3fe",
   "metadata": {},
   "source": [
    "all_movies_list = list(movies['movieId'].unique())\n",
    "movies['all_users_rating'] = np.nan\n",
    "number_of_users = ratings['userId'].nunique()\n",
    "for i in range(0,len(movies)):\n",
    "movie_id = movies['movieId'].iloc[i]\n",
    "movies['all_users_rating'].iloc[i] = len(ratings[(ratings['movieId'] == movie_id) & (ratings['rating'] > 4)])/number_of_users\n"
   ]
  },
  {
   "cell_type": "markdown",
   "id": "40e683bd-afd8-45cf-9d45-ed2c12e3dde6",
   "metadata": {},
   "source": [
    "Second, lets see the percentage of people that liked star wars liked the different movies\n"
   ]
  },
  {
   "cell_type": "code",
   "execution_count": 32,
   "id": "6c46f9ac-ef35-4240-ac00-c896af1e8a99",
   "metadata": {},
   "outputs": [],
   "source": [
    "new_movies = pd.read_csv('new_movies.csv')\n"
   ]
  },
  {
   "cell_type": "markdown",
   "id": "1f6eba00",
   "metadata": {},
   "source": [
    "Now, lets only recommend movies that are within the same genres. To do that, we need to first make the \"genres\" column to a list, where the \\ acts a separator. Lets create a function that does the conversion to a list and then only keep the ones with the same genres"
   ]
  },
  {
   "cell_type": "code",
   "execution_count": 181,
   "id": "6abd83f6",
   "metadata": {},
   "outputs": [
    {
     "data": {
      "text/html": [
       "<div>\n",
       "<style scoped>\n",
       "    .dataframe tbody tr th:only-of-type {\n",
       "        vertical-align: middle;\n",
       "    }\n",
       "\n",
       "    .dataframe tbody tr th {\n",
       "        vertical-align: top;\n",
       "    }\n",
       "\n",
       "    .dataframe thead th {\n",
       "        text-align: right;\n",
       "    }\n",
       "</style>\n",
       "<table border=\"1\" class=\"dataframe\">\n",
       "  <thead>\n",
       "    <tr style=\"text-align: right;\">\n",
       "      <th></th>\n",
       "      <th>Unnamed: 0</th>\n",
       "      <th>movieId</th>\n",
       "      <th>title</th>\n",
       "      <th>genres</th>\n",
       "      <th>clean_title</th>\n",
       "      <th>all_users_rating</th>\n",
       "      <th>genres_list</th>\n",
       "    </tr>\n",
       "  </thead>\n",
       "  <tbody>\n",
       "    <tr>\n",
       "      <th>0</th>\n",
       "      <td>0</td>\n",
       "      <td>1</td>\n",
       "      <td>Toy Story (1995)</td>\n",
       "      <td>Adventure|Animation|Children|Comedy|Fantasy</td>\n",
       "      <td>Toy Story 1995</td>\n",
       "      <td>0.115878</td>\n",
       "      <td>[Adventure, Animation, Children, Comedy, Fantasy]</td>\n",
       "    </tr>\n",
       "    <tr>\n",
       "      <th>1</th>\n",
       "      <td>1</td>\n",
       "      <td>2</td>\n",
       "      <td>Jumanji (1995)</td>\n",
       "      <td>Adventure|Children|Fantasy</td>\n",
       "      <td>Jumanji 1995</td>\n",
       "      <td>0.016408</td>\n",
       "      <td>[Adventure, Children, Fantasy]</td>\n",
       "    </tr>\n",
       "    <tr>\n",
       "      <th>2</th>\n",
       "      <td>2</td>\n",
       "      <td>3</td>\n",
       "      <td>Grumpier Old Men (1995)</td>\n",
       "      <td>Comedy|Romance</td>\n",
       "      <td>Grumpier Old Men 1995</td>\n",
       "      <td>0.007155</td>\n",
       "      <td>[Comedy, Romance]</td>\n",
       "    </tr>\n",
       "    <tr>\n",
       "      <th>3</th>\n",
       "      <td>3</td>\n",
       "      <td>4</td>\n",
       "      <td>Waiting to Exhale (1995)</td>\n",
       "      <td>Comedy|Drama|Romance</td>\n",
       "      <td>Waiting to Exhale 1995</td>\n",
       "      <td>0.001120</td>\n",
       "      <td>[Comedy, Drama, Romance]</td>\n",
       "    </tr>\n",
       "    <tr>\n",
       "      <th>4</th>\n",
       "      <td>4</td>\n",
       "      <td>5</td>\n",
       "      <td>Father of the Bride Part II (1995)</td>\n",
       "      <td>Comedy</td>\n",
       "      <td>Father of the Bride Part II 1995</td>\n",
       "      <td>0.005955</td>\n",
       "      <td>[Comedy]</td>\n",
       "    </tr>\n",
       "  </tbody>\n",
       "</table>\n",
       "</div>"
      ],
      "text/plain": [
       "   Unnamed: 0  movieId                               title  \\\n",
       "0           0        1                    Toy Story (1995)   \n",
       "1           1        2                      Jumanji (1995)   \n",
       "2           2        3             Grumpier Old Men (1995)   \n",
       "3           3        4            Waiting to Exhale (1995)   \n",
       "4           4        5  Father of the Bride Part II (1995)   \n",
       "\n",
       "                                        genres  \\\n",
       "0  Adventure|Animation|Children|Comedy|Fantasy   \n",
       "1                   Adventure|Children|Fantasy   \n",
       "2                               Comedy|Romance   \n",
       "3                         Comedy|Drama|Romance   \n",
       "4                                       Comedy   \n",
       "\n",
       "                        clean_title  all_users_rating  \\\n",
       "0                    Toy Story 1995          0.115878   \n",
       "1                      Jumanji 1995          0.016408   \n",
       "2             Grumpier Old Men 1995          0.007155   \n",
       "3            Waiting to Exhale 1995          0.001120   \n",
       "4  Father of the Bride Part II 1995          0.005955   \n",
       "\n",
       "                                         genres_list  \n",
       "0  [Adventure, Animation, Children, Comedy, Fantasy]  \n",
       "1                     [Adventure, Children, Fantasy]  \n",
       "2                                  [Comedy, Romance]  \n",
       "3                           [Comedy, Drama, Romance]  \n",
       "4                                           [Comedy]  "
      ]
     },
     "execution_count": 181,
     "metadata": {},
     "output_type": "execute_result"
    }
   ],
   "source": [
    "def keep_same_genres(movie_df, movie_id):\n",
    "    # Split genres to a list\n",
    "    movie_df['genres_list'] = movie_df['genres'].astype(str).str.split('|')\n",
    "    # Get the genres of the picked movie\n",
    "    movie_id_genres = movie_df[movie_df['movieId']\n",
    "                               == movie_id]['genres_list'].values[0]\n",
    "    # Convert the list of genres in movie_df to a new dataframe, with every genre as a value. The df will be expanded to 9 columns in this case.\n",
    "    genres_df = movie_df['genres_list'].apply(pd.Series).astype(str)\n",
    "    # Check if any value is in the movie_id list of genres, and then check if any value in the row is true.\n",
    "    genres_bool_df = genres_df.isin(movie_id_genres).any(axis=1)\n",
    "\n",
    "    # Finally, return the new dataframe which only contains movies that have the same genres as the picked movie\n",
    "    return movie_df[genres_bool_df]\n",
    "\n",
    "\n",
    "movies_same_genres = keep_same_genres(new_movies, 1)\n",
    "movies_same_genres.head(5)\n"
   ]
  },
  {
   "cell_type": "code",
   "execution_count": 18,
   "id": "febe1d05-22f2-4880-8c37-948a1e517dfe",
   "metadata": {},
   "outputs": [
    {
     "data": {
      "text/html": [
       "<div>\n",
       "<style scoped>\n",
       "    .dataframe tbody tr th:only-of-type {\n",
       "        vertical-align: middle;\n",
       "    }\n",
       "\n",
       "    .dataframe tbody tr th {\n",
       "        vertical-align: top;\n",
       "    }\n",
       "\n",
       "    .dataframe thead th {\n",
       "        text-align: right;\n",
       "    }\n",
       "</style>\n",
       "<table border=\"1\" class=\"dataframe\">\n",
       "  <thead>\n",
       "    <tr style=\"text-align: right;\">\n",
       "      <th></th>\n",
       "      <th>similar_users_rating</th>\n",
       "    </tr>\n",
       "  </thead>\n",
       "  <tbody>\n",
       "    <tr>\n",
       "      <th>2628</th>\n",
       "      <td>1.000000</td>\n",
       "    </tr>\n",
       "    <tr>\n",
       "      <th>260</th>\n",
       "      <td>0.723475</td>\n",
       "    </tr>\n",
       "    <tr>\n",
       "      <th>1196</th>\n",
       "      <td>0.680677</td>\n",
       "    </tr>\n",
       "    <tr>\n",
       "      <th>1210</th>\n",
       "      <td>0.679651</td>\n",
       "    </tr>\n",
       "    <tr>\n",
       "      <th>2571</th>\n",
       "      <td>0.582778</td>\n",
       "    </tr>\n",
       "    <tr>\n",
       "      <th>...</th>\n",
       "      <td>...</td>\n",
       "    </tr>\n",
       "    <tr>\n",
       "      <th>1127</th>\n",
       "      <td>0.101230</td>\n",
       "    </tr>\n",
       "    <tr>\n",
       "      <th>2617</th>\n",
       "      <td>0.100974</td>\n",
       "    </tr>\n",
       "    <tr>\n",
       "      <th>54001</th>\n",
       "      <td>0.100718</td>\n",
       "    </tr>\n",
       "    <tr>\n",
       "      <th>1923</th>\n",
       "      <td>0.100718</td>\n",
       "    </tr>\n",
       "    <tr>\n",
       "      <th>91529</th>\n",
       "      <td>0.100461</td>\n",
       "    </tr>\n",
       "  </tbody>\n",
       "</table>\n",
       "<p>155 rows × 1 columns</p>\n",
       "</div>"
      ],
      "text/plain": [
       "       similar_users_rating\n",
       "2628               1.000000\n",
       "260                0.723475\n",
       "1196               0.680677\n",
       "1210               0.679651\n",
       "2571               0.582778\n",
       "...                     ...\n",
       "1127               0.101230\n",
       "2617               0.100974\n",
       "54001              0.100718\n",
       "1923               0.100718\n",
       "91529              0.100461\n",
       "\n",
       "[155 rows x 1 columns]"
      ]
     },
     "execution_count": 18,
     "metadata": {},
     "output_type": "execute_result"
    }
   ],
   "source": [
    "def rate_similar_movies(num_similar_users, movies_list, similar_user_ratings):\n",
    "\n",
    "    similar_movies_dict = {}\n",
    "    for movie in movies_list:\n",
    "        similar_movies_dict[movie] = len(similar_user_ratings[(\n",
    "            similar_user_ratings['movieId'] == movie)])/num_similar_users\n",
    "    new_movies_df = pd.DataFrame(data=similar_movies_dict.values(\n",
    "    ), index=similar_movies_dict.keys(), columns=['similar_users_rating'])\n",
    "    return new_movies_df\n",
    "\n",
    "\n",
    "num_similar_users = len(similar_user_list)\n",
    "similar_movies_perc_df = rate_similar_movies(\n",
    "    num_similar_users, movies_list, similar_user_ratings)\n",
    "similar_movies_perc_df\n"
   ]
  },
  {
   "cell_type": "markdown",
   "id": "1b285c33-1002-4772-b53f-bc368a5a3056",
   "metadata": {},
   "source": [
    "Now, lets merge the df with the scores from our similar users and all users to one. Then, lets divide our similar user score with all user score for each of the movies. We will then select the top 10 movies of these, and make a new df with only these ones\n"
   ]
  },
  {
   "cell_type": "code",
   "execution_count": 19,
   "id": "e8c6fdb7-0a54-4ad1-81ac-d2db8c7315e0",
   "metadata": {},
   "outputs": [],
   "source": [
    "def find_top_10(movies_df, similar_movies_df):\n",
    "    merged_df = pd.merge(left=movies_df, right=similar_movies_df,\n",
    "                         how='left', left_on='movieId', right_on=similar_movies_df.index)\n",
    "    merged_df = merged_df.dropna()\n",
    "    merged_df['Score'] = merged_df['similar_users_rating'] / \\\n",
    "        merged_df['all_users_rating']\n",
    "    top_10_movies = merged_df.sort_values(\n",
    "        by='Score', ascending=False).iloc[:10, :]\n",
    "    return top_10_movies[['title', 'genres', 'Score']]\n"
   ]
  },
  {
   "cell_type": "code",
   "execution_count": 20,
   "id": "ba460c25-c297-4801-a4bd-e0c87a067fef",
   "metadata": {},
   "outputs": [
    {
     "data": {
      "text/html": [
       "<div>\n",
       "<style scoped>\n",
       "    .dataframe tbody tr th:only-of-type {\n",
       "        vertical-align: middle;\n",
       "    }\n",
       "\n",
       "    .dataframe tbody tr th {\n",
       "        vertical-align: top;\n",
       "    }\n",
       "\n",
       "    .dataframe thead th {\n",
       "        text-align: right;\n",
       "    }\n",
       "</style>\n",
       "<table border=\"1\" class=\"dataframe\">\n",
       "  <thead>\n",
       "    <tr style=\"text-align: right;\">\n",
       "      <th></th>\n",
       "      <th>title</th>\n",
       "      <th>genres</th>\n",
       "      <th>Score</th>\n",
       "    </tr>\n",
       "  </thead>\n",
       "  <tbody>\n",
       "    <tr>\n",
       "      <th>2537</th>\n",
       "      <td>Star Wars: Episode I - The Phantom Menace (1999)</td>\n",
       "      <td>Action|Adventure|Sci-Fi</td>\n",
       "      <td>41.655818</td>\n",
       "    </tr>\n",
       "    <tr>\n",
       "      <th>5270</th>\n",
       "      <td>Star Wars: Episode II - Attack of the Clones (...</td>\n",
       "      <td>Action|Adventure|Sci-Fi|IMAX</td>\n",
       "      <td>20.663292</td>\n",
       "    </tr>\n",
       "    <tr>\n",
       "      <th>9952</th>\n",
       "      <td>Star Wars: Episode III - Revenge of the Sith (...</td>\n",
       "      <td>Action|Adventure|Sci-Fi</td>\n",
       "      <td>12.809970</td>\n",
       "    </tr>\n",
       "  </tbody>\n",
       "</table>\n",
       "</div>"
      ],
      "text/plain": [
       "                                                  title  \\\n",
       "2537   Star Wars: Episode I - The Phantom Menace (1999)   \n",
       "5270  Star Wars: Episode II - Attack of the Clones (...   \n",
       "9952  Star Wars: Episode III - Revenge of the Sith (...   \n",
       "\n",
       "                            genres      Score  \n",
       "2537       Action|Adventure|Sci-Fi  41.655818  \n",
       "5270  Action|Adventure|Sci-Fi|IMAX  20.663292  \n",
       "9952       Action|Adventure|Sci-Fi  12.809970  "
      ]
     },
     "execution_count": 20,
     "metadata": {},
     "output_type": "execute_result"
    }
   ],
   "source": [
    "top_10_movies = find_top_10(new_movies, similar_movies_perc_df)\n",
    "top_10_movies.head(3)\n"
   ]
  },
  {
   "cell_type": "markdown",
   "id": "dd7ecb13-5f4f-4eb1-b407-6f1d5af3ca05",
   "metadata": {},
   "source": [
    "Before we create our simple search engine, we need to slighty modify the \"search\" function. Currently, its returning 5 of the most similar titles, but we want it to only return one. Furthermore, we only want the \"movie_id\" of the searched movie. Lets modify it slightly before creating the search engine.\n"
   ]
  },
  {
   "cell_type": "code",
   "execution_count": 21,
   "id": "22b216d2-b612-47a6-a4e4-e383f6043df4",
   "metadata": {},
   "outputs": [],
   "source": [
    "def search_one(search_term, df=new_movies):\n",
    "\n",
    "    cleaned_search_term = clean_titles(search_term)\n",
    "    titles_vector = vectorize.transform(df['title'])\n",
    "    search_vector = vectorize.transform([cleaned_search_term])\n",
    "    similarity = cosine_similarity(titles_vector, search_vector).flatten()\n",
    "    ind = np.argpartition(similarity, -1)[-1:]\n",
    "    return int(df['movieId'].iloc[ind])\n"
   ]
  },
  {
   "cell_type": "code",
   "execution_count": null,
   "id": "8c0e17d2-510a-4caf-b479-ce6b1523a3c8",
   "metadata": {},
   "outputs": [],
   "source": []
  },
  {
   "cell_type": "markdown",
   "id": "1b9c6e5e-7024-4d82-92aa-7ff97d058dfa",
   "metadata": {},
   "source": [
    "Now, lets put it all together and make a search engine!\n"
   ]
  },
  {
   "cell_type": "code",
   "execution_count": 182,
   "id": "9a96a18f-aa32-470c-b86e-61c83ea9c94a",
   "metadata": {},
   "outputs": [],
   "source": [
    "def movie_recommendation(search_term, movie_df=new_movies, rating_df=ratings):\n",
    "    # Find movie_id of movie most similar to searched term\n",
    "    movie_id = search_one(search_term)\n",
    "\n",
    "    # Find similar users\n",
    "    similar_user_df = find_similar_users(movie_id, rating_df)\n",
    "\n",
    "    # Find what movies similar users like\n",
    "    similar_movies_df = find_similar_movies(similar_user_df, rating_df)\n",
    "\n",
    "    # Make a list of similar users\n",
    "    similar_user_list = list(similar_movies_df['userId'].unique())\n",
    "\n",
    "    # Calculate how many unique users there are (number of users)\n",
    "    num_similar_users = len(similar_user_list)\n",
    "\n",
    "    # Only include movies that 10% or more of similar users liked\n",
    "    ten_percent = len(similar_user_list)*0.1\n",
    "    test = similar_movies_df['movieId'].value_counts() > ten_percent\n",
    "    movies_list = list(similar_movies_df['movieId'].value_counts()[test].index)\n",
    "    \n",
    "    # Calculate how many of the similar users liked the movies in the list\n",
    "    similar_movies_rated = rate_similar_movies(\n",
    "        num_similar_users, movies_list, similar_movies_df)\n",
    "    # Remove all the movies that does not have the same genre\n",
    "    movies_same_genre_df = keep_same_genres(movie_df,movie_id)\n",
    "\n",
    "    # Retrieve the top 10% of the movies with the \"score\"\n",
    "    recommended_df = find_top_10(movies_same_genre_df, similar_movies_rated)\n",
    "\n",
    "    return recommended_df\n"
   ]
  },
  {
   "cell_type": "code",
   "execution_count": 194,
   "id": "7f67e784-4947-416a-bb1a-53bbe980d990",
   "metadata": {},
   "outputs": [],
   "source": [
    "recommended_movies = movie_recommendation('Star Wars')\n"
   ]
  },
  {
   "cell_type": "code",
   "execution_count": 195,
   "id": "b717871c-a4a1-4f1e-bd7c-b4c4c4dd3c10",
   "metadata": {},
   "outputs": [
    {
     "data": {
      "text/html": [
       "<div>\n",
       "<style scoped>\n",
       "    .dataframe tbody tr th:only-of-type {\n",
       "        vertical-align: middle;\n",
       "    }\n",
       "\n",
       "    .dataframe tbody tr th {\n",
       "        vertical-align: top;\n",
       "    }\n",
       "\n",
       "    .dataframe thead th {\n",
       "        text-align: right;\n",
       "    }\n",
       "</style>\n",
       "<table border=\"1\" class=\"dataframe\">\n",
       "  <thead>\n",
       "    <tr style=\"text-align: right;\">\n",
       "      <th></th>\n",
       "      <th>title</th>\n",
       "      <th>genres</th>\n",
       "      <th>Score</th>\n",
       "    </tr>\n",
       "  </thead>\n",
       "  <tbody>\n",
       "    <tr>\n",
       "      <th>3290</th>\n",
       "      <td>Star Wars: Dresca</td>\n",
       "      <td>Sci-Fi</td>\n",
       "      <td>162541.000000</td>\n",
       "    </tr>\n",
       "    <tr>\n",
       "      <th>2976</th>\n",
       "      <td>Star Wars Downunder (2013)</td>\n",
       "      <td>Sci-Fi</td>\n",
       "      <td>162541.000000</td>\n",
       "    </tr>\n",
       "    <tr>\n",
       "      <th>1754</th>\n",
       "      <td>The Star Wars Holiday Special (1978)</td>\n",
       "      <td>Adventure|Children|Comedy|Sci-Fi</td>\n",
       "      <td>27090.166667</td>\n",
       "    </tr>\n",
       "    <tr>\n",
       "      <th>1271</th>\n",
       "      <td>Star Trek: Of Gods and Men (2007)</td>\n",
       "      <td>Action|Adventure|Sci-Fi</td>\n",
       "      <td>20317.625000</td>\n",
       "    </tr>\n",
       "    <tr>\n",
       "      <th>1918</th>\n",
       "      <td>Star Trek: Renegades (2015)</td>\n",
       "      <td>Action|Adventure|Sci-Fi</td>\n",
       "      <td>20317.625000</td>\n",
       "    </tr>\n",
       "    <tr>\n",
       "      <th>1787</th>\n",
       "      <td>Robot Chicken: Star Wars (2007)</td>\n",
       "      <td>Animation|Comedy|Sci-Fi</td>\n",
       "      <td>3317.163265</td>\n",
       "    </tr>\n",
       "    <tr>\n",
       "      <th>855</th>\n",
       "      <td>Star Wars: The Clone Wars (2008)</td>\n",
       "      <td>Action|Adventure|Animation|Sci-Fi</td>\n",
       "      <td>820.914141</td>\n",
       "    </tr>\n",
       "    <tr>\n",
       "      <th>3042</th>\n",
       "      <td>Solo: A Star Wars Story (2018)</td>\n",
       "      <td>Action|Adventure|Children|Sci-Fi</td>\n",
       "      <td>738.822727</td>\n",
       "    </tr>\n",
       "    <tr>\n",
       "      <th>447</th>\n",
       "      <td>Star Trek: Nemesis (2002)</td>\n",
       "      <td>Action|Drama|Sci-Fi|Thriller</td>\n",
       "      <td>359.603982</td>\n",
       "    </tr>\n",
       "    <tr>\n",
       "      <th>78</th>\n",
       "      <td>Star Trek V: The Final Frontier (1989)</td>\n",
       "      <td>Action|Sci-Fi</td>\n",
       "      <td>297.694139</td>\n",
       "    </tr>\n",
       "  </tbody>\n",
       "</table>\n",
       "</div>"
      ],
      "text/plain": [
       "                                       title  \\\n",
       "3290                       Star Wars: Dresca   \n",
       "2976              Star Wars Downunder (2013)   \n",
       "1754    The Star Wars Holiday Special (1978)   \n",
       "1271       Star Trek: Of Gods and Men (2007)   \n",
       "1918             Star Trek: Renegades (2015)   \n",
       "1787         Robot Chicken: Star Wars (2007)   \n",
       "855         Star Wars: The Clone Wars (2008)   \n",
       "3042          Solo: A Star Wars Story (2018)   \n",
       "447                Star Trek: Nemesis (2002)   \n",
       "78    Star Trek V: The Final Frontier (1989)   \n",
       "\n",
       "                                 genres          Score  \n",
       "3290                             Sci-Fi  162541.000000  \n",
       "2976                             Sci-Fi  162541.000000  \n",
       "1754   Adventure|Children|Comedy|Sci-Fi   27090.166667  \n",
       "1271            Action|Adventure|Sci-Fi   20317.625000  \n",
       "1918            Action|Adventure|Sci-Fi   20317.625000  \n",
       "1787            Animation|Comedy|Sci-Fi    3317.163265  \n",
       "855   Action|Adventure|Animation|Sci-Fi     820.914141  \n",
       "3042   Action|Adventure|Children|Sci-Fi     738.822727  \n",
       "447        Action|Drama|Sci-Fi|Thriller     359.603982  \n",
       "78                        Action|Sci-Fi     297.694139  "
      ]
     },
     "execution_count": 195,
     "metadata": {},
     "output_type": "execute_result"
    }
   ],
   "source": [
    "recommended_movies"
   ]
  },
  {
   "cell_type": "markdown",
   "id": "816c8fc5-9ce4-4681-bba1-75eb0b8e107c",
   "metadata": {},
   "source": [
    "Now, lets make an interactive search box as before with our new search engine\n"
   ]
  },
  {
   "cell_type": "code",
   "execution_count": 185,
   "id": "80bceb5e-bd7b-478f-b826-1a80ee7828ee",
   "metadata": {},
   "outputs": [
    {
     "data": {
      "application/vnd.jupyter.widget-view+json": {
       "model_id": "5eabb540e8984254b31f5055c14dea42",
       "version_major": 2,
       "version_minor": 0
      },
      "text/plain": [
       "Text(value='', description='Movie titles: ')"
      ]
     },
     "metadata": {},
     "output_type": "display_data"
    },
    {
     "data": {
      "application/vnd.jupyter.widget-view+json": {
       "model_id": "eb4064fb7ae54b49bde9789d20b4767c",
       "version_major": 2,
       "version_minor": 0
      },
      "text/plain": [
       "Output()"
      ]
     },
     "metadata": {},
     "output_type": "display_data"
    }
   ],
   "source": [
    "movie_input = widget.Text(\n",
    "    value='',\n",
    "    description='Movie titles: ',\n",
    "    disabled=False\n",
    ")\n",
    "movie_list = widget.Output()\n",
    "\n",
    "\n",
    "def on_type(data):\n",
    "    with movie_list:\n",
    "        movie_list.clear_output()\n",
    "        title = data['new']\n",
    "        if len(title) > 5:\n",
    "            display(movie_recommendation(title))\n",
    "\n",
    "\n",
    "movie_input.observe(on_type, names='value')\n",
    "display(movie_input, movie_list)\n"
   ]
  },
  {
   "cell_type": "code",
   "execution_count": null,
   "id": "d4336052",
   "metadata": {},
   "outputs": [],
   "source": []
  }
 ],
 "metadata": {
  "kernelspec": {
   "display_name": "Python 3 (ipykernel)",
   "language": "python",
   "name": "python3"
  },
  "language_info": {
   "codemirror_mode": {
    "name": "ipython",
    "version": 3
   },
   "file_extension": ".py",
   "mimetype": "text/x-python",
   "name": "python",
   "nbconvert_exporter": "python",
   "pygments_lexer": "ipython3",
   "version": "3.8.13"
  },
  "vscode": {
   "interpreter": {
    "hash": "c676df5b0d8fb324bc42826251d63e397de3e883aebe94146084a47754d9addc"
   }
  }
 },
 "nbformat": 4,
 "nbformat_minor": 5
}
