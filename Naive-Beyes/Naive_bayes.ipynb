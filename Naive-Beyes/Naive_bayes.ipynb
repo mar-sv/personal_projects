{
 "cells": [
  {
   "cell_type": "markdown",
   "id": "a6af2ae0-c218-4282-a2b9-b8ea1d26dd85",
   "metadata": {},
   "source": [
    "Lets get naive with Bayes! \n",
    "\n",
    "In this project, we are going to build a spamfilter to decide wheter a sms is spam or not.\n",
    "\n",
    "Lets get to it! "
   ]
  },
  {
   "cell_type": "code",
   "execution_count": 1,
   "id": "9d44600b-eb9e-4720-ae14-a384d02f2432",
   "metadata": {},
   "outputs": [],
   "source": [
    "import pandas as pd\n",
    "import numpy as np\n",
    "import matplotlib.pyplot as plt\n",
    "%matplotlib inline"
   ]
  },
  {
   "cell_type": "code",
   "execution_count": 2,
   "id": "13e3386d-e626-4bdc-9ccf-e7ae80975c24",
   "metadata": {},
   "outputs": [],
   "source": [
    "data = pd.read_csv('SMSSpamCollection',sep = '\\t', header=None, names = ['Label','SMS'])"
   ]
  },
  {
   "cell_type": "code",
   "execution_count": 3,
   "id": "a4e90330-c750-465a-968a-657b0c9fa01d",
   "metadata": {},
   "outputs": [
    {
     "data": {
      "text/html": [
       "<div>\n",
       "<style scoped>\n",
       "    .dataframe tbody tr th:only-of-type {\n",
       "        vertical-align: middle;\n",
       "    }\n",
       "\n",
       "    .dataframe tbody tr th {\n",
       "        vertical-align: top;\n",
       "    }\n",
       "\n",
       "    .dataframe thead th {\n",
       "        text-align: right;\n",
       "    }\n",
       "</style>\n",
       "<table border=\"1\" class=\"dataframe\">\n",
       "  <thead>\n",
       "    <tr style=\"text-align: right;\">\n",
       "      <th></th>\n",
       "      <th>Label</th>\n",
       "      <th>SMS</th>\n",
       "    </tr>\n",
       "  </thead>\n",
       "  <tbody>\n",
       "    <tr>\n",
       "      <th>0</th>\n",
       "      <td>ham</td>\n",
       "      <td>Go until jurong point, crazy.. Available only ...</td>\n",
       "    </tr>\n",
       "    <tr>\n",
       "      <th>1</th>\n",
       "      <td>ham</td>\n",
       "      <td>Ok lar... Joking wif u oni...</td>\n",
       "    </tr>\n",
       "    <tr>\n",
       "      <th>2</th>\n",
       "      <td>spam</td>\n",
       "      <td>Free entry in 2 a wkly comp to win FA Cup fina...</td>\n",
       "    </tr>\n",
       "    <tr>\n",
       "      <th>3</th>\n",
       "      <td>ham</td>\n",
       "      <td>U dun say so early hor... U c already then say...</td>\n",
       "    </tr>\n",
       "    <tr>\n",
       "      <th>4</th>\n",
       "      <td>ham</td>\n",
       "      <td>Nah I don't think he goes to usf, he lives aro...</td>\n",
       "    </tr>\n",
       "    <tr>\n",
       "      <th>...</th>\n",
       "      <td>...</td>\n",
       "      <td>...</td>\n",
       "    </tr>\n",
       "    <tr>\n",
       "      <th>5567</th>\n",
       "      <td>spam</td>\n",
       "      <td>This is the 2nd time we have tried 2 contact u...</td>\n",
       "    </tr>\n",
       "    <tr>\n",
       "      <th>5568</th>\n",
       "      <td>ham</td>\n",
       "      <td>Will ü b going to esplanade fr home?</td>\n",
       "    </tr>\n",
       "    <tr>\n",
       "      <th>5569</th>\n",
       "      <td>ham</td>\n",
       "      <td>Pity, * was in mood for that. So...any other s...</td>\n",
       "    </tr>\n",
       "    <tr>\n",
       "      <th>5570</th>\n",
       "      <td>ham</td>\n",
       "      <td>The guy did some bitching but I acted like i'd...</td>\n",
       "    </tr>\n",
       "    <tr>\n",
       "      <th>5571</th>\n",
       "      <td>ham</td>\n",
       "      <td>Rofl. Its true to its name</td>\n",
       "    </tr>\n",
       "  </tbody>\n",
       "</table>\n",
       "<p>5572 rows × 2 columns</p>\n",
       "</div>"
      ],
      "text/plain": [
       "     Label                                                SMS\n",
       "0      ham  Go until jurong point, crazy.. Available only ...\n",
       "1      ham                      Ok lar... Joking wif u oni...\n",
       "2     spam  Free entry in 2 a wkly comp to win FA Cup fina...\n",
       "3      ham  U dun say so early hor... U c already then say...\n",
       "4      ham  Nah I don't think he goes to usf, he lives aro...\n",
       "...    ...                                                ...\n",
       "5567  spam  This is the 2nd time we have tried 2 contact u...\n",
       "5568   ham               Will ü b going to esplanade fr home?\n",
       "5569   ham  Pity, * was in mood for that. So...any other s...\n",
       "5570   ham  The guy did some bitching but I acted like i'd...\n",
       "5571   ham                         Rofl. Its true to its name\n",
       "\n",
       "[5572 rows x 2 columns]"
      ]
     },
     "execution_count": 3,
     "metadata": {},
     "output_type": "execute_result"
    }
   ],
   "source": [
    "data"
   ]
  },
  {
   "cell_type": "code",
   "execution_count": 4,
   "id": "6ad830f8-7490-4c44-93fe-6b661fcd9f90",
   "metadata": {},
   "outputs": [
    {
     "name": "stdout",
     "output_type": "stream",
     "text": [
      "<class 'pandas.core.frame.DataFrame'>\n",
      "RangeIndex: 5572 entries, 0 to 5571\n",
      "Data columns (total 2 columns):\n",
      " #   Column  Non-Null Count  Dtype \n",
      "---  ------  --------------  ----- \n",
      " 0   Label   5572 non-null   object\n",
      " 1   SMS     5572 non-null   object\n",
      "dtypes: object(2)\n",
      "memory usage: 87.2+ KB\n"
     ]
    }
   ],
   "source": [
    "data.info()"
   ]
  },
  {
   "cell_type": "markdown",
   "id": "34aa8cf2-da8d-4278-abf7-2f6ddf18bcfb",
   "metadata": {},
   "source": [
    "5572 entries, and no null values (yay) "
   ]
  },
  {
   "cell_type": "code",
   "execution_count": 5,
   "id": "ec5b5651-4605-4165-8851-c530ab86a97c",
   "metadata": {},
   "outputs": [
    {
     "data": {
      "text/plain": [
       "Label    4825\n",
       "SMS      4825\n",
       "dtype: int64"
      ]
     },
     "execution_count": 5,
     "metadata": {},
     "output_type": "execute_result"
    }
   ],
   "source": [
    "data[data['Label'] == 'ham'].count()"
   ]
  },
  {
   "cell_type": "code",
   "execution_count": 6,
   "id": "1158755f-6150-42cb-a94a-67b3780fd8a9",
   "metadata": {},
   "outputs": [
    {
     "data": {
      "text/plain": [
       "Label    747\n",
       "SMS      747\n",
       "dtype: int64"
      ]
     },
     "execution_count": 6,
     "metadata": {},
     "output_type": "execute_result"
    }
   ],
   "source": [
    "data[data['Label'] == 'spam'].count()"
   ]
  },
  {
   "cell_type": "markdown",
   "id": "d44c0ad2-0618-4413-8e69-ef293f03247c",
   "metadata": {},
   "source": [
    "So the majority of the smses are not spam (aka ham) "
   ]
  },
  {
   "cell_type": "markdown",
   "id": "8f8b6752-ff56-4bea-b744-4046a1e4fd82",
   "metadata": {},
   "source": [
    "In order for this to work properly (or more so lets see if it actually can detect spam) lets create a test and training set by first randomize the whole dataset"
   ]
  },
  {
   "cell_type": "code",
   "execution_count": 7,
   "id": "9908a9cd-f033-444a-b2cd-584d20ea5774",
   "metadata": {},
   "outputs": [],
   "source": [
    "random_data = data.sample(frac=1,random_state=1)"
   ]
  },
  {
   "cell_type": "code",
   "execution_count": 8,
   "id": "7961fbac-322d-44f2-bec0-c3e96a40a5b9",
   "metadata": {},
   "outputs": [],
   "source": [
    "cut_off = int(len(random_data)*0.8)"
   ]
  },
  {
   "cell_type": "code",
   "execution_count": 9,
   "id": "dcce778e-afc5-46a9-b337-0b01f9719e5a",
   "metadata": {},
   "outputs": [],
   "source": [
    "training_set = random_data.iloc[:cut_off,:].reset_index()"
   ]
  },
  {
   "cell_type": "code",
   "execution_count": 10,
   "id": "7c88447d-160b-47bd-b459-40f7f066f211",
   "metadata": {},
   "outputs": [],
   "source": [
    "test_set = random_data.iloc[cut_off:,:].reset_index()"
   ]
  },
  {
   "cell_type": "code",
   "execution_count": 11,
   "id": "de34eaab-0d26-4221-8c52-638ae63cf64f",
   "metadata": {},
   "outputs": [
    {
     "name": "stdout",
     "output_type": "stream",
     "text": [
      "<class 'pandas.core.frame.DataFrame'>\n",
      "RangeIndex: 4457 entries, 0 to 4456\n",
      "Data columns (total 3 columns):\n",
      " #   Column  Non-Null Count  Dtype \n",
      "---  ------  --------------  ----- \n",
      " 0   index   4457 non-null   int64 \n",
      " 1   Label   4457 non-null   object\n",
      " 2   SMS     4457 non-null   object\n",
      "dtypes: int64(1), object(2)\n",
      "memory usage: 104.6+ KB\n"
     ]
    }
   ],
   "source": [
    "training_set.info()"
   ]
  },
  {
   "cell_type": "code",
   "execution_count": 12,
   "id": "3310d514-7b0d-4836-a8aa-cca90bd4b7f4",
   "metadata": {},
   "outputs": [
    {
     "name": "stdout",
     "output_type": "stream",
     "text": [
      "<class 'pandas.core.frame.DataFrame'>\n",
      "RangeIndex: 1115 entries, 0 to 1114\n",
      "Data columns (total 3 columns):\n",
      " #   Column  Non-Null Count  Dtype \n",
      "---  ------  --------------  ----- \n",
      " 0   index   1115 non-null   int64 \n",
      " 1   Label   1115 non-null   object\n",
      " 2   SMS     1115 non-null   object\n",
      "dtypes: int64(1), object(2)\n",
      "memory usage: 26.3+ KB\n"
     ]
    }
   ],
   "source": [
    "test_set.info()"
   ]
  },
  {
   "cell_type": "code",
   "execution_count": 13,
   "id": "57298d3d-d886-49c6-8f08-6b70abbde933",
   "metadata": {},
   "outputs": [
    {
     "data": {
      "text/plain": [
       "ham     0.86538\n",
       "spam    0.13462\n",
       "Name: Label, dtype: float64"
      ]
     },
     "execution_count": 13,
     "metadata": {},
     "output_type": "execute_result"
    }
   ],
   "source": [
    "training_set['Label'].value_counts(normalize = True)"
   ]
  },
  {
   "cell_type": "code",
   "execution_count": 14,
   "id": "e9b6486b-7828-49a8-9538-0413b61bbd2b",
   "metadata": {},
   "outputs": [
    {
     "data": {
      "text/plain": [
       "ham     0.868161\n",
       "spam    0.131839\n",
       "Name: Label, dtype: float64"
      ]
     },
     "execution_count": 14,
     "metadata": {},
     "output_type": "execute_result"
    }
   ],
   "source": [
    "test_set['Label'].value_counts(normalize=True)"
   ]
  },
  {
   "cell_type": "markdown",
   "id": "fd914e5d-491b-48fb-b86a-a1f33a7d3e80",
   "metadata": {},
   "source": [
    "Good distrivution of spam sms in both of the sets, lets gooooooo! "
   ]
  },
  {
   "cell_type": "code",
   "execution_count": 15,
   "id": "4ac3876b-a09a-4ff5-bbeb-aa823c9efe13",
   "metadata": {},
   "outputs": [],
   "source": [
    "import re\n",
    "def data_cleaning(str):\n",
    "    return re.sub('\\W',' ',str).lower()"
   ]
  },
  {
   "cell_type": "code",
   "execution_count": 16,
   "id": "77e49aaa-34e8-4ea9-9cbd-f16c47668fdc",
   "metadata": {},
   "outputs": [],
   "source": [
    "training_set['SMS'] = training_set['SMS'].apply(data_cleaning).str.lower()"
   ]
  },
  {
   "cell_type": "code",
   "execution_count": 17,
   "id": "a5a9f21c-26da-4d78-98a0-51dd90bbe367",
   "metadata": {},
   "outputs": [
    {
     "data": {
      "text/plain": [
       "0                            yep  by the pretty sculpture\n",
       "1           yes  princess  are you going to make me moan \n",
       "2                              welp apparently he retired\n",
       "3                                                 havent \n",
       "4       i forgot 2 ask ü all smth   there s a card on ...\n",
       "                              ...                        \n",
       "4452               how about clothes  jewelry  and trips \n",
       "4453    sorry  i ll call later in meeting any thing re...\n",
       "4454    babe  i fucking love you too    you know  fuck...\n",
       "4455    u ve been selected to stay in 1 of 250 top bri...\n",
       "4456    hello my boytoy     geeee i miss you already a...\n",
       "Name: SMS, Length: 4457, dtype: object"
      ]
     },
     "execution_count": 17,
     "metadata": {},
     "output_type": "execute_result"
    }
   ],
   "source": [
    "training_set['SMS']"
   ]
  },
  {
   "cell_type": "code",
   "execution_count": 18,
   "id": "590afec4-5830-4764-95a4-75508c8b58c1",
   "metadata": {},
   "outputs": [],
   "source": [
    "training_set['SMS'] = training_set['SMS'].str.split()"
   ]
  },
  {
   "cell_type": "code",
   "execution_count": 19,
   "id": "b4339752-e4d3-4fb3-b984-d090ce6e5c9a",
   "metadata": {},
   "outputs": [],
   "source": [
    "vocabulary = []\n",
    "\n",
    "for lst in training_set['SMS']:\n",
    "    for string in lst:\n",
    "        vocabulary.append(string)"
   ]
  },
  {
   "cell_type": "code",
   "execution_count": 20,
   "id": "933be925-76c9-4936-9a56-53bf077ba3ec",
   "metadata": {},
   "outputs": [],
   "source": [
    "vocabulary = set(vocabulary)"
   ]
  },
  {
   "cell_type": "code",
   "execution_count": 21,
   "id": "4c57c13c-ed50-4bf3-9c2d-8e2c10dd6ca1",
   "metadata": {},
   "outputs": [],
   "source": [
    "vocabulary = list(vocabulary)"
   ]
  },
  {
   "cell_type": "code",
   "execution_count": 22,
   "id": "d4539aa6-6b23-4b4f-bfb9-5a2d1b1a5959",
   "metadata": {},
   "outputs": [
    {
     "data": {
      "text/plain": [
       "7782"
      ]
     },
     "execution_count": 22,
     "metadata": {},
     "output_type": "execute_result"
    }
   ],
   "source": [
    "len(vocabulary)"
   ]
  },
  {
   "cell_type": "markdown",
   "id": "a7c77044-14cc-4bcd-bcfd-dba9fa702951",
   "metadata": {},
   "source": [
    "Now when we have a list of all the possible words in the SMS col, lets create a dataframe that says how many of the words are in each SMS"
   ]
  },
  {
   "cell_type": "code",
   "execution_count": null,
   "id": "035f6ab6-0ef6-4602-b242-df47740783d8",
   "metadata": {},
   "outputs": [],
   "source": []
  },
  {
   "cell_type": "code",
   "execution_count": 23,
   "id": "eebc7296-a704-4c16-ae4b-024a2249c83e",
   "metadata": {},
   "outputs": [],
   "source": [
    "word_counts_per_sms = {unique_word: [0]*len(training_set['SMS']) for unique_word in vocabulary}"
   ]
  },
  {
   "cell_type": "code",
   "execution_count": 24,
   "id": "9433c47a-3d0b-4aac-8959-02e99c7ed8d4",
   "metadata": {},
   "outputs": [],
   "source": [
    "for index, sms in enumerate(training_set['SMS']):\n",
    "    for word in sms:\n",
    "        if word != '':\n",
    "            word_counts_per_sms[word][index] +=1"
   ]
  },
  {
   "cell_type": "code",
   "execution_count": 25,
   "id": "c0be1d1f-49cc-4cdc-9f56-9482dca73aaf",
   "metadata": {},
   "outputs": [],
   "source": [
    "training_word_count = pd.DataFrame(word_counts_per_sms)"
   ]
  },
  {
   "cell_type": "code",
   "execution_count": 26,
   "id": "7b8d53d1-4c52-4f65-8750-57f28be5d99d",
   "metadata": {},
   "outputs": [],
   "source": [
    "training_set = pd.concat([training_set,training_word_count],axis=1)"
   ]
  },
  {
   "cell_type": "markdown",
   "id": "cbf50119-595c-41ee-8f1c-4a194d049481",
   "metadata": {},
   "source": [
    "Lets start to do some classification! First, lets define p_spam, Nspam etc..."
   ]
  },
  {
   "cell_type": "code",
   "execution_count": 27,
   "id": "7f0176d2-2770-425f-8c31-3c8a0146d42c",
   "metadata": {},
   "outputs": [],
   "source": [
    "p_non_spam, p_spam =training_set['Label'].value_counts(normalize = True)"
   ]
  },
  {
   "cell_type": "code",
   "execution_count": 30,
   "id": "318e287f-e905-4f35-aaba-2938efad6cf2",
   "metadata": {},
   "outputs": [],
   "source": [
    "# Isolating spam and ham messages first\n",
    "spam_messages = training_set[training_set['Label'] == 'spam']\n",
    "ham_messages = training_set[training_set['Label'] == 'ham']\n",
    "\n",
    "# P(Spam) and P(Ham)\n",
    "p_spam = len(spam_messages) / len(training_set)\n",
    "p_ham = len(ham_messages) / len(training_set)\n",
    "\n",
    "# N_Spam\n",
    "n_words_per_spam_message = spam_messages['SMS'].apply(len)\n",
    "n_spam = n_words_per_spam_message.sum()\n",
    "\n",
    "# N_Ham\n",
    "n_words_per_ham_message = ham_messages['SMS'].apply(len)\n",
    "n_ham = n_words_per_ham_message.sum()\n",
    "\n",
    "# N_Vocabulary\n",
    "n_vocabulary = len(vocabulary)\n",
    "\n",
    "# Laplace smoothing\n",
    "alpha = 1"
   ]
  },
  {
   "cell_type": "code",
   "execution_count": null,
   "id": "a4ad1e32-1cc3-41bb-9164-456c9a3b5049",
   "metadata": {},
   "outputs": [],
   "source": []
  },
  {
   "cell_type": "markdown",
   "id": "f326b745-0a08-4fc7-b88c-47dad0f5d1de",
   "metadata": {},
   "source": [
    "Time to calculate the frequecy of words in that are spam and ham, for each individual word"
   ]
  },
  {
   "cell_type": "code",
   "execution_count": 31,
   "id": "0e2f1c7a-af0a-452c-a07d-4632f140718b",
   "metadata": {},
   "outputs": [],
   "source": [
    "spam_dict ={unique_word: 0 for unique_word in vocabulary}\n",
    "ham_dict = {unique_word: 0 for unique_word in vocabulary}"
   ]
  },
  {
   "cell_type": "code",
   "execution_count": 32,
   "id": "06090683-69c1-45cb-9005-6d28b44f2273",
   "metadata": {},
   "outputs": [
    {
     "data": {
      "text/plain": [
       "0       None\n",
       "1       None\n",
       "2       None\n",
       "3       None\n",
       "4       None\n",
       "        ... \n",
       "4452    None\n",
       "4453    None\n",
       "4454    None\n",
       "4455    None\n",
       "4456    None\n",
       "Length: 4457, dtype: object"
      ]
     },
     "execution_count": 32,
     "metadata": {},
     "output_type": "execute_result"
    }
   ],
   "source": [
    "def count_words_for_words(row):\n",
    "    if row['Label'] == 'ham':\n",
    "        for word in row['SMS']:\n",
    "                ham_dict[word] +=1\n",
    "    else:\n",
    "        for word in row['SMS']:\n",
    "                spam_dict[word] +=1\n",
    "training_set.apply(count_words_for_words,axis=1)"
   ]
  },
  {
   "cell_type": "code",
   "execution_count": 33,
   "id": "4daf5287-55a5-4130-ac46-41c8ff8178d9",
   "metadata": {},
   "outputs": [],
   "source": [
    "probability_spam_dict ={unique_word: 0 for unique_word in vocabulary}\n",
    "probability_ham_dict ={unique_word: 0 for unique_word in vocabulary}\n"
   ]
  },
  {
   "cell_type": "code",
   "execution_count": 34,
   "id": "09134473-9fa2-470b-95b4-d6c51bb15e9f",
   "metadata": {},
   "outputs": [],
   "source": [
    "for key,value in probability_spam_dict.items():\n",
    "    probability_spam_dict[key] = (spam_dict[key]+alpha)/(n_spam+alpha*n_vocabulary)\n",
    "\n",
    "for key,value in probability_ham_dict.items():\n",
    "    probability_ham_dict[key] = (ham_dict[key]+alpha)/(n_spam+alpha*n_vocabulary)\n"
   ]
  },
  {
   "cell_type": "code",
   "execution_count": 38,
   "id": "a5ca958d-3d3b-43ec-81e8-2416f9697082",
   "metadata": {},
   "outputs": [],
   "source": [
    "def classify(message):\n",
    "\n",
    "    message = re.sub('\\W', ' ', message)\n",
    "    message = message.lower()\n",
    "    message = message.split()\n",
    "\n",
    "    \n",
    "    p_spam_given_message = p_spam \n",
    "    for word in message:\n",
    "        if word not in probability_spam_dict:\n",
    "            p_spam_given_message *= alpha/(n_vocabulary*alpha+n_spam)\n",
    "        else: \n",
    "            p_spam_given_message *= probability_spam_dict[word]\n",
    "    \n",
    "    p_ham_given_message = p_non_spam\n",
    "    for word in message:\n",
    "        if word not in probability_ham_dict:\n",
    "            p_ham_given_message *= alpha/(n_vocabulary*alpha+n_ham)\n",
    "        else:\n",
    "            p_ham_given_message *=probability_ham_dict[word]\n",
    "\n",
    "    if p_ham_given_message > p_spam_given_message:\n",
    "        return 'ham'\n",
    "    elif p_ham_given_message < p_spam_given_message:\n",
    "        return 'spam'\n",
    "    else:\n",
    "        return None"
   ]
  },
  {
   "cell_type": "code",
   "execution_count": 39,
   "id": "d29d74f3-ee87-4f21-9649-735029341ec5",
   "metadata": {},
   "outputs": [
    {
     "data": {
      "text/plain": [
       "'ham'"
      ]
     },
     "execution_count": 39,
     "metadata": {},
     "output_type": "execute_result"
    }
   ],
   "source": [
    "classify('WINNER!! This is the secret code to unlock the money: C3421.')"
   ]
  },
  {
   "cell_type": "code",
   "execution_count": 40,
   "id": "31ec6889-57be-4cd8-9990-8b63f6d4f0a0",
   "metadata": {},
   "outputs": [],
   "source": [
    "test_set['predicted'] = test_set['SMS'].apply(classify)"
   ]
  },
  {
   "cell_type": "code",
   "execution_count": 41,
   "id": "dd70dd29-0650-4c73-b9f5-202ba6a6849e",
   "metadata": {},
   "outputs": [
    {
     "data": {
      "text/plain": [
       "ham     0.909417\n",
       "spam    0.090583\n",
       "Name: predicted, dtype: float64"
      ]
     },
     "execution_count": 41,
     "metadata": {},
     "output_type": "execute_result"
    }
   ],
   "source": [
    "test_set['predicted'].value_counts(dropna = False,normalize=True)"
   ]
  },
  {
   "cell_type": "markdown",
   "id": "b26a3e20-af13-4481-99ce-33de5ce13d91",
   "metadata": {},
   "source": [
    "Lets calculate the accuracy of the spam filter! "
   ]
  },
  {
   "cell_type": "code",
   "execution_count": 42,
   "id": "459c8edd-7fdf-4d1e-aba3-3d7f1d160b25",
   "metadata": {},
   "outputs": [
    {
     "data": {
      "text/plain": [
       "0.9533632286995516"
      ]
     },
     "execution_count": 42,
     "metadata": {},
     "output_type": "execute_result"
    }
   ],
   "source": [
    "correct = 0\n",
    "total = len(test_set)\n",
    "\n",
    "for index,row in test_set.iterrows():\n",
    "    if row['Label'] == row['predicted']:\n",
    "        correct +=1\n",
    "        \n",
    "correct/total"
   ]
  },
  {
   "cell_type": "code",
   "execution_count": 43,
   "id": "6fa2f82d-bbde-437a-8271-f976214d3ad5",
   "metadata": {},
   "outputs": [
    {
     "data": {
      "text/plain": [
       "ham     0.868161\n",
       "spam    0.131839\n",
       "Name: Label, dtype: float64"
      ]
     },
     "execution_count": 43,
     "metadata": {},
     "output_type": "execute_result"
    }
   ],
   "source": [
    "test_set['Label'].value_counts(normalize=True)"
   ]
  },
  {
   "cell_type": "code",
   "execution_count": null,
   "id": "848e52b7-1153-4368-8f98-68d13f0d665c",
   "metadata": {},
   "outputs": [],
   "source": []
  }
 ],
 "metadata": {
  "kernelspec": {
   "display_name": "Python 3 (ipykernel)",
   "language": "python",
   "name": "python3"
  },
  "language_info": {
   "codemirror_mode": {
    "name": "ipython",
    "version": 3
   },
   "file_extension": ".py",
   "mimetype": "text/x-python",
   "name": "python",
   "nbconvert_exporter": "python",
   "pygments_lexer": "ipython3",
   "version": "3.8.13"
  }
 },
 "nbformat": 4,
 "nbformat_minor": 5
}
