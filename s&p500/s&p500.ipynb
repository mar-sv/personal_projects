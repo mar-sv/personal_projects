{
 "cells": [
  {
   "cell_type": "code",
   "execution_count": 1,
   "id": "af5a3092-4d6a-4b72-a937-886e9b14466c",
   "metadata": {},
   "outputs": [],
   "source": [
    "import pandas as pd\n",
    "import numpy as np\n",
    "import seaborn as sns\n",
    "import matplotlib.pyplot as plt\n",
    "import yfinance as yf\n",
    "import os\n",
    "from datetime import datetime,timezone"
   ]
  },
  {
   "cell_type": "code",
   "execution_count": 2,
   "id": "36e81a84-8b93-4e05-bb6d-bdc2106d152d",
   "metadata": {},
   "outputs": [],
   "source": [
    "if os.path.exists(\"sp500.csv\"):\n",
    "    sp500 = pd.read_csv(\"sp500.csv\", index_col=0)\n",
    "else:\n",
    "    sp500 = yf.Ticker(\"^GSPC\")\n",
    "    sp500 = sp500.history(period=\"max\")\n",
    "    sp500.to_csv(\"sp500.csv\")"
   ]
  },
  {
   "cell_type": "code",
   "execution_count": 3,
   "id": "92ed73ad-55c5-4640-ad25-c82cbd8c357c",
   "metadata": {},
   "outputs": [
    {
     "data": {
      "text/html": [
       "<div>\n",
       "<style scoped>\n",
       "    .dataframe tbody tr th:only-of-type {\n",
       "        vertical-align: middle;\n",
       "    }\n",
       "\n",
       "    .dataframe tbody tr th {\n",
       "        vertical-align: top;\n",
       "    }\n",
       "\n",
       "    .dataframe thead th {\n",
       "        text-align: right;\n",
       "    }\n",
       "</style>\n",
       "<table border=\"1\" class=\"dataframe\">\n",
       "  <thead>\n",
       "    <tr style=\"text-align: right;\">\n",
       "      <th></th>\n",
       "      <th>Open</th>\n",
       "      <th>High</th>\n",
       "      <th>Low</th>\n",
       "      <th>Close</th>\n",
       "      <th>Volume</th>\n",
       "      <th>Dividends</th>\n",
       "      <th>Stock Splits</th>\n",
       "    </tr>\n",
       "    <tr>\n",
       "      <th>Date</th>\n",
       "      <th></th>\n",
       "      <th></th>\n",
       "      <th></th>\n",
       "      <th></th>\n",
       "      <th></th>\n",
       "      <th></th>\n",
       "      <th></th>\n",
       "    </tr>\n",
       "  </thead>\n",
       "  <tbody>\n",
       "    <tr>\n",
       "      <th>1927-12-30 00:00:00-05:00</th>\n",
       "      <td>17.660000</td>\n",
       "      <td>17.660000</td>\n",
       "      <td>17.660000</td>\n",
       "      <td>17.660000</td>\n",
       "      <td>0</td>\n",
       "      <td>0</td>\n",
       "      <td>0</td>\n",
       "    </tr>\n",
       "    <tr>\n",
       "      <th>1928-01-03 00:00:00-05:00</th>\n",
       "      <td>17.760000</td>\n",
       "      <td>17.760000</td>\n",
       "      <td>17.760000</td>\n",
       "      <td>17.760000</td>\n",
       "      <td>0</td>\n",
       "      <td>0</td>\n",
       "      <td>0</td>\n",
       "    </tr>\n",
       "    <tr>\n",
       "      <th>1928-01-04 00:00:00-05:00</th>\n",
       "      <td>17.719999</td>\n",
       "      <td>17.719999</td>\n",
       "      <td>17.719999</td>\n",
       "      <td>17.719999</td>\n",
       "      <td>0</td>\n",
       "      <td>0</td>\n",
       "      <td>0</td>\n",
       "    </tr>\n",
       "    <tr>\n",
       "      <th>1928-01-05 00:00:00-05:00</th>\n",
       "      <td>17.549999</td>\n",
       "      <td>17.549999</td>\n",
       "      <td>17.549999</td>\n",
       "      <td>17.549999</td>\n",
       "      <td>0</td>\n",
       "      <td>0</td>\n",
       "      <td>0</td>\n",
       "    </tr>\n",
       "    <tr>\n",
       "      <th>1928-01-06 00:00:00-05:00</th>\n",
       "      <td>17.660000</td>\n",
       "      <td>17.660000</td>\n",
       "      <td>17.660000</td>\n",
       "      <td>17.660000</td>\n",
       "      <td>0</td>\n",
       "      <td>0</td>\n",
       "      <td>0</td>\n",
       "    </tr>\n",
       "    <tr>\n",
       "      <th>...</th>\n",
       "      <td>...</td>\n",
       "      <td>...</td>\n",
       "      <td>...</td>\n",
       "      <td>...</td>\n",
       "      <td>...</td>\n",
       "      <td>...</td>\n",
       "      <td>...</td>\n",
       "    </tr>\n",
       "    <tr>\n",
       "      <th>2022-11-17 00:00:00-05:00</th>\n",
       "      <td>3919.260010</td>\n",
       "      <td>3954.330078</td>\n",
       "      <td>3906.540039</td>\n",
       "      <td>3946.560059</td>\n",
       "      <td>4051780000</td>\n",
       "      <td>0</td>\n",
       "      <td>0</td>\n",
       "    </tr>\n",
       "    <tr>\n",
       "      <th>2022-11-18 00:00:00-05:00</th>\n",
       "      <td>3966.389893</td>\n",
       "      <td>3979.889893</td>\n",
       "      <td>3935.979980</td>\n",
       "      <td>3965.340088</td>\n",
       "      <td>4037360000</td>\n",
       "      <td>0</td>\n",
       "      <td>0</td>\n",
       "    </tr>\n",
       "    <tr>\n",
       "      <th>2022-11-21 00:00:00-05:00</th>\n",
       "      <td>3956.229980</td>\n",
       "      <td>3962.000000</td>\n",
       "      <td>3933.340088</td>\n",
       "      <td>3949.939941</td>\n",
       "      <td>3850690000</td>\n",
       "      <td>0</td>\n",
       "      <td>0</td>\n",
       "    </tr>\n",
       "    <tr>\n",
       "      <th>2022-11-22 00:00:00-05:00</th>\n",
       "      <td>3965.510010</td>\n",
       "      <td>4005.879883</td>\n",
       "      <td>3956.879883</td>\n",
       "      <td>4003.580078</td>\n",
       "      <td>3887990000</td>\n",
       "      <td>0</td>\n",
       "      <td>0</td>\n",
       "    </tr>\n",
       "    <tr>\n",
       "      <th>2022-11-23 00:00:00-05:00</th>\n",
       "      <td>4000.300049</td>\n",
       "      <td>4033.780029</td>\n",
       "      <td>3998.659912</td>\n",
       "      <td>4027.260010</td>\n",
       "      <td>3279720000</td>\n",
       "      <td>0</td>\n",
       "      <td>0</td>\n",
       "    </tr>\n",
       "  </tbody>\n",
       "</table>\n",
       "<p>23840 rows × 7 columns</p>\n",
       "</div>"
      ],
      "text/plain": [
       "                                  Open         High          Low        Close  \\\n",
       "Date                                                                            \n",
       "1927-12-30 00:00:00-05:00    17.660000    17.660000    17.660000    17.660000   \n",
       "1928-01-03 00:00:00-05:00    17.760000    17.760000    17.760000    17.760000   \n",
       "1928-01-04 00:00:00-05:00    17.719999    17.719999    17.719999    17.719999   \n",
       "1928-01-05 00:00:00-05:00    17.549999    17.549999    17.549999    17.549999   \n",
       "1928-01-06 00:00:00-05:00    17.660000    17.660000    17.660000    17.660000   \n",
       "...                                ...          ...          ...          ...   \n",
       "2022-11-17 00:00:00-05:00  3919.260010  3954.330078  3906.540039  3946.560059   \n",
       "2022-11-18 00:00:00-05:00  3966.389893  3979.889893  3935.979980  3965.340088   \n",
       "2022-11-21 00:00:00-05:00  3956.229980  3962.000000  3933.340088  3949.939941   \n",
       "2022-11-22 00:00:00-05:00  3965.510010  4005.879883  3956.879883  4003.580078   \n",
       "2022-11-23 00:00:00-05:00  4000.300049  4033.780029  3998.659912  4027.260010   \n",
       "\n",
       "                               Volume  Dividends  Stock Splits  \n",
       "Date                                                            \n",
       "1927-12-30 00:00:00-05:00           0          0             0  \n",
       "1928-01-03 00:00:00-05:00           0          0             0  \n",
       "1928-01-04 00:00:00-05:00           0          0             0  \n",
       "1928-01-05 00:00:00-05:00           0          0             0  \n",
       "1928-01-06 00:00:00-05:00           0          0             0  \n",
       "...                               ...        ...           ...  \n",
       "2022-11-17 00:00:00-05:00  4051780000          0             0  \n",
       "2022-11-18 00:00:00-05:00  4037360000          0             0  \n",
       "2022-11-21 00:00:00-05:00  3850690000          0             0  \n",
       "2022-11-22 00:00:00-05:00  3887990000          0             0  \n",
       "2022-11-23 00:00:00-05:00  3279720000          0             0  \n",
       "\n",
       "[23840 rows x 7 columns]"
      ]
     },
     "execution_count": 3,
     "metadata": {},
     "output_type": "execute_result"
    }
   ],
   "source": [
    "sp500"
   ]
  },
  {
   "cell_type": "code",
   "execution_count": 4,
   "id": "98acc50b-ebef-4707-b9a4-f449037c62bd",
   "metadata": {},
   "outputs": [
    {
     "name": "stdout",
     "output_type": "stream",
     "text": [
      "<class 'pandas.core.frame.DataFrame'>\n",
      "Index: 23840 entries, 1927-12-30 00:00:00-05:00 to 2022-11-23 00:00:00-05:00\n",
      "Data columns (total 7 columns):\n",
      " #   Column        Non-Null Count  Dtype  \n",
      "---  ------        --------------  -----  \n",
      " 0   Open          23840 non-null  float64\n",
      " 1   High          23840 non-null  float64\n",
      " 2   Low           23840 non-null  float64\n",
      " 3   Close         23840 non-null  float64\n",
      " 4   Volume        23840 non-null  int64  \n",
      " 5   Dividends     23840 non-null  int64  \n",
      " 6   Stock Splits  23840 non-null  int64  \n",
      "dtypes: float64(4), int64(3)\n",
      "memory usage: 1.5+ MB\n"
     ]
    }
   ],
   "source": [
    "sp500.info()"
   ]
  },
  {
   "cell_type": "code",
   "execution_count": 6,
   "id": "0e340824-343e-4138-80d8-c26c241cbb97",
   "metadata": {},
   "outputs": [],
   "source": [
    "sp500.index = pd.to_datetime(sp500.index)\n",
    "\n",
    "sp500 = sp500.drop(['Dividends','Stock Splits'],axis=1)\n",
    "\n",
    "sp500 = sp500[sp500.index> datetime(1990,12,31,tzinfo=timezone.utc)]"
   ]
  },
  {
   "cell_type": "markdown",
   "id": "ae1d6fcc-2fac-46b1-9b7f-431da9e6f902",
   "metadata": {},
   "source": [
    "Now, lets create a target variable that says whether tomorrows price is larger (True) or smaller (False)"
   ]
  },
  {
   "cell_type": "code",
   "execution_count": 8,
   "id": "6d646b6c-171b-4977-a0a3-6d5d2c950353",
   "metadata": {},
   "outputs": [
    {
     "name": "stderr",
     "output_type": "stream",
     "text": [
      "C:\\Users\\marku\\AppData\\Local\\Temp\\ipykernel_12468\\3773221041.py:6: SettingWithCopyWarning: \n",
      "A value is trying to be set on a copy of a slice from a DataFrame\n",
      "\n",
      "See the caveats in the documentation: https://pandas.pydata.org/pandas-docs/stable/user_guide/indexing.html#returning-a-view-versus-a-copy\n",
      "  sp500['Target'].iloc[i] = 0\n",
      "C:\\Users\\marku\\AppData\\Local\\Temp\\ipykernel_12468\\3773221041.py:4: SettingWithCopyWarning: \n",
      "A value is trying to be set on a copy of a slice from a DataFrame\n",
      "\n",
      "See the caveats in the documentation: https://pandas.pydata.org/pandas-docs/stable/user_guide/indexing.html#returning-a-view-versus-a-copy\n",
      "  sp500['Target'].iloc[i] = 1\n"
     ]
    }
   ],
   "source": [
    "sp500['Target'] = None\n",
    "for i in range(0,len(sp500)-1):\n",
    "    if sp500['Close'].iloc[i] < sp500['Close'].iloc[i+1]:\n",
    "        sp500['Target'].iloc[i] = 1\n",
    "    else:\n",
    "        sp500['Target'].iloc[i] = 0\n",
    "sp500 = sp500.dropna()"
   ]
  },
  {
   "cell_type": "code",
   "execution_count": 23,
   "id": "83e0d0d2-3085-45ea-87f6-fabdb46209ba",
   "metadata": {},
   "outputs": [
    {
     "data": {
      "text/plain": [
       "1    0.53515\n",
       "0    0.46485\n",
       "Name: Target, dtype: float64"
      ]
     },
     "execution_count": 23,
     "metadata": {},
     "output_type": "execute_result"
    }
   ],
   "source": [
    "sp500['Target'] = sp500['Target'].astype(int)\n",
    "sp500['Target'].value_counts(normalize=True)"
   ]
  },
  {
   "cell_type": "markdown",
   "id": "13df1810-3588-4621-94ba-8e17a181526a",
   "metadata": {},
   "source": [
    "So, now its time to build a model. Because we want to keep the order of the the data (we can not make predictions on past data with future data) cross validation wont work. However, it is possible to first define the train/test data and then use ParameterGrid for hyperparameter optimization.\n",
    "\n",
    "\n",
    "First, we are going to define librarys from sklearn"
   ]
  },
  {
   "cell_type": "code",
   "execution_count": 62,
   "id": "c531d368-6d70-4115-ac5e-cd72e292103b",
   "metadata": {},
   "outputs": [],
   "source": [
    "from sklearn.model_selection import train_test_split,ParameterGrid\n",
    "from sklearn.neighbors import KNeighborsClassifier\n",
    "from sklearn.linear_model import LogisticRegression\n",
    "from sklearn.ensemble import RandomForestClassifier\n",
    "from sklearn.metrics import accuracy_score"
   ]
  },
  {
   "cell_type": "code",
   "execution_count": 67,
   "id": "6fc3b51f-91ac-49e5-814f-2d04970c807c",
   "metadata": {},
   "outputs": [],
   "source": [
    "KNeighbors = {'name':'KNeighborsClassifier',\n",
    "             'estimator':KNeighborsClassifier(),\n",
    "             'hyperparameters': {\n",
    "                 'n_neighbors':range(1,20,2),\n",
    "                 'weights':['distance','uniform'],\n",
    "                 'algorithm':['ball_tree','kd_tree','brute'],\n",
    "                 'p':[1,2]}\n",
    "             }\n",
    "Logistic = {'name':'LogisticRegression',\n",
    "            'estimator':LogisticRegression(max_iter=10000),\n",
    "            'hyperparameters':{\n",
    "                'solver': [\"newton-cg\", \"lbfgs\", \"liblinear\"]}\n",
    "           }\n",
    "RandomForest = {'name':'RandomForest',\n",
    "                'estimator':RandomForestClassifier(),\n",
    "                'hyperparameters':{\n",
    "                    \"n_estimators\": [4, 6, 9],\n",
    "                    \"criterion\": [\"entropy\", \"gini\"],\n",
    "                    \"max_depth\": [2, 5, 10],\n",
    "                    \"max_features\": [\"log2\", \"sqrt\"],\n",
    "                    \"min_samples_leaf\": [1, 5, 8],\n",
    "                    \"min_samples_split\": [2, 3, 5]}\n",
    "               }\n",
    "\n",
    "model_list = [KNeighbors,Logistic,RandomForest]\n",
    "\n",
    "features = sp500.drop('Target',axis=1).columns\n"
   ]
  },
  {
   "cell_type": "markdown",
   "id": "52141dc2-f4fd-4261-aa24-222dd3b67ce7",
   "metadata": {},
   "source": [
    "Lets define train and test data, where the train data is oldest, and test data is the newest."
   ]
  },
  {
   "cell_type": "code",
   "execution_count": 68,
   "id": "41d1aac8-cb75-4309-be7c-1f64ee0fe1c9",
   "metadata": {},
   "outputs": [],
   "source": [
    "NUM_ROWS = sp500.shape[0]\n",
    "TEST_SIZE = 0.3\n",
    "indices = np.arange(NUM_ROWS)\n",
    "\n",
    "# usual train-val split\n",
    "train_idx, test_idx = train_test_split(indices, test_size=TEST_SIZE,shuffle=False)\n",
    "train = sp500.iloc[train_idx]\n",
    "test = sp500.iloc[test_idx]\n"
   ]
  },
  {
   "cell_type": "markdown",
   "id": "601a972f-1c3b-4baa-ae89-106189b18312",
   "metadata": {},
   "source": [
    "Lets define a function that takes in a model list with its corresponding hyper parameters, fits and calculates the accuracy score, and then returns the best score and parameters for each of the models in the model list."
   ]
  },
  {
   "cell_type": "code",
   "execution_count": 69,
   "id": "c63b7059-7dff-4f6e-a48e-777d5f191112",
   "metadata": {},
   "outputs": [],
   "source": [
    "def model_selection(model_list,df,features,target):\n",
    "\n",
    "    # Split data in train/test (note that the order of the data is kept)\n",
    "    NUM_ROWS = df.shape[0]\n",
    "    TEST_SIZE = 0.3\n",
    "    indices = np.arange(NUM_ROWS)\n",
    "    train_idx, test_idx = train_test_split(indices, test_size=TEST_SIZE,shuffle=False)\n",
    "    train = df.iloc[train_idx]\n",
    "    test = df.iloc[test_idx]\n",
    "    \n",
    "    # Hyperparameter optimization. Here, the model list will be iterated through\n",
    "    # and each of the parameters in \"hyperparameters\" will be tested with the help of ParameterGrid()\n",
    "    best_params_dict = {}\n",
    "    for model in model_list:\n",
    "        parameters = model['hyperparameters']\n",
    "        best_score = 0\n",
    "        for params in ParameterGrid(parameters):\n",
    "            estimator = model['estimator'].set_params(**params)\n",
    "            estimator.fit(train[features],train['Target'])\n",
    "            predictions = estimator.predict(test[features])\n",
    "            accuracy = accuracy_score(predictions,test['Target'])\n",
    "            if accuracy > best_score:\n",
    "                best_score = accuracy\n",
    "                best_params_dict[model['name']] = {'Best Score': best_score,'Best parameters': params}\n",
    "    return best_params_dict"
   ]
  },
  {
   "cell_type": "code",
   "execution_count": 70,
   "id": "3100723d-9236-4aa4-9107-88900f648d1e",
   "metadata": {},
   "outputs": [
    {
     "name": "stderr",
     "output_type": "stream",
     "text": [
      "C:\\Users\\marku\\AppData\\Roaming\\jupyterlab-desktop\\jlab_server\\lib\\site-packages\\scipy\\optimize\\_linesearch.py:456: LineSearchWarning: The line search algorithm did not converge\n",
      "  warn('The line search algorithm did not converge', LineSearchWarning)\n",
      "C:\\Users\\marku\\AppData\\Roaming\\jupyterlab-desktop\\jlab_server\\lib\\site-packages\\scipy\\optimize\\_linesearch.py:305: LineSearchWarning: The line search algorithm did not converge\n",
      "  warn('The line search algorithm did not converge', LineSearchWarning)\n",
      "C:\\Users\\marku\\AppData\\Roaming\\jupyterlab-desktop\\jlab_server\\lib\\site-packages\\scipy\\optimize\\_linesearch.py:415: LineSearchWarning: Rounding errors prevent the line search from converging\n",
      "  warn(msg, LineSearchWarning)\n",
      "C:\\Users\\marku\\AppData\\Roaming\\jupyterlab-desktop\\jlab_server\\lib\\site-packages\\sklearn\\utils\\optimize.py:203: UserWarning: Line Search failed\n",
      "  warnings.warn(\"Line Search failed\")\n"
     ]
    }
   ],
   "source": [
    "best_params_dict = model_selection(model_list,sp500,features,'Target')"
   ]
  },
  {
   "cell_type": "code",
   "execution_count": 71,
   "id": "56b00e78-705b-4b35-a685-67e8a22fb826",
   "metadata": {},
   "outputs": [
    {
     "data": {
      "text/plain": [
       "{'KNeighborsClassifier': {'Best Score': 0.5315091210613598,\n",
       "  'Best parameters': {'algorithm': 'ball_tree',\n",
       "   'n_neighbors': 17,\n",
       "   'p': 1,\n",
       "   'weights': 'uniform'}},\n",
       " 'LogisticRegression': {'Best Score': 0.5406301824212272,\n",
       "  'Best parameters': {'solver': 'newton-cg'}},\n",
       " 'RandomForest': {'Best Score': 0.5435323383084577,\n",
       "  'Best parameters': {'criterion': 'entropy',\n",
       "   'max_depth': 2,\n",
       "   'max_features': 'log2',\n",
       "   'min_samples_leaf': 5,\n",
       "   'min_samples_split': 2,\n",
       "   'n_estimators': 4}}}"
      ]
     },
     "execution_count": 71,
     "metadata": {},
     "output_type": "execute_result"
    }
   ],
   "source": [
    "best_params_dict"
   ]
  },
  {
   "cell_type": "markdown",
   "id": "c2e92b86-ccd6-4227-b6ca-b51510d4202b",
   "metadata": {},
   "source": [
    "So it seems that RandomForest produces the best results (marginally). Lets pick RandomForest and lets do some backtesting. Backtesting is a more robust way of predicting the stock market, where you e.g. use the first 10 years to predict the 11 th years prices, and then use the first 11 years to predict the 12th years prices (and so on). Lets make a function to automate it. But first, lets make a function creates a RandomForest model that predicts the accuracy, with the train and test data from the backtesting function as input"
   ]
  },
  {
   "cell_type": "code",
   "execution_count": 146,
   "id": "97a4c8f8-2950-4f6c-b78a-aa4526eeef25",
   "metadata": {},
   "outputs": [],
   "source": [
    "def model_execution(train,test,features,target,params):\n",
    "    rf = RandomForestClassifier()\n",
    "    rf.set_params(**params)\n",
    "    rf.fit(train[features],train[target])\n",
    "    predictions = rf.predict(test[features])\n",
    "    accuracy = accuracy_score(test[target],predictions)\n",
    "    return accuracy"
   ]
  },
  {
   "cell_type": "code",
   "execution_count": 147,
   "id": "499ae831-3d83-41c5-9d41-0857d847966d",
   "metadata": {},
   "outputs": [],
   "source": [
    "def backtesting(df,start_year,end_year,features,target,params):\n",
    "    accuracy_list = list()\n",
    "    for i in range(start_year-1,end_year):\n",
    "        train_data = df[df.index>=datetime(i,12,31,tzinfo=timezone.utc)]\n",
    "        test_data = df[(datetime(i,12,31,tzinfo=timezone.utc)<df.index)\n",
    "                       &(datetime(i+1,12,31,tzinfo=timezone.utc)>=df.index)]\n",
    "        accuracy_list.append(model_execution(train_data,test_data,features,target,params))\n",
    "    \n",
    "    return accuracy_list"
   ]
  },
  {
   "cell_type": "code",
   "execution_count": 148,
   "id": "e597b232-de73-4c45-99fc-6e1540d0111e",
   "metadata": {},
   "outputs": [],
   "source": [
    "params = best_params_dict['RandomForest']['Best parameters']\n",
    "accuracy_over_time = backtesting(sp500,2000,2022,features,'Target',params)"
   ]
  },
  {
   "cell_type": "code",
   "execution_count": 110,
   "id": "6738610d-b343-4b6c-8cdf-c07d5cd74fc5",
   "metadata": {},
   "outputs": [
    {
     "data": {
      "text/plain": [
       "[<matplotlib.axis.XTick at 0x18d750d9220>,\n",
       " <matplotlib.axis.XTick at 0x18d750d91f0>,\n",
       " <matplotlib.axis.XTick at 0x18d750b74f0>,\n",
       " <matplotlib.axis.XTick at 0x18d76112a30>,\n",
       " <matplotlib.axis.XTick at 0x18d7611a1c0>,\n",
       " <matplotlib.axis.XTick at 0x18d7611a910>,\n",
       " <matplotlib.axis.XTick at 0x18d7611e0a0>,\n",
       " <matplotlib.axis.XTick at 0x18d7611e7f0>,\n",
       " <matplotlib.axis.XTick at 0x18d7611ef40>,\n",
       " <matplotlib.axis.XTick at 0x18d7611ab80>,\n",
       " <matplotlib.axis.XTick at 0x18d76112790>]"
      ]
     },
     "execution_count": 110,
     "metadata": {},
     "output_type": "execute_result"
    },
    {
     "data": {
      "image/png": "[encoded data removed]",
      "text/plain": [
       "<Figure size 640x480 with 1 Axes>"
      ]
     },
     "metadata": {},
     "output_type": "display_data"
    }
   ],
   "source": [
    "fig = plt.figure()\n",
    "ax = fig.add_axes([0.1,0.1,0.8,0.8])\n",
    "x = range(2001,2022)\n",
    "y = accuracy_over_time\n",
    "ax.plot(x,y)\n",
    "ax.set_xticks(range(2001,2022,2))"
   ]
  },
  {
   "cell_type": "code",
   "execution_count": 112,
   "id": "c005224f-6ddc-4f5c-8c84-5a80465768cf",
   "metadata": {},
   "outputs": [
    {
     "data": {
      "text/plain": [
       "0.6071428571428571"
      ]
     },
     "execution_count": 112,
     "metadata": {},
     "output_type": "execute_result"
    }
   ],
   "source": [
    "max(accuracy_over_time)"
   ]
  },
  {
   "cell_type": "code",
   "execution_count": 113,
   "id": "3ddd34b4-5615-4d0f-9449-b48d47ae28ff",
   "metadata": {},
   "outputs": [
    {
     "data": {
      "text/plain": [
       "0.4444444444444444"
      ]
     },
     "execution_count": 113,
     "metadata": {},
     "output_type": "execute_result"
    }
   ],
   "source": [
    "min(accuracy_over_time)"
   ]
  },
  {
   "cell_type": "markdown",
   "id": "74cafc35-cdbe-4ce6-8579-8ed80ff9e84e",
   "metadata": {},
   "source": [
    "As we can see, the accuracy goes up over time (which is not unexpected, since we get more years to calibrate from with every passing year). We manage to hit a maximum accuracy of 0.61 in the year 2019, and a low of 0.44 in the year 2002."
   ]
  },
  {
   "cell_type": "markdown",
   "id": "98d2c694-bfc4-45ec-9ff6-7cae2a94d4c8",
   "metadata": {},
   "source": [
    "Since an accuracy of about 0.6 is not high enough to be a reliable accuracy, its time for some feature engineering. In the world in stock markets, many different predictors are used to forsee trends in stocks.\n",
    "\n",
    "Here, I have decided to add the additional predictors: \n",
    "\n",
    "* Rolling averages over 5 days (for closing price and volume)\n",
    "* Rolling averages over 30 days (for closing price and volume)\n",
    "* The standard deviation of the average volume (for year and month)\n"
   ]
  },
  {
   "cell_type": "code",
   "execution_count": 117,
   "id": "05a83383-c7ea-4fe1-8924-bb216a5399cc",
   "metadata": {},
   "outputs": [],
   "source": [
    "if os.path.exists(\"sp500.csv\"):\n",
    "    sp500 = pd.read_csv(\"sp500.csv\", index_col=0)\n",
    "else:\n",
    "    sp500 = yf.Ticker(\"^GSPC\")\n",
    "    sp500 = sp500.history(period=\"max\")\n",
    "    sp500.to_csv(\"sp500.csv\")\n"
   ]
  },
  {
   "cell_type": "code",
   "execution_count": 118,
   "id": "cb0e39bc-5fb6-42ee-b817-ad45d07f9546",
   "metadata": {},
   "outputs": [],
   "source": [
    "sp500.index = pd.to_datetime(sp500.index)\n",
    "sp500 = sp500.drop(['Dividends','Stock Splits'],axis=1)\n"
   ]
  },
  {
   "cell_type": "code",
   "execution_count": 122,
   "id": "0cc2d9db-fc07-4b8c-bca7-75e941e7c4a4",
   "metadata": {},
   "outputs": [],
   "source": [
    "# Rolling averages for 5 days for closing price and volume\n",
    "sp500['Closing_avg_5_days'] = sp500['Close'].rolling(5).mean()\n",
    "sp500['Volume_avg_5_days'] = sp500['Volume'].rolling(5).mean()\n",
    "\n",
    "#Rolling averages for 30 days for closing price and volume\n",
    "sp500['Closing_avg_30_days'] = sp500['Close'].rolling(30).mean()\n",
    "sp500['Volume_avg_30_days'] = sp500['Volume'].rolling(30).mean()\n",
    "\n",
    "#Standard deviation of the average volume for year and month\n",
    "sp500['Volume_std_30_days'] = sp500['Volume'].rolling(30).std()\n",
    "sp500['Volume_std_year'] = sp500['Volume'].rolling(365).std()\n"
   ]
  },
  {
   "cell_type": "code",
   "execution_count": 124,
   "id": "03a91c0a-5b5a-4ab2-8de4-e24b6124c9f7",
   "metadata": {},
   "outputs": [
    {
     "data": {
      "text/html": [
       "<div>\n",
       "<style scoped>\n",
       "    .dataframe tbody tr th:only-of-type {\n",
       "        vertical-align: middle;\n",
       "    }\n",
       "\n",
       "    .dataframe tbody tr th {\n",
       "        vertical-align: top;\n",
       "    }\n",
       "\n",
       "    .dataframe thead th {\n",
       "        text-align: right;\n",
       "    }\n",
       "</style>\n",
       "<table border=\"1\" class=\"dataframe\">\n",
       "  <thead>\n",
       "    <tr style=\"text-align: right;\">\n",
       "      <th></th>\n",
       "      <th>Open</th>\n",
       "      <th>High</th>\n",
       "      <th>Low</th>\n",
       "      <th>Close</th>\n",
       "      <th>Volume</th>\n",
       "      <th>Rolling_avg_5_days</th>\n",
       "      <th>Closing_avg_5_days</th>\n",
       "      <th>Volume_avg_5_days</th>\n",
       "      <th>Closing_avg_30_days</th>\n",
       "      <th>Volume_avg_30_days</th>\n",
       "      <th>Volume_std_30_days</th>\n",
       "      <th>Volume_std_year</th>\n",
       "    </tr>\n",
       "    <tr>\n",
       "      <th>Date</th>\n",
       "      <th></th>\n",
       "      <th></th>\n",
       "      <th></th>\n",
       "      <th></th>\n",
       "      <th></th>\n",
       "      <th></th>\n",
       "      <th></th>\n",
       "      <th></th>\n",
       "      <th></th>\n",
       "      <th></th>\n",
       "      <th></th>\n",
       "      <th></th>\n",
       "    </tr>\n",
       "  </thead>\n",
       "  <tbody>\n",
       "    <tr>\n",
       "      <th>2022-11-17 00:00:00-05:00</th>\n",
       "      <td>3919.260010</td>\n",
       "      <td>3954.330078</td>\n",
       "      <td>3906.540039</td>\n",
       "      <td>3946.560059</td>\n",
       "      <td>4051780000</td>\n",
       "      <td>3969.452002</td>\n",
       "      <td>3969.452002</td>\n",
       "      <td>4.677530e+09</td>\n",
       "      <td>3784.775016</td>\n",
       "      <td>4.649803e+09</td>\n",
       "      <td>4.447091e+08</td>\n",
       "      <td>8.674517e+08</td>\n",
       "    </tr>\n",
       "    <tr>\n",
       "      <th>2022-11-18 00:00:00-05:00</th>\n",
       "      <td>3966.389893</td>\n",
       "      <td>3979.889893</td>\n",
       "      <td>3935.979980</td>\n",
       "      <td>3965.340088</td>\n",
       "      <td>4037360000</td>\n",
       "      <td>3963.934033</td>\n",
       "      <td>3963.934033</td>\n",
       "      <td>4.366340e+09</td>\n",
       "      <td>3795.631022</td>\n",
       "      <td>4.636059e+09</td>\n",
       "      <td>4.573002e+08</td>\n",
       "      <td>8.677137e+08</td>\n",
       "    </tr>\n",
       "    <tr>\n",
       "      <th>2022-11-21 00:00:00-05:00</th>\n",
       "      <td>3956.229980</td>\n",
       "      <td>3962.000000</td>\n",
       "      <td>3933.340088</td>\n",
       "      <td>3949.939941</td>\n",
       "      <td>3850690000</td>\n",
       "      <td>3962.472021</td>\n",
       "      <td>3962.472021</td>\n",
       "      <td>4.224092e+09</td>\n",
       "      <td>3806.882690</td>\n",
       "      <td>4.636605e+09</td>\n",
       "      <td>4.563193e+08</td>\n",
       "      <td>8.676445e+08</td>\n",
       "    </tr>\n",
       "    <tr>\n",
       "      <th>2022-11-22 00:00:00-05:00</th>\n",
       "      <td>3965.510010</td>\n",
       "      <td>4005.879883</td>\n",
       "      <td>3956.879883</td>\n",
       "      <td>4003.580078</td>\n",
       "      <td>3887990000</td>\n",
       "      <td>3964.842041</td>\n",
       "      <td>3964.842041</td>\n",
       "      <td>3.998628e+09</td>\n",
       "      <td>3820.707357</td>\n",
       "      <td>4.607570e+09</td>\n",
       "      <td>4.755663e+08</td>\n",
       "      <td>8.679990e+08</td>\n",
       "    </tr>\n",
       "    <tr>\n",
       "      <th>2022-11-23 00:00:00-05:00</th>\n",
       "      <td>4000.300049</td>\n",
       "      <td>4033.780029</td>\n",
       "      <td>3998.659912</td>\n",
       "      <td>4027.260010</td>\n",
       "      <td>3279720000</td>\n",
       "      <td>3978.536035</td>\n",
       "      <td>3978.536035</td>\n",
       "      <td>3.821508e+09</td>\n",
       "      <td>3835.715023</td>\n",
       "      <td>4.583333e+09</td>\n",
       "      <td>5.233648e+08</td>\n",
       "      <td>8.698942e+08</td>\n",
       "    </tr>\n",
       "  </tbody>\n",
       "</table>\n",
       "</div>"
      ],
      "text/plain": [
       "                                  Open         High          Low        Close  \\\n",
       "Date                                                                            \n",
       "2022-11-17 00:00:00-05:00  3919.260010  3954.330078  3906.540039  3946.560059   \n",
       "2022-11-18 00:00:00-05:00  3966.389893  3979.889893  3935.979980  3965.340088   \n",
       "2022-11-21 00:00:00-05:00  3956.229980  3962.000000  3933.340088  3949.939941   \n",
       "2022-11-22 00:00:00-05:00  3965.510010  4005.879883  3956.879883  4003.580078   \n",
       "2022-11-23 00:00:00-05:00  4000.300049  4033.780029  3998.659912  4027.260010   \n",
       "\n",
       "                               Volume  Rolling_avg_5_days  Closing_avg_5_days  \\\n",
       "Date                                                                            \n",
       "2022-11-17 00:00:00-05:00  4051780000         3969.452002         3969.452002   \n",
       "2022-11-18 00:00:00-05:00  4037360000         3963.934033         3963.934033   \n",
       "2022-11-21 00:00:00-05:00  3850690000         3962.472021         3962.472021   \n",
       "2022-11-22 00:00:00-05:00  3887990000         3964.842041         3964.842041   \n",
       "2022-11-23 00:00:00-05:00  3279720000         3978.536035         3978.536035   \n",
       "\n",
       "                           Volume_avg_5_days  Closing_avg_30_days  \\\n",
       "Date                                                                \n",
       "2022-11-17 00:00:00-05:00       4.677530e+09          3784.775016   \n",
       "2022-11-18 00:00:00-05:00       4.366340e+09          3795.631022   \n",
       "2022-11-21 00:00:00-05:00       4.224092e+09          3806.882690   \n",
       "2022-11-22 00:00:00-05:00       3.998628e+09          3820.707357   \n",
       "2022-11-23 00:00:00-05:00       3.821508e+09          3835.715023   \n",
       "\n",
       "                           Volume_avg_30_days  Volume_std_30_days  \\\n",
       "Date                                                                \n",
       "2022-11-17 00:00:00-05:00        4.649803e+09        4.447091e+08   \n",
       "2022-11-18 00:00:00-05:00        4.636059e+09        4.573002e+08   \n",
       "2022-11-21 00:00:00-05:00        4.636605e+09        4.563193e+08   \n",
       "2022-11-22 00:00:00-05:00        4.607570e+09        4.755663e+08   \n",
       "2022-11-23 00:00:00-05:00        4.583333e+09        5.233648e+08   \n",
       "\n",
       "                           Volume_std_year  \n",
       "Date                                        \n",
       "2022-11-17 00:00:00-05:00     8.674517e+08  \n",
       "2022-11-18 00:00:00-05:00     8.677137e+08  \n",
       "2022-11-21 00:00:00-05:00     8.676445e+08  \n",
       "2022-11-22 00:00:00-05:00     8.679990e+08  \n",
       "2022-11-23 00:00:00-05:00     8.698942e+08  "
      ]
     },
     "execution_count": 124,
     "metadata": {},
     "output_type": "execute_result"
    }
   ],
   "source": [
    "sp500.tail()"
   ]
  },
  {
   "cell_type": "markdown",
   "id": "0c48f11b-193d-4f35-9dee-615b72f12c90",
   "metadata": {},
   "source": [
    "Now, lets only pick the stocks after 1990, and transform the target column as previously (1 equals higher than yesterday, 0 equals lower than yesterday)"
   ]
  },
  {
   "cell_type": "code",
   "execution_count": 128,
   "id": "7831e016-5f6d-4c41-be00-53e070993150",
   "metadata": {},
   "outputs": [
    {
     "name": "stderr",
     "output_type": "stream",
     "text": [
      "C:\\Users\\marku\\AppData\\Local\\Temp\\ipykernel_12468\\2478543698.py:7: SettingWithCopyWarning: \n",
      "A value is trying to be set on a copy of a slice from a DataFrame\n",
      "\n",
      "See the caveats in the documentation: https://pandas.pydata.org/pandas-docs/stable/user_guide/indexing.html#returning-a-view-versus-a-copy\n",
      "  sp500['Target'].iloc[i] = 0\n",
      "C:\\Users\\marku\\AppData\\Local\\Temp\\ipykernel_12468\\2478543698.py:5: SettingWithCopyWarning: \n",
      "A value is trying to be set on a copy of a slice from a DataFrame\n",
      "\n",
      "See the caveats in the documentation: https://pandas.pydata.org/pandas-docs/stable/user_guide/indexing.html#returning-a-view-versus-a-copy\n",
      "  sp500['Target'].iloc[i] = 1\n"
     ]
    }
   ],
   "source": [
    "sp500 = sp500[sp500.index> datetime(1990,12,31,tzinfo=timezone.utc)]\n",
    "sp500['Target'] = None\n",
    "for i in range(0,len(sp500)-1):\n",
    "    if sp500['Close'].iloc[i] < sp500['Close'].iloc[i+1]:\n",
    "        sp500['Target'].iloc[i] = 1\n",
    "    else:\n",
    "        sp500['Target'].iloc[i] = 0\n",
    "sp500 = sp500.dropna()\n",
    "sp500['Target'] = sp500['Target'].astype(int)"
   ]
  },
  {
   "cell_type": "code",
   "execution_count": 129,
   "id": "fd16b256-a561-4cc4-95f9-f8e0c0b866f9",
   "metadata": {},
   "outputs": [
    {
     "name": "stdout",
     "output_type": "stream",
     "text": [
      "<class 'pandas.core.frame.DataFrame'>\n",
      "Index: 8036 entries, 1990-12-31 00:00:00-05:00 to 2022-11-21 00:00:00-05:00\n",
      "Data columns (total 13 columns):\n",
      " #   Column               Non-Null Count  Dtype  \n",
      "---  ------               --------------  -----  \n",
      " 0   Open                 8036 non-null   float64\n",
      " 1   High                 8036 non-null   float64\n",
      " 2   Low                  8036 non-null   float64\n",
      " 3   Close                8036 non-null   float64\n",
      " 4   Volume               8036 non-null   int64  \n",
      " 5   Rolling_avg_5_days   8036 non-null   float64\n",
      " 6   Closing_avg_5_days   8036 non-null   float64\n",
      " 7   Volume_avg_5_days    8036 non-null   float64\n",
      " 8   Closing_avg_30_days  8036 non-null   float64\n",
      " 9   Volume_avg_30_days   8036 non-null   float64\n",
      " 10  Volume_std_30_days   8036 non-null   float64\n",
      " 11  Volume_std_year      8036 non-null   float64\n",
      " 12  Target               8036 non-null   int32  \n",
      "dtypes: float64(11), int32(1), int64(1)\n",
      "memory usage: 847.5+ KB\n"
     ]
    }
   ],
   "source": [
    "sp500.info()"
   ]
  },
  {
   "cell_type": "markdown",
   "id": "09e483e3-b59d-46ca-8b76-79248b90de73",
   "metadata": {},
   "source": [
    "Now its time to once again pick a model and define its hyperparameters. The function that was written earlier will be used in the same way as before."
   ]
  },
  {
   "cell_type": "code",
   "execution_count": 131,
   "id": "b2e0c4cd-bc05-4013-be6c-07fd3a48bc3b",
   "metadata": {},
   "outputs": [
    {
     "name": "stderr",
     "output_type": "stream",
     "text": [
      "C:\\Users\\marku\\AppData\\Roaming\\jupyterlab-desktop\\jlab_server\\lib\\site-packages\\scipy\\optimize\\_linesearch.py:456: LineSearchWarning: The line search algorithm did not converge\n",
      "  warn('The line search algorithm did not converge', LineSearchWarning)\n",
      "C:\\Users\\marku\\AppData\\Roaming\\jupyterlab-desktop\\jlab_server\\lib\\site-packages\\scipy\\optimize\\_linesearch.py:305: LineSearchWarning: The line search algorithm did not converge\n",
      "  warn('The line search algorithm did not converge', LineSearchWarning)\n",
      "C:\\Users\\marku\\AppData\\Roaming\\jupyterlab-desktop\\jlab_server\\lib\\site-packages\\scipy\\optimize\\_linesearch.py:415: LineSearchWarning: Rounding errors prevent the line search from converging\n",
      "  warn(msg, LineSearchWarning)\n",
      "C:\\Users\\marku\\AppData\\Roaming\\jupyterlab-desktop\\jlab_server\\lib\\site-packages\\sklearn\\utils\\optimize.py:203: UserWarning: Line Search failed\n",
      "  warnings.warn(\"Line Search failed\")\n"
     ]
    }
   ],
   "source": [
    "features = sp500.drop('Target',axis=1).columns\n",
    "best_params_dict = model_selection(model_list,sp500,features,'Target')\n"
   ]
  },
  {
   "cell_type": "code",
   "execution_count": 132,
   "id": "48412f47-fada-4e16-809e-d49adee5bdef",
   "metadata": {},
   "outputs": [
    {
     "data": {
      "text/plain": [
       "{'KNeighborsClassifier': {'Best Score': 0.5221899626710909,\n",
       "  'Best parameters': {'algorithm': 'ball_tree',\n",
       "   'n_neighbors': 15,\n",
       "   'p': 1,\n",
       "   'weights': 'uniform'}},\n",
       " 'LogisticRegression': {'Best Score': 0.5404396515968478,\n",
       "  'Best parameters': {'solver': 'newton-cg'}},\n",
       " 'RandomForest': {'Best Score': 0.5445873081708834,\n",
       "  'Best parameters': {'criterion': 'gini',\n",
       "   'max_depth': 10,\n",
       "   'max_features': 'sqrt',\n",
       "   'min_samples_leaf': 5,\n",
       "   'min_samples_split': 3,\n",
       "   'n_estimators': 4}}}"
      ]
     },
     "execution_count": 132,
     "metadata": {},
     "output_type": "execute_result"
    }
   ],
   "source": [
    "best_params_dict"
   ]
  },
  {
   "cell_type": "markdown",
   "id": "f24de1bd-b665-4162-a303-d623d2e294d4",
   "metadata": {},
   "source": [
    "So once more, the random forest takes the race! Lets use the hyperparameters from the hyperparameter optimization and lets predict the stock market using backtesting once more"
   ]
  },
  {
   "cell_type": "code",
   "execution_count": 139,
   "id": "ad20497d-7535-4b74-afa1-f4f60489ef33",
   "metadata": {},
   "outputs": [],
   "source": [
    "params = best_params_dict['RandomForest']['Best parameters']\n",
    "accuracy_over_time = backtesting(sp500,2000,2022,features,'Target',params)"
   ]
  },
  {
   "cell_type": "code",
   "execution_count": 140,
   "id": "82b18e4f-1b37-4199-8f5b-5f8cf09a96d5",
   "metadata": {},
   "outputs": [
    {
     "data": {
      "text/plain": [
       "Text(0, 0.5, 'Accuracy')"
      ]
     },
     "execution_count": 140,
     "metadata": {},
     "output_type": "execute_result"
    },
    {
     "data": {
      "image/png": "[encoded data removed]",
      "text/plain": [
       "<Figure size 640x480 with 1 Axes>"
      ]
     },
     "metadata": {},
     "output_type": "display_data"
    }
   ],
   "source": [
    "fig = plt.figure()\n",
    "ax = fig.add_axes([0.1,0.1,0.8,0.8])\n",
    "x = range(2001,2022)\n",
    "y = accuracy_over_time\n",
    "ax.plot(x,y)\n",
    "ax.set_xticks(range(2001,2022,2))\n",
    "ax.set_title('Accuracy of stock predictions using backtesting')\n",
    "ax.set_xlabel('Year')\n",
    "ax.set_ylabel('Accuracy')"
   ]
  },
  {
   "cell_type": "code",
   "execution_count": 141,
   "id": "3692ade4-7732-47d2-9035-29d4e5805060",
   "metadata": {},
   "outputs": [
    {
     "data": {
      "text/plain": [
       "0.7936507936507936"
      ]
     },
     "execution_count": 141,
     "metadata": {},
     "output_type": "execute_result"
    }
   ],
   "source": [
    "max(accuracy_over_time)\n"
   ]
  },
  {
   "cell_type": "code",
   "execution_count": 142,
   "id": "0562d6bf-540e-461f-a260-71236fe2d720",
   "metadata": {},
   "outputs": [
    {
     "data": {
      "text/plain": [
       "0.624"
      ]
     },
     "execution_count": 142,
     "metadata": {},
     "output_type": "execute_result"
    }
   ],
   "source": [
    "min(accuracy_over_time)"
   ]
  },
  {
   "cell_type": "markdown",
   "id": "1dbbb360-ab54-4615-87a2-e01f04dab394",
   "metadata": {},
   "source": [
    "A significant increase! The feature engineering made previously paid off and more can be done.\n",
    "\n",
    "\n",
    "For now, however, lets focus on the model and how it predicts whether the price has gone up or down through predict_proba. Lets set the threshold to 0.6 for now, meaning that the model has to be 60% sure that it is classifying correctly (vs. .predict() which has a defualt value of 0.5, or 50%) "
   ]
  },
  {
   "cell_type": "code",
   "execution_count": 187,
   "id": "92e0d646-425a-4bb9-89c5-c211a415de8c",
   "metadata": {},
   "outputs": [],
   "source": [
    "def model_execution_varying_threshold(train,test,features,target,params,threshold):\n",
    "    rf = RandomForestClassifier()\n",
    "    rf.set_params(**params)\n",
    "    rf.fit(train[features],train[target])\n",
    "    predictions = (rf.predict_proba(test[features])[:,1] >= threshold).astype(int)\n",
    "    accuracy = accuracy_score(test[target],predictions)\n",
    "    return accuracy"
   ]
  },
  {
   "cell_type": "code",
   "execution_count": 188,
   "id": "0b69d1a7-b2af-44b5-abf9-3387e7996d5b",
   "metadata": {},
   "outputs": [],
   "source": [
    "def backtesting_varying_threshold(df,start_year,end_year,features,target,params,threshold):\n",
    "    accuracy_list = list()\n",
    "    for i in range(start_year,end_year-1):\n",
    "        train_data = df[df.index>=datetime(i,12,31,tzinfo=timezone.utc)]\n",
    "        test_data = df[(datetime(i,12,31,tzinfo=timezone.utc)<df.index)\n",
    "                       &(datetime(i+1,12,31,tzinfo=timezone.utc)>=df.index)]\n",
    "        accuracy_list.append(model_execution_varying_threshold(train_data,test_data,features,target,\n",
    "                                                                 params,threshold))\n",
    "    \n",
    "    return accuracy_list"
   ]
  },
  {
   "cell_type": "code",
   "execution_count": 189,
   "id": "f9cb6425-bc66-4287-b5a9-03e6950e6c52",
   "metadata": {},
   "outputs": [],
   "source": [
    "accuracy_over_time = backtesting_increased_threshold(sp500,2000,2022,features,'Target',params,0.6)"
   ]
  },
  {
   "cell_type": "code",
   "execution_count": 195,
   "id": "c73bd09c-0ad1-4018-887c-92ff0dd54a02",
   "metadata": {},
   "outputs": [
    {
     "data": {
      "text/plain": [
       "Text(0, 0.5, 'Accuracy')"
      ]
     },
     "execution_count": 195,
     "metadata": {},
     "output_type": "execute_result"
    },
    {
     "data": {
      "image/png": "[encoded data removed]",
      "text/plain": [
       "<Figure size 640x480 with 1 Axes>"
      ]
     },
     "metadata": {},
     "output_type": "display_data"
    }
   ],
   "source": [
    "fig = plt.figure()\n",
    "ax = fig.add_axes([0.1,0.1,0.8,0.8])\n",
    "x = range(1999,2022)\n",
    "y = accuracy_over_time\n",
    "ax.plot(x,y)\n",
    "ax.set_xticks(range(2000,2022,2))\n",
    "ax.set_title('Accuracy of stock predictions using backtesting with a prediction-threshold of 0.6')\n",
    "ax.set_xlabel('Year')\n",
    "ax.set_ylabel('Accuracy')"
   ]
  },
  {
   "cell_type": "code",
   "execution_count": 193,
   "id": "0b24b748-8c42-4fce-b917-b63820875734",
   "metadata": {},
   "outputs": [
    {
     "data": {
      "text/plain": [
       "0.7698412698412699"
      ]
     },
     "execution_count": 193,
     "metadata": {},
     "output_type": "execute_result"
    }
   ],
   "source": [
    "max(accuracy_over_time)"
   ]
  },
  {
   "cell_type": "code",
   "execution_count": 194,
   "id": "1e9ec96c-94c1-4d39-99d1-06440a1becfa",
   "metadata": {},
   "outputs": [
    {
     "data": {
      "text/plain": [
       "0.5138339920948617"
      ]
     },
     "execution_count": 194,
     "metadata": {},
     "output_type": "execute_result"
    }
   ],
   "source": [
    "min(accuracy_over_time)"
   ]
  },
  {
   "cell_type": "markdown",
   "id": "331c75c1-9905-4553-8c25-f6ddbfd3226f",
   "metadata": {},
   "source": [
    "To wrap up, this project was trying to predict the stock market using three different machine learning models. All the models were optimized with a set of hyper parameters and measured against eachother. In this project, the RandomForestClassifier performed the best results of the three, and it was picked with its optimized hyperparameters. Afterwards, the accuracy result was increased with the help of both feature engineering and by an increased threshold for the models predictions. Future work should include further feature engineering such as: inflation rates and other macroeconomic indicators, or comparing with key stocks or sectors within the S&P500. "
   ]
  },
  {
   "cell_type": "code",
   "execution_count": null,
   "id": "c32e4175-7d62-4c0e-8db3-2e4e72c22f2b",
   "metadata": {},
   "outputs": [],
   "source": []
  }
 ],
 "metadata": {
  "kernelspec": {
   "display_name": "Python 3 (ipykernel)",
   "language": "python",
   "name": "python3"
  },
  "language_info": {
   "codemirror_mode": {
    "name": "ipython",
    "version": 3
   },
   "file_extension": ".py",
   "mimetype": "text/x-python",
   "name": "python",
   "nbconvert_exporter": "python",
   "pygments_lexer": "ipython3",
   "version": "3.8.13"
  }
 },
 "nbformat": 4,
 "nbformat_minor": 5
}
